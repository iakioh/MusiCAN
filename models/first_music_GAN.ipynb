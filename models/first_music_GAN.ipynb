{
  "nbformat": 4,
  "nbformat_minor": 0,
  "metadata": {
    "colab": {
      "name": "first-music-GAN.ipynb",
      "provenance": [],
      "authorship_tag": "ABX9TyPHPuZKZetIiDaY/JXBrWBg",
      "include_colab_link": true
    },
    "kernelspec": {
      "name": "python3",
      "display_name": "Python 3"
    },
    "language_info": {
      "name": "python"
    }
  },
  "cells": [
    {
      "cell_type": "markdown",
      "metadata": {
        "id": "view-in-github",
        "colab_type": "text"
      },
      "source": [
        "<a href=\"https://colab.research.google.com/github/iakioh/MusiCAN/blob/main/models/first_music_GAN.ipynb\" target=\"_parent\"><img src=\"https://colab.research.google.com/assets/colab-badge.svg\" alt=\"Open In Colab\"/></a>"
      ]
    },
    {
      "cell_type": "code",
      "execution_count": 2,
      "metadata": {
        "id": "3Zy36G-CGamF"
      },
      "outputs": [],
      "source": [
        "import numpy as np\n",
        "import matplotlib.pyplot as plt\n",
        "import torch"
      ]
    },
    {
      "cell_type": "markdown",
      "source": [
        "## Settings"
      ],
      "metadata": {
        "id": "tQlEdgCZNN5r"
      }
    },
    {
      "cell_type": "code",
      "source": [
        "# Pianoroll parameters\n",
        "notes_per_octave = 12\n",
        "number_octaves = 6   # as in MuseGAN\n",
        "number_pitches = number_octaves * notes_per_octave\n",
        "\n",
        "number_bars = 1\n",
        "beats_per_bar = 4   # 4/4 rythm\n",
        "blips_per_beat = 24   # temporal resolution of Lakh dataset\n",
        "number_blips  = number_bars * beats_per_bar * blips_per_beat\n",
        "\n",
        "print(f\"pianoroll array: {number_pitches}x{number_blips}\")\n",
        "\n",
        "\n",
        "# Generator parameters\n",
        "seed_length = 64"
      ],
      "metadata": {
        "colab": {
          "base_uri": "https://localhost:8080/"
        },
        "id": "RCknwD96Gj_o",
        "outputId": "c33364a4-8348-4fe6-a242-24c09e7c57bb"
      },
      "execution_count": 6,
      "outputs": [
        {
          "output_type": "stream",
          "name": "stdout",
          "text": [
            "pianoroll array: 72x96\n"
          ]
        }
      ]
    },
    {
      "cell_type": "markdown",
      "source": [
        "## Data Preparation"
      ],
      "metadata": {
        "id": "wDtbQttmNVPt"
      }
    },
    {
      "cell_type": "code",
      "source": [],
      "metadata": {
        "id": "JeRrT7a6LNr7"
      },
      "execution_count": null,
      "outputs": []
    },
    {
      "cell_type": "markdown",
      "source": [
        "## Model"
      ],
      "metadata": {
        "id": "McA_GGP2NmyE"
      }
    },
    {
      "cell_type": "code",
      "source": [
        "class Generator (torch.nn.Module) :\n",
        "    \"\"\"\n",
        "    first GAN generator\n",
        "    \"\"\"\n",
        "\n",
        "    def __init__ (self) : \n",
        "        super().__init__()\n",
        "        self.layer0 = torch.nn.Linear(seed_length, 2*seed_length)\n"
      ],
      "metadata": {
        "id": "d-DaA9gDNlfS"
      },
      "execution_count": null,
      "outputs": []
    }
  ]
}