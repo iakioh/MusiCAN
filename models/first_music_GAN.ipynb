{
  "nbformat": 4,
  "nbformat_minor": 0,
  "metadata": {
    "colab": {
      "name": "first-music-GAN.ipynb",
      "provenance": [],
      "collapsed_sections": [],
      "authorship_tag": "ABX9TyNXongt77B9axmQp0zgBi7a",
      "include_colab_link": true
    },
    "kernelspec": {
      "name": "python3",
      "display_name": "Python 3"
    },
    "language_info": {
      "name": "python"
    }
  },
  "cells": [
    {
      "cell_type": "markdown",
      "metadata": {
        "id": "view-in-github",
        "colab_type": "text"
      },
      "source": [
        "<a href=\"https://colab.research.google.com/github/iakioh/MusiCAN/blob/main/models/first_music_GAN.ipynb\" target=\"_parent\"><img src=\"https://colab.research.google.com/assets/colab-badge.svg\" alt=\"Open In Colab\"/></a>"
      ]
    },
    {
      "cell_type": "code",
      "execution_count": 2,
      "metadata": {
        "id": "3Zy36G-CGamF"
      },
      "outputs": [],
      "source": [
        "import numpy as np\n",
        "import matplotlib.pyplot as plt\n",
        "import torch"
      ]
    },
    {
      "cell_type": "markdown",
      "source": [
        "## Settings"
      ],
      "metadata": {
        "id": "tQlEdgCZNN5r"
      }
    },
    {
      "cell_type": "code",
      "source": [
        "# Pianoroll parameters\n",
        "notes_per_octave = 12\n",
        "number_octaves = 6   # as in MuseGAN\n",
        "number_pitches = number_octaves * notes_per_octave\n",
        "\n",
        "number_bars = 1\n",
        "beats_per_bar = 4   # 4/4 rythm\n",
        "blips_per_beat = 24   # temporal resolution of Lakh dataset\n",
        "number_blips  = number_bars * beats_per_bar * blips_per_beat\n",
        "\n",
        "pianoroll_size = number_pitches * number_blips\n",
        "\n",
        "print(f\"pianoroll array: {number_pitches}x{number_blips} = {pianoroll_size}\")\n",
        "\n",
        "\n",
        "# Generator parameters\n",
        "seed_length = 64\n"
      ],
      "metadata": {
        "colab": {
          "base_uri": "https://localhost:8080/"
        },
        "id": "RCknwD96Gj_o",
        "outputId": "c33364a4-8348-4fe6-a242-24c09e7c57bb"
      },
      "execution_count": 6,
      "outputs": [
        {
          "output_type": "stream",
          "name": "stdout",
          "text": [
            "pianoroll array: 72x96\n"
          ]
        }
      ]
    },
    {
      "cell_type": "markdown",
      "source": [
        "## Data Preparation"
      ],
      "metadata": {
        "id": "wDtbQttmNVPt"
      }
    },
    {
      "cell_type": "code",
      "source": [],
      "metadata": {
        "id": "JeRrT7a6LNr7"
      },
      "execution_count": null,
      "outputs": []
    },
    {
      "cell_type": "markdown",
      "source": [
        "## Model"
      ],
      "metadata": {
        "id": "McA_GGP2NmyE"
      }
    },
    {
      "cell_type": "code",
      "source": [
        "# code from https://www.hassanaskary.com/python/pytorch/deep%20learning/2020/09/19/intuitive-explanation-of-straight-through-estimators.html#:~:text=A%20straight%2Dthrough%20estimator%20is,function%20was%20an%20identity%20function.\n",
        "\n",
        "class STEFunction(torch.autograd.Function):\n",
        "    @staticmethod\n",
        "    def forward(ctx, input):\n",
        "        return (input > 0).float()\n",
        "\n",
        "    @staticmethod\n",
        "    def backward(ctx, grad_output):\n",
        "        return torch.nn.functional.hardtanh(grad_output)\n",
        "\n",
        "class StraightThroughEstimator(torch.nn.Module):\n",
        "    def __init__(self):\n",
        "        super().__init__()\n",
        "\n",
        "    def forward(self, x):\n",
        "        x = STEFunction.apply(x)\n",
        "        return x"
      ],
      "metadata": {
        "id": "bh0ONqzxad76"
      },
      "execution_count": 7,
      "outputs": []
    },
    {
      "cell_type": "code",
      "source": [
        "class Generator (torch.nn.Module) :\n",
        "    \"\"\"\n",
        "    first GAN generator, MLP, layer size doubles until output size O is reached.\n",
        "\n",
        "    input: normally distributed random vector of length I\n",
        "    output: binary vector of length O\n",
        "    \"\"\"\n",
        "\n",
        "    def __init__ (self) : \n",
        "        super().__init__()\n",
        "        \n",
        "        I = seed_length   # length of input vector\n",
        "        O = pianoroll_size    # lenght of output vector\n",
        "\n",
        "        layers = []\n",
        "        current_size = I\n",
        "        while 2*current_size < O:\n",
        "            layers.append([\n",
        "                torch.nn.Linear(current_size, 2*current_size),\n",
        "                torch.nn.ReLU(),\n",
        "                torch.nn.BatchNorm1d(2*current_size),\n",
        "            ])\n",
        "            current_size *= 2\n",
        "        layers.append([\n",
        "            torch.nn.Linear(current_size, O),\n",
        "            StraightThroughEstimator()\n",
        "        ])\n",
        "\n",
        "        self.generator = torch.nn.Sequential(*layers)\n",
        "\n",
        "\n",
        "    def forward (self, input) :\n",
        "        return self.generator(input)"
      ],
      "metadata": {
        "id": "d-DaA9gDNlfS"
      },
      "execution_count": 8,
      "outputs": []
    },
    {
      "cell_type": "code",
      "source": [
        "        '''\n",
        "        torch.nn.Linear(I, 2*I),\n",
        "            torch.nn.ReLU(),\n",
        "            torch.nn.BatchNorm1d(2*I),\n",
        "            torch.nn.Linear(2*I, 4*I),\n",
        "            torch.nn.ReLU(),\n",
        "            torch.nn.BatchNorm1d(4*I),\n",
        "            torch.nn.Linear(4*I, 8*I),\n",
        "            torch.nn.ReLU(),\n",
        "            torch.nn.BatchNorm1d(8*I),\n",
        "            torch.nn.Linear(8*I, 16*I),\n",
        "            torch.nn.ReLU(),\n",
        "            torch.nn.BatchNorm1d(16*I),\n",
        "            torch.nn.Linear(16*I, 32*I),\n",
        "            torch.nn.ReLU(),\n",
        "            torch.nn.BatchNorm1d(32*I),\n",
        "            torch.nn.Linear(32*I, 64*I),\n",
        "            torch.nn.ReLU(),\n",
        "            torch.nn.BatchNorm1d(64*I),\n",
        "            torch.nn.Linear(64*I, O),\n",
        "            StraightThroughEstimator()\n",
        "        '''\n",
        "        \n",
        "        '''\n",
        "        self.layer0 = torch.nn.Linear(I, 2*I)\n",
        "        self.layer1 = torch.nn.Linear(2*I, 4*I)\n",
        "        self.layer2 = torch.nn.Linear(4*I, 8*I)\n",
        "        self.layer3 = torch.nn.Linear(8*I, 16*I)\n",
        "        self.layer4 = torch.nn.Linear(16*I, 32*I)\n",
        "        self.layer5 = torch.nn.Linear(32*I, 64*I)\n",
        "        self.layer6 = torch.nn.Linear(64*I, O)\n",
        "\n",
        "        layer_input = torch.nn.functional.relu(self.layer0(input))\n",
        "        layer_input = torch.nn.functional.relu(self.layer1(input))\n",
        "        layer_input = torch.nn.functional.relu(self.layer2(input))\n",
        "        layer_input = torch.nn.functional.relu(self.layer3(input))\n",
        "        layer_input = torch.nn.functional.relu(self.layer4(input))\n",
        "        layer_input = torch.nn.functional.relu(self.layer5(input))\n",
        "        output = StraightThroughEstimator.forward(self.layer6(input))\n",
        "        '''"
      ],
      "metadata": {
        "id": "0PJM07VYcyXv"
      },
      "execution_count": null,
      "outputs": []
    }
  ]
}