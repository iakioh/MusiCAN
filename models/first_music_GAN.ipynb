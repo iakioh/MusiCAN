{
  "nbformat": 4,
  "nbformat_minor": 0,
  "metadata": {
    "colab": {
      "name": "first-music-GAN.ipynb",
      "provenance": [],
      "collapsed_sections": [],
      "authorship_tag": "ABX9TyP57dDSqaN8AEmRHi5fVCr1",
      "include_colab_link": true
    },
    "kernelspec": {
      "name": "python3",
      "display_name": "Python 3"
    },
    "language_info": {
      "name": "python"
    }
  },
  "cells": [
    {
      "cell_type": "markdown",
      "metadata": {
        "id": "view-in-github",
        "colab_type": "text"
      },
      "source": [
        "<a href=\"https://colab.research.google.com/github/iakioh/MusiCAN/blob/main/models/first_music_GAN.ipynb\" target=\"_parent\"><img src=\"https://colab.research.google.com/assets/colab-badge.svg\" alt=\"Open In Colab\"/></a>"
      ]
    },
    {
      "cell_type": "code",
      "execution_count": 1,
      "metadata": {
        "id": "3Zy36G-CGamF"
      },
      "outputs": [],
      "source": [
        "import numpy as np\n",
        "import matplotlib.pyplot as plt\n",
        "import torch"
      ]
    },
    {
      "cell_type": "markdown",
      "source": [
        "## Settings"
      ],
      "metadata": {
        "id": "tQlEdgCZNN5r"
      }
    },
    {
      "cell_type": "code",
      "source": [
        "# Pianoroll parameters\n",
        "notes_per_octave = 12\n",
        "number_octaves = 6   # as in MuseGAN\n",
        "number_pitches = number_octaves * notes_per_octave\n",
        "\n",
        "number_bars = 1\n",
        "beats_per_bar = 4   # 4/4 rythm\n",
        "blips_per_beat = 24   # temporal resolution of Lakh dataset\n",
        "number_blips  = number_bars * beats_per_bar * blips_per_beat\n",
        "\n",
        "pianoroll_size = number_pitches * number_blips\n",
        "\n",
        "print(f\"pianoroll array: {number_pitches}x{number_blips} = {pianoroll_size}\")\n",
        "\n",
        "\n",
        "# Generator parameters\n",
        "seed_length = 64\n"
      ],
      "metadata": {
        "colab": {
          "base_uri": "https://localhost:8080/"
        },
        "id": "RCknwD96Gj_o",
        "outputId": "e03f7d94-3c78-4fc7-b69f-8d99e8e4007b"
      },
      "execution_count": 2,
      "outputs": [
        {
          "output_type": "stream",
          "name": "stdout",
          "text": [
            "pianoroll array: 72x96 = 6912\n"
          ]
        }
      ]
    },
    {
      "cell_type": "markdown",
      "source": [
        "## Data Preparation"
      ],
      "metadata": {
        "id": "wDtbQttmNVPt"
      }
    },
    {
      "cell_type": "code",
      "source": [],
      "metadata": {
        "id": "JeRrT7a6LNr7"
      },
      "execution_count": 2,
      "outputs": []
    },
    {
      "cell_type": "markdown",
      "source": [
        "## Model"
      ],
      "metadata": {
        "id": "McA_GGP2NmyE"
      }
    },
    {
      "cell_type": "code",
      "source": [
        "# code from https://www.hassanaskary.com/python/pytorch/deep%20learning/2020/09/19/intuitive-explanation-of-straight-through-estimators.html#:~:text=A%20straight%2Dthrough%20estimator%20is,function%20was%20an%20identity%20function.\n",
        "\n",
        "class STEFunction(torch.autograd.Function):\n",
        "    @staticmethod\n",
        "    def forward(ctx, input):\n",
        "        return (input > 0).float()\n",
        "\n",
        "    @staticmethod\n",
        "    def backward(ctx, grad_output):\n",
        "        return torch.nn.functional.hardtanh(grad_output)\n",
        "\n",
        "class StraightThroughEstimator(torch.nn.Module):\n",
        "    def __init__(self):\n",
        "        super().__init__()\n",
        "\n",
        "    def forward(self, x):\n",
        "        x = STEFunction.apply(x)\n",
        "        return x"
      ],
      "metadata": {
        "id": "bh0ONqzxad76"
      },
      "execution_count": 3,
      "outputs": []
    },
    {
      "cell_type": "code",
      "source": [
        "class Generator (torch.nn.Module) :\n",
        "    \"\"\"\n",
        "    first GAN generator, MLP, layer size doubles until output size O is reached.\n",
        "\n",
        "    input : normally distributed random vector of length I, seed vector\n",
        "    output: binary vector of length O, pianoroll\n",
        "    \"\"\"\n",
        "\n",
        "\n",
        "    def __init__ (self, log = False) : \n",
        "        super().__init__()\n",
        "        \n",
        "        I = seed_length   # length of input vector\n",
        "        O = pianoroll_size    # length of output vector\n",
        "        x = 4   # linear layer output_length/input_length ratio,\n",
        "                # the higher x is, the fewer layers are needed to generate the \n",
        "                # output vector.\n",
        "\n",
        "        layers = []\n",
        "        current_size = I\n",
        "        while x*current_size < O:\n",
        "            layers.extend([\n",
        "                torch.nn.Linear(current_size, x*current_size),\n",
        "                torch.nn.BatchNorm1d(x*current_size),\n",
        "                torch.nn.ReLU(),\n",
        "            ])\n",
        "            current_size *= x\n",
        "        layers.extend([\n",
        "            torch.nn.Linear(current_size, O),\n",
        "            StraightThroughEstimator()\n",
        "        ])\n",
        "\n",
        "        self.generator = torch.nn.Sequential(*layers)\n",
        "\n",
        "        if log :\n",
        "            print(f\"Generator:\")\n",
        "            print(f\"    I: {I}, O: {O}\")\n",
        "            print(f\"    layers: {(len(layers)+1) // 3}\")\n",
        "            print(\"\")\n",
        "\n",
        "\n",
        "    def forward (self, seed) :\n",
        "        pianoroll = self.generator(seed)\n",
        "\n",
        "        return pianoroll"
      ],
      "metadata": {
        "id": "d-DaA9gDNlfS"
      },
      "execution_count": 43,
      "outputs": []
    },
    {
      "cell_type": "code",
      "source": [
        "class Discriminator (torch.nn.Module) :\n",
        "    \"\"\"\n",
        "    first GAN discriminator, basically Generator in reverse but \n",
        "    \n",
        "    input : binary vector of length I, pianoroll\n",
        "    output: single number, prob. that the input is a real and not \n",
        "            generated pianoroll\n",
        "    \"\"\"\n",
        "\n",
        "\n",
        "    def __init__ (self, log = False) :\n",
        "        super().__init__()\n",
        "\n",
        "        I = pianoroll_size   # length of input vector\n",
        "        O = 1   # length of output vector\n",
        "        x = 4   # linear layer input_length/output_length ratio,\n",
        "                # the higher x is, the fewer layers are needed to condense the \n",
        "                # input vector to a single number.\n",
        "\n",
        "        layers = []\n",
        "        layers.append(torch.nn.BatchNorm1d(I))\n",
        "        current_size = I\n",
        "        while current_size >= x**2*O :\n",
        "            layers.extend([\n",
        "                torch.nn.Linear(current_size, current_size//x),\n",
        "                torch.nn.BatchNorm1d(current_size//x),\n",
        "                torch.nn.ReLU(),\n",
        "            ])\n",
        "            current_size //= x\n",
        "        layers.extend([\n",
        "            torch.nn.Linear(current_size, O),\n",
        "            torch.nn.Sigmoid(),\n",
        "        ])\n",
        "\n",
        "        self.discriminator = torch.nn.Sequential(*layers)\n",
        "\n",
        "        if log :\n",
        "            print(f\"Discriminator:\")\n",
        "            print(f\"    I: {I}, O: {O}\")\n",
        "            print(f\"    layers: {len(layers) // 3}\")\n",
        "            print(\"\")\n",
        "\n",
        "\n",
        "    def forward (self, pianoroll):\n",
        "        judgement = self.discriminator(pianoroll)\n",
        "        return judgement"
      ],
      "metadata": {
        "id": "c1b2H6Cjg_7g"
      },
      "execution_count": 47,
      "outputs": []
    },
    {
      "cell_type": "markdown",
      "source": [
        "## Testing"
      ],
      "metadata": {
        "id": "dYInbQ3O8ErC"
      }
    },
    {
      "cell_type": "code",
      "source": [
        "gen = Generator(log=True)\n",
        "\n",
        "gen_out = gen.forward(torch.rand((5, seed_length)))\n",
        "pr = gen_out.cpu().detach().numpy()\n",
        "pr = pr.reshape((5, number_pitches, number_blips))\n",
        "\n",
        "plt.imshow(pr[0]);"
      ],
      "metadata": {
        "colab": {
          "base_uri": "https://localhost:8080/",
          "height": 355
        },
        "id": "nf3hfw7g15El",
        "outputId": "3102da3b-9999-4c70-d3b0-94e856e77ffe"
      },
      "execution_count": 44,
      "outputs": [
        {
          "output_type": "stream",
          "name": "stdout",
          "text": [
            "Generator:\n",
            "    I: 64, O: 6912\n",
            "    layers: 4\n",
            "\n"
          ]
        },
        {
          "output_type": "display_data",
          "data": {
            "text/plain": [
              "<Figure size 432x288 with 1 Axes>"
            ],
            "image/png": "[encoded data removed]"
          },
          "metadata": {
            "needs_background": "light"
          }
        }
      ]
    },
    {
      "cell_type": "code",
      "source": [
        "dis = Discriminator(log=True)\n",
        "\n",
        "dis_out = dis.forward(gen_out)\n",
        "judge = dis_out.cpu().detach().numpy().flatten()\n",
        "\n",
        "print(f\"Prob. that image is real: {judge[0]*100:.0f}%\")\n"
      ],
      "metadata": {
        "colab": {
          "base_uri": "https://localhost:8080/"
        },
        "id": "Xa2GX3mL6h3_",
        "outputId": "3fd6f400-4c27-4687-c45b-32d3a65216a9"
      },
      "execution_count": 48,
      "outputs": [
        {
          "output_type": "stream",
          "name": "stdout",
          "text": [
            "Discriminator:\n",
            "    I: 6912, O: 1\n",
            "    layers: 6\n",
            "\n",
            "Prob. that image is real: 56%\n"
          ]
        }
      ]
    },
    {
      "cell_type": "markdown",
      "source": [
        "## Junk & quick tests"
      ],
      "metadata": {
        "id": "HhKtFwOemKR-"
      }
    },
    {
      "cell_type": "code",
      "source": [
        "# old Discriminator Code\n",
        "\n",
        "'''\n",
        "n = 1\n",
        "while 2**(n+1) < I :\n",
        "    n += 1\n",
        "current_size = int(2**n)\n",
        "\n",
        "while n > 1:\n",
        "    layers.extend([\n",
        "        torch.nn.BatchNorm1d(2**n),\n",
        "        torch.nn.Linear(2**n, 2**(n-1)),\n",
        "        torch.nn.ReLU(),\n",
        "    ])\n",
        "    current_size *= 2\n",
        "''';"
      ],
      "metadata": {
        "id": "Qy7oLV6Rl_bz"
      },
      "execution_count": 10,
      "outputs": []
    },
    {
      "cell_type": "code",
      "source": [
        "# old Generator code\n",
        "'''\n",
        "torch.nn.Linear(I, 2*I),\n",
        "    torch.nn.ReLU(),\n",
        "    torch.nn.BatchNorm1d(2*I),\n",
        "    torch.nn.Linear(2*I, 4*I),\n",
        "    torch.nn.ReLU(),\n",
        "    torch.nn.BatchNorm1d(4*I),\n",
        "    torch.nn.Linear(4*I, 8*I),\n",
        "    torch.nn.ReLU(),\n",
        "    torch.nn.BatchNorm1d(8*I),\n",
        "    torch.nn.Linear(8*I, 16*I),\n",
        "    torch.nn.ReLU(),\n",
        "    torch.nn.BatchNorm1d(16*I),\n",
        "    torch.nn.Linear(16*I, 32*I),\n",
        "    torch.nn.ReLU(),\n",
        "    torch.nn.BatchNorm1d(32*I),\n",
        "    torch.nn.Linear(32*I, 64*I),\n",
        "    torch.nn.ReLU(),\n",
        "    torch.nn.BatchNorm1d(64*I),\n",
        "    torch.nn.Linear(64*I, O),\n",
        "    StraightThroughEstimator()\n",
        "'''\n",
        "\n",
        "'''\n",
        "self.layer0 = torch.nn.Linear(I, 2*I)\n",
        "self.layer1 = torch.nn.Linear(2*I, 4*I)\n",
        "self.layer2 = torch.nn.Linear(4*I, 8*I)\n",
        "self.layer3 = torch.nn.Linear(8*I, 16*I)\n",
        "self.layer4 = torch.nn.Linear(16*I, 32*I)\n",
        "self.layer5 = torch.nn.Linear(32*I, 64*I)\n",
        "self.layer6 = torch.nn.Linear(64*I, O)\n",
        "\n",
        "layer_input = torch.nn.functional.relu(self.layer0(input))\n",
        "layer_input = torch.nn.functional.relu(self.layer1(input))\n",
        "layer_input = torch.nn.functional.relu(self.layer2(input))\n",
        "layer_input = torch.nn.functional.relu(self.layer3(input))\n",
        "layer_input = torch.nn.functional.relu(self.layer4(input))\n",
        "layer_input = torch.nn.functional.relu(self.layer5(input))\n",
        "output = StraightThroughEstimator.forward(self.layer6(input))\n",
        "''';"
      ],
      "metadata": {
        "id": "0PJM07VYcyXv"
      },
      "execution_count": 11,
      "outputs": []
    },
    {
      "cell_type": "code",
      "source": [
        "lll = [1, 3]\n",
        "lll.extend([2, 4])\n",
        "print(lll)"
      ],
      "metadata": {
        "colab": {
          "base_uri": "https://localhost:8080/"
        },
        "id": "ji34OQwRklk4",
        "outputId": "8ad398cd-ddca-4b6e-e97c-7b24ff90c9a7"
      },
      "execution_count": 12,
      "outputs": [
        {
          "output_type": "stream",
          "name": "stdout",
          "text": [
            "[1, 3, 2, 4]\n"
          ]
        }
      ]
    }
  ]
}