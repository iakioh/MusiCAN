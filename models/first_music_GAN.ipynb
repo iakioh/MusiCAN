{
  "nbformat": 4,
  "nbformat_minor": 0,
  "metadata": {
    "colab": {
      "name": "first-music-GAN.ipynb",
      "provenance": [],
      "collapsed_sections": [],
      "authorship_tag": "ABX9TyOz7I01KTuotKSOtC8XiaA0",
      "include_colab_link": true
    },
    "kernelspec": {
      "name": "python3",
      "display_name": "Python 3"
    },
    "language_info": {
      "name": "python"
    }
  },
  "cells": [
    {
      "cell_type": "markdown",
      "metadata": {
        "id": "view-in-github",
        "colab_type": "text"
      },
      "source": [
        "<a href=\"https://colab.research.google.com/github/iakioh/MusiCAN/blob/main/models/first_music_GAN.ipynb\" target=\"_parent\"><img src=\"https://colab.research.google.com/assets/colab-badge.svg\" alt=\"Open In Colab\"/></a>"
      ]
    },
    {
      "cell_type": "code",
      "execution_count": null,
      "metadata": {
        "id": "3Zy36G-CGamF"
      },
      "outputs": [],
      "source": [
        "import numpy as np\n",
        "import matplotlib.pyplot as plt\n",
        "import torch"
      ]
    },
    {
      "cell_type": "markdown",
      "source": [
        "## Settings"
      ],
      "metadata": {
        "id": "tQlEdgCZNN5r"
      }
    },
    {
      "cell_type": "code",
      "source": [
        "# Pianoroll parameters\n",
        "notes_per_octave = 12\n",
        "number_octaves = 6   # as in MuseGAN\n",
        "number_pitches = number_octaves * notes_per_octave\n",
        "\n",
        "number_bars = 1\n",
        "beats_per_bar = 4   # 4/4 rythm\n",
        "blips_per_beat = 24   # temporal resolution of Lakh dataset\n",
        "number_blips  = number_bars * beats_per_bar * blips_per_beat\n",
        "\n",
        "pianoroll_size = number_pitches * number_blips\n",
        "\n",
        "print(f\"pianoroll array: {number_pitches}x{number_blips} = {pianoroll_size}\")\n",
        "\n",
        "\n",
        "# Generator parameters\n",
        "seed_length = 64\n"
      ],
      "metadata": {
        "colab": {
          "base_uri": "https://localhost:8080/"
        },
        "id": "RCknwD96Gj_o",
        "outputId": "c484447d-c5be-4792-d6dc-0f3ebef3302a"
      },
      "execution_count": null,
      "outputs": [
        {
          "output_type": "stream",
          "name": "stdout",
          "text": [
            "pianoroll array: 72x96 = 6912\n"
          ]
        }
      ]
    },
    {
      "cell_type": "markdown",
      "source": [
        "## Data Preparation"
      ],
      "metadata": {
        "id": "wDtbQttmNVPt"
      }
    },
    {
      "cell_type": "code",
      "source": [],
      "metadata": {
        "id": "JeRrT7a6LNr7"
      },
      "execution_count": null,
      "outputs": []
    },
    {
      "cell_type": "markdown",
      "source": [
        "## Model"
      ],
      "metadata": {
        "id": "McA_GGP2NmyE"
      }
    },
    {
      "cell_type": "markdown",
      "source": [
        "### Architecture"
      ],
      "metadata": {
        "id": "Y6XCJUZjJbd_"
      }
    },
    {
      "cell_type": "code",
      "source": [
        "# code from https://www.hassanaskary.com/python/pytorch/deep%20learning/2020/09/19/intuitive-explanation-of-straight-through-estimators.html#:~:text=A%20straight%2Dthrough%20estimator%20is,function%20was%20an%20identity%20function.\n",
        "\n",
        "class STEFunction(torch.autograd.Function):\n",
        "    @staticmethod\n",
        "    def forward(ctx, input):\n",
        "        return (input > 0).float()\n",
        "\n",
        "    @staticmethod\n",
        "    def backward(ctx, grad_output):\n",
        "        return torch.nn.functional.hardtanh(grad_output)\n",
        "\n",
        "class StraightThroughEstimator(torch.nn.Module):\n",
        "    def __init__(self):\n",
        "        super().__init__()\n",
        "\n",
        "    def forward(self, x):\n",
        "        x = STEFunction.apply(x)\n",
        "        return x"
      ],
      "metadata": {
        "id": "bh0ONqzxad76"
      },
      "execution_count": null,
      "outputs": []
    },
    {
      "cell_type": "code",
      "source": [
        "class Generator (torch.nn.Module) :\n",
        "    \"\"\"\n",
        "    first GAN generator, MLP, layer size doubles until output size O is reached.\n",
        "\n",
        "    input : normally distributed random vector of length I, seed vector\n",
        "    output: binary vector of length O, pianoroll\n",
        "    \"\"\"\n",
        "\n",
        "\n",
        "    def __init__ (self, log = False, **kwargs) : \n",
        "        super().__init__(**kwargs)\n",
        "        \n",
        "        I = seed_length   # length of input vector\n",
        "        O = pianoroll_size    # length of output vector\n",
        "        x = 4   # linear layer output_length/input_length ratio,\n",
        "                # the higher x is, the fewer layers are needed to generate the \n",
        "                # output vector.\n",
        "\n",
        "        layers = []\n",
        "        current_size = I\n",
        "        while x*current_size < O:\n",
        "            layers.extend([\n",
        "                torch.nn.Linear(current_size, x*current_size),\n",
        "                torch.nn.BatchNorm1d(x*current_size),\n",
        "                torch.nn.ReLU(),\n",
        "            ])\n",
        "            current_size *= x\n",
        "        layers.extend([\n",
        "            torch.nn.Linear(current_size, O),\n",
        "            StraightThroughEstimator()\n",
        "        ])\n",
        "\n",
        "        self.generator = torch.nn.Sequential(*layers)\n",
        "\n",
        "        if log :\n",
        "            print(f\"Generator:\")\n",
        "            print(f\"    I: {I}, O: {O}\")\n",
        "            print(f\"    layers: {(len(layers)+1) // 3}\")\n",
        "            print(\"\")\n",
        "\n",
        "\n",
        "    def forward (self, seed) :\n",
        "        pianoroll = self.generator(seed)\n",
        "\n",
        "        return pianoroll"
      ],
      "metadata": {
        "id": "d-DaA9gDNlfS"
      },
      "execution_count": null,
      "outputs": []
    },
    {
      "cell_type": "code",
      "source": [
        "class Discriminator (torch.nn.Module) :\n",
        "    \"\"\"\n",
        "    first GAN discriminator, basically Generator in reverse but \n",
        "    \n",
        "    input : binary vector of length I, pianoroll\n",
        "    output: single number, prob. that the input is a real and not \n",
        "            generated pianoroll\n",
        "    \"\"\"\n",
        "\n",
        "\n",
        "    def __init__ (self, log = False, **kwargs) :\n",
        "        super().__init__(**kwargs)\n",
        "\n",
        "        I = pianoroll_size   # length of input vector\n",
        "        O = 1   # length of output vector\n",
        "        x = 4   # linear layer input_length/output_length ratio,\n",
        "                # the higher x is, the fewer layers are needed to condense the \n",
        "                # input vector to a single number.\n",
        "\n",
        "        layers = []\n",
        "        layers.append(torch.nn.BatchNorm1d(I))\n",
        "        current_size = I\n",
        "        while current_size >= x**2*O :\n",
        "            layers.extend([\n",
        "                torch.nn.Linear(current_size, current_size//x),\n",
        "                torch.nn.BatchNorm1d(current_size//x),\n",
        "                torch.nn.ReLU(),\n",
        "            ])\n",
        "            current_size //= x\n",
        "        layers.extend([\n",
        "            torch.nn.Linear(current_size, O),\n",
        "            torch.nn.Sigmoid(),\n",
        "        ])\n",
        "\n",
        "        self.discriminator = torch.nn.Sequential(*layers)\n",
        "\n",
        "        if log :\n",
        "            print(f\"Discriminator:\")\n",
        "            print(f\"    I: {I}, O: {O}\")\n",
        "            print(f\"    layers: {len(layers) // 3}\")\n",
        "            print(\"\")\n",
        "\n",
        "\n",
        "    def forward (self, pianoroll):\n",
        "        judgement = self.discriminator(pianoroll)\n",
        "        return judgement"
      ],
      "metadata": {
        "id": "c1b2H6Cjg_7g"
      },
      "execution_count": null,
      "outputs": []
    },
    {
      "cell_type": "markdown",
      "source": [
        "#### Architecture Tests"
      ],
      "metadata": {
        "id": "Diasgq46zWGw"
      }
    },
    {
      "cell_type": "code",
      "source": [
        "gen = Generator(log=True)\n",
        "\n",
        "gen_out = gen.forward(torch.rand((5, seed_length)))\n",
        "pr = gen_out.cpu().detach().numpy()\n",
        "pr = pr.reshape((5, number_pitches, number_blips))\n",
        "\n",
        "plt.imshow(pr[0]);"
      ],
      "metadata": {
        "colab": {
          "base_uri": "https://localhost:8080/",
          "height": 355
        },
        "id": "nf3hfw7g15El",
        "outputId": "846882e1-aca5-41b8-9b8c-8f592fe72b0a"
      },
      "execution_count": null,
      "outputs": [
        {
          "output_type": "stream",
          "name": "stdout",
          "text": [
            "Generator:\n",
            "    I: 64, O: 6912\n",
            "    layers: 4\n",
            "\n"
          ]
        },
        {
          "output_type": "display_data",
          "data": {
            "text/plain": [
              "<Figure size 432x288 with 1 Axes>"
            ],
            "image/png": "[encoded data removed]"
          },
          "metadata": {
            "needs_background": "light"
          }
        }
      ]
    },
    {
      "cell_type": "code",
      "source": [
        "dis = Discriminator(log=True)\n",
        "\n",
        "dis_out = dis.forward(gen_out)\n",
        "judge = dis_out.cpu().detach().numpy().flatten()\n",
        "\n",
        "print(f\"Prob. that image is real: {judge[0]*100:.0f}%\")\n"
      ],
      "metadata": {
        "colab": {
          "base_uri": "https://localhost:8080/"
        },
        "id": "Xa2GX3mL6h3_",
        "outputId": "5d6007c3-7f36-43e3-e142-804c1f890cf3"
      },
      "execution_count": null,
      "outputs": [
        {
          "output_type": "stream",
          "name": "stdout",
          "text": [
            "Discriminator:\n",
            "    I: 6912, O: 1\n",
            "    layers: 6\n",
            "\n",
            "Prob. that image is real: 31%\n"
          ]
        }
      ]
    },
    {
      "cell_type": "markdown",
      "source": [
        "### Training"
      ],
      "metadata": {
        "id": "I35Kg1NCJd84"
      }
    },
    {
      "cell_type": "code",
      "source": [
        "class Training :\n",
        "    def __init__ (self, real_pianorolls, batch_size) :\n",
        "        self.device = 'cuda'  if torch.cuda.is_available() else  'cpu'\n",
        "\n",
        "        # Storing external parameters\n",
        "        self.batch_size  = batch_size\n",
        "        self.seed_length = seed_length\n",
        "        self.pianoroll_size = pianoroll_size\n",
        "        \n",
        "        # Preparing training data\n",
        "        self.training_set = real_pianorolls\n",
        "        self.data_loader  = torch.utils.data.DataLoader(self.training_set,\n",
        "                                batch_size = self.batch_size, \n",
        "                                drop_last = True,\n",
        "                                shuffle = True)\n",
        "\n",
        "        # Initializing GAN\n",
        "        self.gen = Generator().to(self.device)\n",
        "        self.dis = Discriminator().to(self.device)\n",
        "        self.optimizer_gen = torch.optim.Adam(self.gen.parameters(), \n",
        "                                              lr = 0.001,\n",
        "                                              betas = (0.5, 0.9)) \n",
        "            # ADAM parameters from GAN tutorial\n",
        "        self.optimizer_dis = torch.optim.Adam(self.dis.parameters(), \n",
        "                                              lr = 0.001,\n",
        "                                              betas = (0.5, 0.9))\n",
        "\n",
        "\n",
        "    def train (self, epochs) :\n",
        "        self.losses = np.zeros((2, epochs))\n",
        "        \n",
        "        for epoch in range(epochs) :\n",
        "            loss = []\n",
        "            for train_batch, _ in self.data_loader :\n",
        "                loss_dis, loss_gen = self.training_step(train_batch.to(self.device))\n",
        "                loss.append([loss_dis, loss_gen])\n",
        "                print(\"#\", end = \"\")\n",
        "            \n",
        "            self.losses[:, epoch] = np.array(loss).mean(axis=0)\n",
        "            print(\" epoch\", epoch, \"complete.\")\n",
        "\n",
        "        return self.gen, self.dis\n",
        "\n",
        "  \n",
        "    def training_step (self, batch_real) :\n",
        "        self.optimizer_dis.zero_grad()\n",
        "        self.optimizer_gen.zero_grad()\n",
        "        \n",
        "        \n",
        "        # Calculating the Discriminator loss function\n",
        "        seed_vector   = torch.normal(0, 1, size = \n",
        "                                   (self.batch_size, self.seed_length)) \\\n",
        "                        .to(self.device)\n",
        "        #interpolation = torch.rand((self.batch_size, self.pianoroll_size))\n",
        "\n",
        "        batch_generated    = self.gen.forward(seed_vector)\n",
        "        #batch_interpolated = interpolation * batch_real \\\n",
        "        #                     + (1 - interpolation) * batch_generated\n",
        "\n",
        "        judgement_real         = self.dis.forward(batch_real)\n",
        "        judgement_generated    = self.dis.forward(batch_generated)\n",
        "        #judgement_interpolated = self.dis.forward(batch_interpolated)\n",
        "\n",
        "        logit_real = torch.logit(judgement_real)\n",
        "        logit_generated = torch.logit(judgement_generated)\n",
        "\n",
        "        loss_dis = torch.mean(logit_generated - logit_real)\n",
        "        #loss_dis = torch.mean(judgement_generated) \\\n",
        "        #           - torch.mean(judgement_real) \\\n",
        "        #           + (torch.linalg.norm(torch.var(judgement_interpolated)) - 1)**2\n",
        "        \n",
        "        # Discriminator update\n",
        "        loss_dis.backward(retain_graph = True)\n",
        "        self.optimizer_dis.step()\n",
        "\n",
        "        # Calculating the Generator loss function\n",
        "        judgement_new = self.dis.forward(batch_generated)\n",
        "        logit_new = torch.logit(judgement_new)\n",
        "        \n",
        "        loss_gen = -torch.mean(logit_new)\n",
        "\n",
        "        # Generator update\n",
        "        loss_gen.backward()\n",
        "        self.optimizer_gen.step()\n",
        "\n",
        "        return loss_dis.detach().numpy(), loss_gen.detach().numpy()\n"
      ],
      "metadata": {
        "id": "FAZl4_sLQ6Tf"
      },
      "execution_count": null,
      "outputs": []
    },
    {
      "cell_type": "markdown",
      "source": [
        "#### Training Tests"
      ],
      "metadata": {
        "id": "dYInbQ3O8ErC"
      }
    },
    {
      "cell_type": "code",
      "source": [
        "mock_image = torch.zeros(number_pitches, number_blips) #, dtype = torch.int)\n",
        "for i in range(number_pitches) :\n",
        "    for j in range(number_blips) :\n",
        "        mock_image[i, j] = \\\n",
        "            (i < number_pitches // 2 + 10) and \\\n",
        "            (i > number_pitches // 2 - 10) and \\\n",
        "            (j < number_pitches // 2 + 10) and \\\n",
        "            (j > number_pitches // 2 - 10)\n",
        "\n",
        "plt.imshow(mock_image);\n",
        "\n",
        "# make a data_set by stacking the same image a number of times\n",
        "number_images = 100\n",
        "mock_vector   = mock_image.flatten()\n",
        "mock_data     = mock_vector[None, :].expand(number_images, *mock_vector.size())\n",
        "mock_labels   = torch.empty(number_images)\n",
        "mock_data_set = torch.utils.data.TensorDataset(mock_data, mock_labels)"
      ],
      "metadata": {
        "colab": {
          "base_uri": "https://localhost:8080/",
          "height": 289
        },
        "id": "QRhGatxIk5TN",
        "outputId": "d4ce8d3a-81a4-4ad9-bf52-89f41975a5cb"
      },
      "execution_count": null,
      "outputs": [
        {
          "output_type": "display_data",
          "data": {
            "text/plain": [
              "<Figure size 432x288 with 1 Axes>"
            ],
            "image/png": "[encoded data removed]"
          },
          "metadata": {
            "needs_background": "light"
          }
        }
      ]
    },
    {
      "cell_type": "code",
      "source": [
        "GANTrainer  = Training(mock_data_set, batch_size = 15)\n",
        "trained_GAN = GANTrainer.train(epochs = 10)"
      ],
      "metadata": {
        "id": "3Rx3ZZ9aJgzu",
        "colab": {
          "base_uri": "https://localhost:8080/"
        },
        "outputId": "9e9421ab-85a7-41f6-d711-cb594d6654b3"
      },
      "execution_count": null,
      "outputs": [
        {
          "output_type": "stream",
          "name": "stdout",
          "text": [
            "###### epoch 0 complete.\n",
            "###### epoch 1 complete.\n",
            "###### epoch 2 complete.\n",
            "###### epoch 3 complete.\n",
            "###### epoch 4 complete.\n",
            "###### epoch 5 complete.\n",
            "###### epoch 6 complete.\n",
            "###### epoch 7 complete.\n",
            "###### epoch 8 complete.\n",
            "###### epoch 9 complete.\n"
          ]
        }
      ]
    },
    {
      "cell_type": "code",
      "source": [
        "plt.title(\"Training losses\")\n",
        "plt.plot(GANTrainer.losses.T)\n",
        "plt.xlabel(\"epoch\")\n",
        "plt.legend([\"Discriminator\", \"Generator\"])\n",
        "plt.show()"
      ],
      "metadata": {
        "colab": {
          "base_uri": "https://localhost:8080/",
          "height": 316
        },
        "id": "aZc9_efijxJ8",
        "outputId": "739f4b70-6b88-4502-9180-7116b254e9a7"
      },
      "execution_count": null,
      "outputs": [
        {
          "output_type": "display_data",
          "data": {
            "text/plain": [
              "<Figure size 432x288 with 1 Axes>"
            ],
            "image/png": "[encoded data removed]"
          },
          "metadata": {
            "needs_background": "light"
          }
        }
      ]
    },
    {
      "cell_type": "code",
      "source": [
        "# Quick test\n",
        "Gen, Dis = trained_GAN\n",
        "\n",
        "## Generator\n",
        "example = Gen.forward(torch.normal(0, 1, (5, 64)))\n",
        "gen_img = example[0].reshape(number_pitches, number_blips)\n",
        "gen_img = gen_img.detach().numpy()\n",
        "\n",
        "## Discriminator\n",
        "judgement = Dis.forward(example)\n",
        "judgement = judgement.detach().numpy()\n",
        "\n",
        "# Results\n",
        "plt.title(\"Generator output x\")\n",
        "plt.imshow(gen_img);\n",
        "print(f\"Discriminator p(x = real): {judgement[0][0]*100:.0f}%\")"
      ],
      "metadata": {
        "colab": {
          "base_uri": "https://localhost:8080/",
          "height": 319
        },
        "id": "obfrhij0qY13",
        "outputId": "75fa7db9-4391-427f-9d7d-c03cc848c226"
      },
      "execution_count": null,
      "outputs": [
        {
          "output_type": "stream",
          "name": "stdout",
          "text": [
            "Discriminator p(x = real): 71%\n"
          ]
        },
        {
          "output_type": "display_data",
          "data": {
            "text/plain": [
              "<Figure size 432x288 with 1 Axes>"
            ],
            "image/png": "[encoded data removed]"
          },
          "metadata": {
            "needs_background": "light"
          }
        }
      ]
    },
    {
      "cell_type": "code",
      "source": [
        "Dis.forward(mock_data)[0]"
      ],
      "metadata": {
        "colab": {
          "base_uri": "https://localhost:8080/"
        },
        "id": "9F7kIfKPVVm7",
        "outputId": "0a0d43c7-6ed3-4023-e134-8621cb958864"
      },
      "execution_count": null,
      "outputs": [
        {
          "output_type": "execute_result",
          "data": {
            "text/plain": [
              "tensor([0.4501], grad_fn=<SelectBackward0>)"
            ]
          },
          "metadata": {},
          "execution_count": 82
        }
      ]
    },
    {
      "cell_type": "code",
      "source": [
        "judgement"
      ],
      "metadata": {
        "colab": {
          "base_uri": "https://localhost:8080/"
        },
        "id": "Zq6NZxb9Mgd-",
        "outputId": "4fb74ba2-9284-4881-edda-059e5f505b1b"
      },
      "execution_count": null,
      "outputs": [
        {
          "output_type": "execute_result",
          "data": {
            "text/plain": [
              "array([[0.37399894],\n",
              "       [0.37957132],\n",
              "       [0.3113496 ],\n",
              "       [0.36590424],\n",
              "       [0.38642883]], dtype=float32)"
            ]
          },
          "metadata": {},
          "execution_count": 81
        }
      ]
    },
    {
      "cell_type": "markdown",
      "source": [
        "## Junk & quick tests"
      ],
      "metadata": {
        "id": "HhKtFwOemKR-"
      }
    },
    {
      "cell_type": "code",
      "source": [
        "plup = torch.rand(3)\n",
        "print(plup)\n",
        "print(plup.device)"
      ],
      "metadata": {
        "colab": {
          "base_uri": "https://localhost:8080/"
        },
        "id": "tRCxciKwV5nN",
        "outputId": "555fe657-f43c-441c-cc85-5ffbb4873d5a"
      },
      "execution_count": null,
      "outputs": [
        {
          "output_type": "stream",
          "name": "stdout",
          "text": [
            "tensor([0.9666, 0.4554, 0.3975])\n",
            "cpu\n"
          ]
        }
      ]
    },
    {
      "cell_type": "code",
      "source": [
        "# old Training code\n",
        "'''\n",
        "def training_step (pianorolls_real, batch_size) :\n",
        "    seed_vector = torch.rand((batch_size, seed_length))\n",
        "\n",
        "    pianorolls_generated = \n",
        "'''"
      ],
      "metadata": {
        "id": "j5UYdFlUzpLe"
      },
      "execution_count": null,
      "outputs": []
    },
    {
      "cell_type": "code",
      "source": [
        "# old Discriminator Code\n",
        "\n",
        "'''\n",
        "n = 1\n",
        "while 2**(n+1) < I :\n",
        "    n += 1\n",
        "current_size = int(2**n)\n",
        "\n",
        "while n > 1:\n",
        "    layers.extend([\n",
        "        torch.nn.BatchNorm1d(2**n),\n",
        "        torch.nn.Linear(2**n, 2**(n-1)),\n",
        "        torch.nn.ReLU(),\n",
        "    ])\n",
        "    current_size *= 2\n",
        "''';"
      ],
      "metadata": {
        "id": "Qy7oLV6Rl_bz"
      },
      "execution_count": null,
      "outputs": []
    },
    {
      "cell_type": "code",
      "source": [
        "# old Generator code\n",
        "'''\n",
        "torch.nn.Linear(I, 2*I),\n",
        "    torch.nn.ReLU(),\n",
        "    torch.nn.BatchNorm1d(2*I),\n",
        "    torch.nn.Linear(2*I, 4*I),\n",
        "    torch.nn.ReLU(),\n",
        "    torch.nn.BatchNorm1d(4*I),\n",
        "    torch.nn.Linear(4*I, 8*I),\n",
        "    torch.nn.ReLU(),\n",
        "    torch.nn.BatchNorm1d(8*I),\n",
        "    torch.nn.Linear(8*I, 16*I),\n",
        "    torch.nn.ReLU(),\n",
        "    torch.nn.BatchNorm1d(16*I),\n",
        "    torch.nn.Linear(16*I, 32*I),\n",
        "    torch.nn.ReLU(),\n",
        "    torch.nn.BatchNorm1d(32*I),\n",
        "    torch.nn.Linear(32*I, 64*I),\n",
        "    torch.nn.ReLU(),\n",
        "    torch.nn.BatchNorm1d(64*I),\n",
        "    torch.nn.Linear(64*I, O),\n",
        "    StraightThroughEstimator()\n",
        "'''\n",
        "\n",
        "'''\n",
        "self.layer0 = torch.nn.Linear(I, 2*I)\n",
        "self.layer1 = torch.nn.Linear(2*I, 4*I)\n",
        "self.layer2 = torch.nn.Linear(4*I, 8*I)\n",
        "self.layer3 = torch.nn.Linear(8*I, 16*I)\n",
        "self.layer4 = torch.nn.Linear(16*I, 32*I)\n",
        "self.layer5 = torch.nn.Linear(32*I, 64*I)\n",
        "self.layer6 = torch.nn.Linear(64*I, O)\n",
        "\n",
        "layer_input = torch.nn.functional.relu(self.layer0(input))\n",
        "layer_input = torch.nn.functional.relu(self.layer1(input))\n",
        "layer_input = torch.nn.functional.relu(self.layer2(input))\n",
        "layer_input = torch.nn.functional.relu(self.layer3(input))\n",
        "layer_input = torch.nn.functional.relu(self.layer4(input))\n",
        "layer_input = torch.nn.functional.relu(self.layer5(input))\n",
        "output = StraightThroughEstimator.forward(self.layer6(input))\n",
        "''';"
      ],
      "metadata": {
        "id": "0PJM07VYcyXv"
      },
      "execution_count": null,
      "outputs": []
    },
    {
      "cell_type": "code",
      "source": [
        "lll = [1, 3]\n",
        "lll.extend([2, 4])\n",
        "print(lll)"
      ],
      "metadata": {
        "colab": {
          "base_uri": "https://localhost:8080/"
        },
        "id": "ji34OQwRklk4",
        "outputId": "8ad398cd-ddca-4b6e-e97c-7b24ff90c9a7"
      },
      "execution_count": null,
      "outputs": [
        {
          "output_type": "stream",
          "name": "stdout",
          "text": [
            "[1, 3, 2, 4]\n"
          ]
        }
      ]
    }
  ]
}