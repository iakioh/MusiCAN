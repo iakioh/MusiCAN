{
  "cells": [
    {
      "cell_type": "markdown",
      "metadata": {
        "colab_type": "text",
        "id": "view-in-github"
      },
      "source": [
        "<a href=\"https://colab.research.google.com/github/iakioh/MusiCAN/blob/main/models/first_music_GAN.ipynb\" target=\"_parent\"><img src=\"https://colab.research.google.com/assets/colab-badge.svg\" alt=\"Open In Colab\"/></a>"
      ]
    },
    {
      "cell_type": "markdown",
      "metadata": {},
      "source": [
        "# first GAN\n",
        "**Description:** First attempt at a GAN architecture. Uses mock data to evaluate architecture and algorithm with.\\\n",
        "**Purpose:** Develop a first architecture and training algorithm to be later expanded upon for pianoroll generation.\\\n",
        "**Results:** The training never succeeded. Particularly the Generator doesn't learn anything, even on this simple mock data.\n"
      ]
    },
    {
      "cell_type": "code",
      "execution_count": 1,
      "metadata": {
        "id": "3Zy36G-CGamF"
      },
      "outputs": [],
      "source": [
        "import numpy as np\n",
        "import matplotlib.pyplot as plt\n",
        "import torch\n",
        "import pickle"
      ]
    },
    {
      "cell_type": "markdown",
      "metadata": {
        "id": "tQlEdgCZNN5r"
      },
      "source": [
        "### Global parameters"
      ]
    },
    {
      "cell_type": "code",
      "execution_count": 2,
      "metadata": {
        "colab": {
          "base_uri": "https://localhost:8080/"
        },
        "id": "RCknwD96Gj_o",
        "outputId": "5db1e7a4-04be-4e46-ebfe-7cf8e217bea5"
      },
      "outputs": [
        {
          "name": "stdout",
          "output_type": "stream",
          "text": [
            "pianoroll array: 72x96 = 6912\n"
          ]
        }
      ],
      "source": [
        "# Pianoroll parameters\n",
        "notes_per_octave = 12\n",
        "number_octaves = 6   # as in MuseGAN\n",
        "number_pitches = number_octaves * notes_per_octave\n",
        "\n",
        "number_bars = 1\n",
        "beats_per_bar = 4   # 4/4 rythm\n",
        "blips_per_beat = 24   # temporal resolution of Lakh dataset\n",
        "number_blips  = number_bars * beats_per_bar * blips_per_beat\n",
        "\n",
        "pianoroll_size = number_pitches * number_blips\n",
        "\n",
        "print(f\"pianoroll array: {number_pitches}x{number_blips} = {pianoroll_size}\")\n",
        "\n",
        "\n",
        "# Generator parameters\n",
        "seed_length = 64\n",
        "\n",
        "# trained model file path\n",
        "training_filepath = \"../execution/trained_models/\"\n"
      ]
    },
    {
      "cell_type": "markdown",
      "metadata": {
        "id": "9CICICfaf4aQ"
      },
      "source": [
        "### Mock data for model development"
      ]
    },
    {
      "cell_type": "code",
      "execution_count": 3,
      "metadata": {
        "colab": {
          "base_uri": "https://localhost:8080/",
          "height": 289
        },
        "id": "QRhGatxIk5TN",
        "outputId": "b08cd768-92ec-4f05-9ede-45ee2f330885"
      },
      "outputs": [
        {
          "data": {
            "image/png": "[encoded data removed]",
            "text/plain": [
              "<Figure size 432x288 with 1 Axes>"
            ]
          },
          "metadata": {
            "needs_background": "light"
          },
          "output_type": "display_data"
        }
      ],
      "source": [
        "mock_image = torch.zeros(number_pitches, number_blips) #, dtype = torch.int)\n",
        "for i in range(number_pitches) :\n",
        "    for j in range(number_blips) :\n",
        "        mock_image[i, j] = \\\n",
        "            (i < number_pitches // 2 + 10) and \\\n",
        "            (i > number_pitches // 2 - 10) and \\\n",
        "            (j < number_pitches // 2 + 10) and \\\n",
        "            (j > number_pitches // 2 - 10)\n",
        "\n",
        "plt.title(\"mock_image\")\n",
        "plt.imshow(mock_image);\n",
        "\n",
        "# make a dataset by stacking the same image a number of times\n",
        "number_images = 100\n",
        "mock_vector   = mock_image.flatten()\n",
        "mock_data     = mock_vector[None, :].expand(number_images, *mock_vector.size())\n",
        "mock_dataset = torch.utils.data.TensorDataset(mock_data)"
      ]
    },
    {
      "cell_type": "markdown",
      "metadata": {
        "id": "McA_GGP2NmyE"
      },
      "source": [
        "## Model"
      ]
    },
    {
      "cell_type": "markdown",
      "metadata": {
        "id": "Y6XCJUZjJbd_"
      },
      "source": [
        "### Support classes"
      ]
    },
    {
      "cell_type": "code",
      "execution_count": 4,
      "metadata": {
        "id": "bh0ONqzxad76"
      },
      "outputs": [],
      "source": [
        "# code from https://www.hassanaskary.com/python/pytorch/deep%20learning/2020/09/19/intuitive-explanation-of-straight-through-estimators.html#:~:text=A%20straight%2Dthrough%20estimator%20is,function%20was%20an%20identity%20function.\n",
        "\n",
        "class STEFunction(torch.autograd.Function):\n",
        "    @staticmethod\n",
        "    def forward(ctx, input):\n",
        "        return (input > 0).float()\n",
        "\n",
        "    @staticmethod\n",
        "    def backward(ctx, grad_output):\n",
        "        return torch.nn.functional.hardtanh(grad_output)\n",
        "\n",
        "class StraightThroughEstimator(torch.nn.Module):\n",
        "    def __init__(self):\n",
        "        super(StraightThroughEstimator, self).__init__()\n",
        "\n",
        "    def forward(self, x):\n",
        "        x = STEFunction.apply(x)\n",
        "        return x"
      ]
    },
    {
      "cell_type": "markdown",
      "metadata": {
        "id": "hf5kLhdrgV4C"
      },
      "source": [
        "#### first GAN"
      ]
    },
    {
      "cell_type": "code",
      "execution_count": 6,
      "metadata": {
        "id": "d-DaA9gDNlfS"
      },
      "outputs": [],
      "source": [
        "class Generator (torch.nn.Module) :\n",
        "    \"\"\"\n",
        "    first GAN generator, MLP, layer size doubles until output size O is reached.\n",
        "\n",
        "    input : normally distributed random vector of length I, seed vector\n",
        "    output: binary vector of length O, pianoroll\n",
        "    \"\"\"\n",
        "\n",
        "\n",
        "    def __init__ (self, log = False, **kwargs) : \n",
        "        super().__init__(**kwargs)\n",
        "        \n",
        "        I = seed_length   # length of input vector\n",
        "        O = pianoroll_size    # length of output vector\n",
        "        x = 4   # linear layer output_length/input_length ratio,\n",
        "                # the higher x is, the fewer layers are needed to generate the \n",
        "                # output vector.\n",
        "\n",
        "        layers = []\n",
        "        current_size = I\n",
        "        while x*current_size < O:\n",
        "            layers.extend([\n",
        "                torch.nn.Linear(current_size, x*current_size),\n",
        "                torch.nn.BatchNorm1d(x*current_size),\n",
        "                torch.nn.ReLU(),\n",
        "            ])\n",
        "            current_size *= x\n",
        "        layers.extend([\n",
        "            torch.nn.Linear(current_size, O),\n",
        "            torch.nn.Tanh(),\n",
        "            StraightThroughEstimator()\n",
        "        ])\n",
        "\n",
        "        self.generator = torch.nn.Sequential(*layers)\n",
        "\n",
        "        if log :\n",
        "            print(f\"Generator:\")\n",
        "            print(f\"    I: {I}, O: {O}\")\n",
        "            print(f\"    layers: {(len(layers)+1) // 3}\")\n",
        "            print(f\"    parameters: {self.count_params()}\")\n",
        "            print(\"\")\n",
        "\n",
        "\n",
        "\n",
        "    def count_params (self) :\n",
        "        \"\"\"count number of trainable parameters\"\"\"\n",
        "\n",
        "        return sum(p.numel() for p in self.parameters() if p.requires_grad)\n",
        "\n",
        "\n",
        "    def forward (self, seed) :\n",
        "        pianoroll = self.generator(seed)\n",
        "\n",
        "        return pianoroll"
      ]
    },
    {
      "cell_type": "code",
      "execution_count": 7,
      "metadata": {
        "id": "c1b2H6Cjg_7g"
      },
      "outputs": [],
      "source": [
        "class Discriminator (torch.nn.Module) :\n",
        "    \"\"\"\n",
        "    first GAN discriminator, basically Generator in reverse but \n",
        "    \n",
        "    input : binary vector of length I, pianoroll\n",
        "    output: single number, prob. that the input is a real and not \n",
        "            generated pianoroll\n",
        "    \"\"\"\n",
        "\n",
        "\n",
        "    def __init__ (self, log = False, **kwargs) :\n",
        "        super().__init__(**kwargs)\n",
        "\n",
        "        I = pianoroll_size   # length of input vector\n",
        "        O = 1   # length of output vector\n",
        "        x = 4   # linear layer input_length/output_length ratio,\n",
        "                # the higher x is, the fewer layers are needed to condense the \n",
        "                # input vector to a single number.\n",
        "\n",
        "        layers = []\n",
        "        layers.append(torch.nn.BatchNorm1d(I))\n",
        "        current_size = I\n",
        "        while current_size >= x**2*O :\n",
        "            layers.extend([\n",
        "                torch.nn.Linear(current_size, current_size//x),\n",
        "                torch.nn.BatchNorm1d(current_size//x),\n",
        "                torch.nn.ReLU(),\n",
        "            ])\n",
        "            current_size //= x\n",
        "        layers.extend([\n",
        "            torch.nn.Linear(current_size, O),\n",
        "            #torch.nn.Sigmoid(),\n",
        "        ])\n",
        "\n",
        "        self.discriminator = torch.nn.Sequential(*layers)\n",
        "\n",
        "        if log :\n",
        "            print(f\"Discriminator:\")\n",
        "            print(f\"    I: {I}, O: {O}\")\n",
        "            print(f\"    layers: {(len(layers)+1) // 3}\")\n",
        "            print(f\"    parameters: {self.count_params()}\")\n",
        "            print(\"\")\n",
        "\n",
        "\n",
        "\n",
        "    def count_params (self) :\n",
        "        \"\"\"count number of trainable parameters\"\"\"\n",
        "\n",
        "        return sum(p.numel() for p in self.parameters() if p.requires_grad)\n",
        "\n",
        "\n",
        "    \n",
        "    def forward (self, pianoroll):\n",
        "        judgement = self.discriminator(pianoroll)\n",
        "        return judgement"
      ]
    },
    {
      "cell_type": "markdown",
      "metadata": {
        "id": "Diasgq46zWGw"
      },
      "source": [
        "#### Architecture Tests"
      ]
    },
    {
      "cell_type": "code",
      "execution_count": 8,
      "metadata": {
        "colab": {
          "base_uri": "https://localhost:8080/",
          "height": 355
        },
        "id": "nf3hfw7g15El",
        "outputId": "039cca93-4d71-4ea6-bfdc-62c4494b8870"
      },
      "outputs": [
        {
          "name": "stdout",
          "output_type": "stream",
          "text": [
            "Generator:\n",
            "    I: 64, O: 6912\n",
            "    layers: 4\n",
            "    parameters: 32807424\n",
            "\n"
          ]
        },
        {
          "data": {
            "image/png": "[encoded data removed]",
            "text/plain": [
              "<Figure size 432x288 with 1 Axes>"
            ]
          },
          "metadata": {
            "needs_background": "light"
          },
          "output_type": "display_data"
        }
      ],
      "source": [
        "gen = Generator(log=True)\n",
        "gen_out = gen.forward(torch.rand((5, seed_length)))\n",
        "pr = gen_out.cpu().detach().numpy()\n",
        "pr = pr.reshape((5, number_pitches, number_blips))\n",
        "\n",
        "plt.imshow(pr[0]);"
      ]
    },
    {
      "cell_type": "code",
      "execution_count": 9,
      "metadata": {
        "colab": {
          "base_uri": "https://localhost:8080/"
        },
        "id": "Xa2GX3mL6h3_",
        "outputId": "ae890b33-5fc4-4593-9e37-2f44fbed3f8c"
      },
      "outputs": [
        {
          "name": "stdout",
          "output_type": "stream",
          "text": [
            "Discriminator:\n",
            "    I: 6912, O: 1\n",
            "    layers: 6\n",
            "    parameters: 12760900\n",
            "\n",
            "Prob. that image is real: 52%\n"
          ]
        }
      ],
      "source": [
        "dis = Discriminator(log=True)\n",
        "\n",
        "dis_out = dis.forward(gen_out)\n",
        "judge = torch.sigmoid(dis_out).cpu().detach().numpy().flatten()\n",
        "\n",
        "print(f\"Prob. that image is real: {judge[0]*100:.0f}%\")\n"
      ]
    },
    {
      "cell_type": "markdown",
      "metadata": {},
      "source": [
        "## Training classes"
      ]
    },
    {
      "cell_type": "markdown",
      "metadata": {
        "id": "dYInbQ3O8ErC"
      },
      "source": [
        "### Training support functions"
      ]
    },
    {
      "cell_type": "code",
      "execution_count": 10,
      "metadata": {
        "id": "obfrhij0qY13"
      },
      "outputs": [],
      "source": [
        "def quick_test(GEN, DIS, data): \n",
        "    \n",
        "    # Test on generated data\n",
        "    \n",
        "    ## Generator\n",
        "    test_seeds = torch.normal(0, 1, (5, seed_length))\n",
        "    examples = GEN.forward(test_seeds)\n",
        "    gen_img = examples[0].reshape(number_pitches, number_blips)\n",
        "    gen_img = gen_img.detach().numpy()\n",
        "\n",
        "    ## Discriminator\n",
        "    gen_judgements = DIS.forward(examples)\n",
        "    gen_judgement = torch.sigmoid(gen_judgements[0][0]).detach().numpy()\n",
        "\n",
        "    # Results\n",
        "    plt.title(\"Generator output x\")\n",
        "    plt.imshow(gen_img);\n",
        "    print(f\"Discriminator p(x_gen = real): {gen_judgement*100:.0f}%\")\n",
        "\n",
        "    # Test on real data\n",
        "    real_judgement = torch.sigmoid(DIS.forward(data))[0][0].detach().numpy()\n",
        "    print(f\"Discriminator p(x_real = real) = {real_judgement*100:.0f}%\")\n"
      ]
    },
    {
      "cell_type": "code",
      "execution_count": 11,
      "metadata": {
        "id": "yFLfbcbmg0qY"
      },
      "outputs": [],
      "source": [
        "def generator_goodness(generated_batch, real_batch):\n",
        "    \"\"\" compare two batches of data by calculating the absolute mean difference\"\"\"\n",
        "    \n",
        "    # averaged over batches \n",
        "    generated_mean = torch.mean(generated_batch)\n",
        "    real_mean = torch.mean(real_batch)\n",
        "\n",
        "    # take differnece & absolut value, average over features lastly\n",
        "    goodness_criteria = torch.mean(torch.abs(real_mean - generated_mean))\n",
        "\n",
        "    return(goodness_criteria.detach().numpy())\n"
      ]
    },
    {
      "cell_type": "markdown",
      "metadata": {
        "id": "I35Kg1NCJd84"
      },
      "source": [
        "### Training Class"
      ]
    },
    {
      "cell_type": "code",
      "execution_count": 12,
      "metadata": {
        "id": "FAZl4_sLQ6Tf"
      },
      "outputs": [],
      "source": [
        "class Training :\n",
        "    def __init__ (self, real_pianorolls, batch_size) :\n",
        "        self.device = 'cuda'  if torch.cuda.is_available() else  'cpu'\n",
        "\n",
        "        # Storing external parameters\n",
        "        self.batch_size  = batch_size\n",
        "        self.seed_length = seed_length\n",
        "        self.pianoroll_size = pianoroll_size\n",
        "        \n",
        "        # Preparing training data\n",
        "        self.training_set = real_pianorolls\n",
        "        self.data_loader  = torch.utils.data.DataLoader(self.training_set,\n",
        "                                batch_size = self.batch_size, \n",
        "                                drop_last = True,\n",
        "                                shuffle = True)\n",
        "\n",
        "        # Initializing GAN\n",
        "        self.gen = Generator().to(self.device)\n",
        "        self.dis = Discriminator().to(self.device)\n",
        "        self.optimizer_gen = torch.optim.Adam(self.gen.parameters(), \n",
        "                                              lr = 0.001,\n",
        "                                              betas = (0.5, 0.9)) \n",
        "            # ADAM parameters from GAN tutorial\n",
        "        self.optimizer_dis = torch.optim.Adam(self.dis.parameters(), \n",
        "                                              lr = 0.001,\n",
        "                                              betas = (0.5, 0.9))\n",
        "\n",
        "\n",
        "\n",
        "    def train (self, epochs, k = 1, loss_func = \"WGAN\") :\n",
        "        # Training parameters\n",
        "        self.k = k\n",
        "        self.loss_function = loss_func\n",
        "\n",
        "        assert  type(epochs) == int\n",
        "        assert  epochs >= 1\n",
        "        assert  type(k) == int\n",
        "        assert  k >= 1\n",
        "        assert  self.loss_function in [\"GAN\", \"WGAN\"]\n",
        "        \n",
        "        # Logging\n",
        "        self.losses       = np.zeros((5, epochs))\n",
        "        self.probs        = np.zeros((2, epochs))\n",
        "        self.gen_goodness = np.zeros(epochs)\n",
        "        \n",
        "\n",
        "        # Main training loop\n",
        "        for epoch in range(epochs) :\n",
        "            loss         = []\n",
        "            probs        = []\n",
        "            gen_goodness = []\n",
        "\n",
        "            for train_batch in self.data_loader :\n",
        "                batch_losses, batch_probs, batch_gen_goodness = \\\n",
        "                    self.training_step(train_batch[0].to(self.device))\n",
        "                loss.append(batch_losses)\n",
        "                probs.append(batch_probs)\n",
        "                gen_goodness.append(batch_gen_goodness)\n",
        "                print(\"#\", end = \"\")\n",
        "            \n",
        "            # Loging\n",
        "            self.losses[:, epoch]    = np.array(loss).mean(axis=0)\n",
        "            self.probs[:, epoch]     = np.array(probs).mean(axis=0)\n",
        "            self.gen_goodness[epoch] = np.array(gen_goodness).mean(axis=0)\n",
        "\n",
        "            print(\" epoch\", epoch, \"complete.\")\n",
        "\n",
        "        # Returning trained GAN\n",
        "        return self.gen, self.dis\n",
        "\n",
        "  \n",
        "\n",
        "    def training_step (self, batch_real) :\n",
        "        dis_losses = torch.zeros(size = (self.k,)).to(self.device)  # logging\n",
        "        for i in range(self.k):\n",
        "            # Forward propagation\n",
        "            seed_vector = torch.normal(0, 1, size = \n",
        "                                       (self.batch_size, self.seed_length)) \\\n",
        "                          .to(self.device)\n",
        "            batch_gen = self.gen.forward(seed_vector)\n",
        "            \n",
        "            judgement_real = self.dis.forward(batch_real)\n",
        "            judgement_gen  = self.dis.forward(batch_gen)\n",
        "\n",
        "\n",
        "            # Calculating the Discriminator loss function\n",
        "            if self.loss_function == \"GAN\" :\n",
        "                prob_real = torch.sigmoid(judgement_real)\n",
        "                prob_gen  = torch.sigmoid(judgement_gen)\n",
        "                loss_term_real = - torch.mean(torch.log(prob_real))\n",
        "                loss_term_gen  = torch.mean(torch.log(1 - prob_gen))\n",
        "                reg_term       = torch.tensor(0.)\n",
        "            elif self.loss_function == \"WGAN\" :\n",
        "                loss_term_real = - torch.mean(judgement_real)\n",
        "                loss_term_gen  = torch.mean(judgement_gen)\n",
        "                var_g    = torch.var(judgement_gen)\n",
        "                var_r    = torch.var(judgement_real)\n",
        "                reg_term = torch.where(var_g > 1, (var_g - 1)**2, 0) \\\n",
        "                           + torch.where(var_r > 1, (var_r - 1)**2, 0)\n",
        "            else :\n",
        "                print(f\"Warning: '{self.loss_function}' as loss function isn't\\\n",
        "                        an option!\")\n",
        "\n",
        "            loss_dis = loss_term_real + loss_term_gen + reg_term\n",
        "            \n",
        "            # Discriminator update\n",
        "            self.optimizer_dis.zero_grad()\n",
        "            loss_dis.backward(retain_graph = True)\n",
        "            self.optimizer_dis.step()\n",
        "            \n",
        "            dis_losses[i] = loss_dis   # logging\n",
        "\n",
        "        loss_dis = torch.mean(dis_losses)  # logging\n",
        "\n",
        "\n",
        "        # Calculating the Generator loss function\n",
        "        judgement_new = self.dis.forward(batch_gen)\n",
        "        \n",
        "        if self.loss_function == \"GAN\" :\n",
        "            prob_new = torch.sigmoid(judgement_new)\n",
        "            loss_gen = -torch.mean(torch.log(prob_new)) \n",
        "        elif self.loss_function == \"WGAN\" :\n",
        "            loss_gen = -torch.mean(judgement_new)\n",
        "        \n",
        "        # Generator update\n",
        "        self.optimizer_gen.zero_grad()\n",
        "        loss_gen.backward()\n",
        "        self.optimizer_gen.step()\n",
        "\n",
        "        # Output Losses\n",
        "        losses_out = [loss_dis.detach().numpy(), \n",
        "                      loss_term_real.detach().numpy(), \n",
        "                      loss_term_gen.detach().numpy(), \n",
        "                      reg_term.detach().numpy(), \n",
        "                      loss_gen.detach().numpy()]\n",
        "\n",
        "        # Output averaged judgement probabilities \n",
        "        D_real = torch.mean(torch.sigmoid(judgement_real))\n",
        "        D_gen  = torch.mean(torch.sigmoid(judgement_gen))\n",
        "        probs_out = [D_real.detach().numpy(), D_gen.detach().numpy()]\n",
        "\n",
        "        # Output generator goodness (already averaged over batch)\n",
        "        gen_goodness = generator_goodness(batch_gen, batch_real)\n",
        "\n",
        "        # Quick Test for debugging \n",
        "        # quick_test(self.gen, self.dis) \n",
        "\n",
        "        return losses_out, probs_out, gen_goodness\n",
        "\n",
        "\n",
        "\n",
        "    def save (self, name) :\n",
        "        file_name = training_filepath + name + \".obj\"\n",
        "        file      = open(file_name, \"wb\")\n",
        "        pickle.dump(self, file)\n",
        "        print(f\"Saved training under '{file_name}'\")\n",
        "\n",
        "\n",
        "    def load (name) :\n",
        "        file_name = training_filepath + name + \".obj\"\n",
        "        file      = open(file_name, \"rb\")\n",
        "        return pickle.load(file)\n"
      ]
    },
    {
      "cell_type": "markdown",
      "metadata": {
        "id": "IH2VkCTl2DJr"
      },
      "source": [
        "## Training the model"
      ]
    },
    {
      "cell_type": "code",
      "execution_count": 23,
      "metadata": {
        "colab": {
          "base_uri": "https://localhost:8080/"
        },
        "id": "3Rx3ZZ9aJgzu",
        "outputId": "2cc0e5cb-09f0-4706-eebf-e8199618af33"
      },
      "outputs": [
        {
          "name": "stdout",
          "output_type": "stream",
          "text": [
            "#"
          ]
        }
      ],
      "source": [
        "GANTrainer  = Training(mock_dataset, batch_size = 33)\n",
        "trained_GAN = GANTrainer.train(epochs = 1000, k = 1, loss_func=\"WGAN\")"
      ]
    },
    {
      "cell_type": "code",
      "execution_count": 21,
      "metadata": {
        "colab": {
          "base_uri": "https://localhost:8080/",
          "height": 873
        },
        "id": "aZc9_efijxJ8",
        "outputId": "ec843a9d-ed83-474f-ce83-792acd8cf488"
      },
      "outputs": [
        {
          "data": {
            "image/png": "[encoded data removed]",
            "text/plain": [
              "<Figure size 432x288 with 1 Axes>"
            ]
          },
          "metadata": {
            "needs_background": "light"
          },
          "output_type": "display_data"
        },
        {
          "data": {
            "image/png": "[encoded data removed]",
            "text/plain": [
              "<Figure size 432x288 with 1 Axes>"
            ]
          },
          "metadata": {
            "needs_background": "light"
          },
          "output_type": "display_data"
        },
        {
          "data": {
            "image/png": "[encoded data removed]",
            "text/plain": [
              "<Figure size 432x288 with 1 Axes>"
            ]
          },
          "metadata": {
            "needs_background": "light"
          },
          "output_type": "display_data"
        }
      ],
      "source": [
        "plt.title(\"Training losses\")\n",
        "plt.plot(GANTrainer.losses.T)\n",
        "plt.xlabel(\"epoch\")\n",
        "plt.legend([\"Discriminator Loss\", \"Discriminator Real Term\", \"Discriminator Gen Term\", \"Discriminator Reg Term\", \"Generator Loss\"])\n",
        "plt.show()\n",
        "\n",
        "plt.title(\"Batch-averaged Discriminator Probabilities during Training\")\n",
        "plt.plot(GANTrainer.probs.T)\n",
        "plt.xlabel(\"epoch\")\n",
        "plt.ylim(0,1)\n",
        "plt.legend([\"real data\", \"generated data\"])\n",
        "plt.show()\n",
        "\n",
        "plt.title(\"Generator Goodness during Training\")\n",
        "plt.plot(GANTrainer.gen_goodness)\n",
        "plt.xlabel(\"epoch\")\n",
        "plt.ylim(0,1)\n",
        "plt.legend([\"Averaged real-generated difference\"])\n",
        "plt.show()"
      ]
    },
    {
      "cell_type": "code",
      "execution_count": 22,
      "metadata": {
        "colab": {
          "base_uri": "https://localhost:8080/",
          "height": 335
        },
        "id": "9F7kIfKPVVm7",
        "outputId": "2353dec2-3938-4aa8-f3c7-a981f8b3152f"
      },
      "outputs": [
        {
          "name": "stdout",
          "output_type": "stream",
          "text": [
            "Discriminator p(x_gen = real): 9%\n",
            "Discriminator p(x_real = real) = 44%\n"
          ]
        },
        {
          "data": {
            "image/png": "[encoded data removed]",
            "text/plain": [
              "<Figure size 432x288 with 1 Axes>"
            ]
          },
          "metadata": {
            "needs_background": "light"
          },
          "output_type": "display_data"
        }
      ],
      "source": [
        "Gen, Dis = trained_GAN\n",
        "quick_test(Gen, Dis, data = mock_data)"
      ]
    },
    {
      "cell_type": "code",
      "execution_count": 90,
      "metadata": {},
      "outputs": [
        {
          "name": "stdout",
          "output_type": "stream",
          "text": [
            "Saved training under './trained_models/WGAN-minimock.obj'\n"
          ]
        }
      ],
      "source": [
        "GANTrainer.save(\"WGAN\")"
      ]
    },
    {
      "cell_type": "markdown",
      "metadata": {
        "id": "HhKtFwOemKR-"
      },
      "source": [
        "## Junk & quick tests"
      ]
    },
    {
      "cell_type": "code",
      "execution_count": null,
      "metadata": {},
      "outputs": [],
      "source": []
    }
  ],
  "metadata": {
    "colab": {
      "collapsed_sections": [],
      "include_colab_link": true,
      "name": "first-music-GAN.ipynb",
      "provenance": []
    },
    "kernelspec": {
      "display_name": "Python 3.10.4 ('aml')",
      "language": "python",
      "name": "python3"
    },
    "language_info": {
      "codemirror_mode": {
        "name": "ipython",
        "version": 3
      },
      "file_extension": ".py",
      "mimetype": "text/x-python",
      "name": "python",
      "nbconvert_exporter": "python",
      "pygments_lexer": "ipython3",
      "version": "3.10.4"
    },
    "vscode": {
      "interpreter": {
        "hash": "e9db57278ae8397bc5fe3bec6b9ba53c33a2aa76e79d386f678fc754e34f9547"
      }
    }
  },
  "nbformat": 4,
  "nbformat_minor": 0
}
