{
  "cells": [
    {
      "cell_type": "markdown",
      "metadata": {
        "id": "view-in-github",
        "colab_type": "text"
      },
      "source": [
        "<a href=\"https://colab.research.google.com/github/iakioh/MusiCAN/blob/main/models/musiCAN_colab.ipynb\" target=\"_parent\"><img src=\"https://colab.research.google.com/assets/colab-badge.svg\" alt=\"Open In Colab\"/></a>"
      ]
    },
    {
      "cell_type": "markdown",
      "metadata": {
        "id": "8ATBcagDnDpM"
      },
      "source": [
        "### Colab Setup"
      ]
    },
    {
      "cell_type": "code",
      "execution_count": 67,
      "metadata": {
        "colab": {
          "base_uri": "https://localhost:8080/"
        },
        "id": "mjvf82O3S2Yz",
        "outputId": "11cd1920-8926-40fe-919d-8260a3aefdc9"
      },
      "outputs": [
        {
          "output_type": "stream",
          "name": "stdout",
          "text": [
            "Drive already mounted at /content/drive/; to attempt to forcibly remount, call drive.mount(\"/content/drive/\", force_remount=True).\n"
          ]
        }
      ],
      "source": [
        "# Mount Google Drive\n",
        "from google.colab import drive\n",
        "drive.mount('/content/drive/')  "
      ]
    },
    {
      "cell_type": "code",
      "execution_count": 68,
      "metadata": {
        "colab": {
          "base_uri": "https://localhost:8080/"
        },
        "id": "LCaQQJb6TXgV",
        "outputId": "cedd4cad-1955-4727-9fab-a31cd54c0f6e"
      },
      "outputs": [
        {
          "output_type": "stream",
          "name": "stdout",
          "text": [
            "/content/drive/MyDrive/MusiCAN/models\n"
          ]
        }
      ],
      "source": [
        "# Go to this notebook's directory\n",
        "repo_path = \"/content/drive/MyDrive/MusiCAN/\"\n",
        "%cd {repo_path}/models"
      ]
    },
    {
      "cell_type": "code",
      "execution_count": 69,
      "metadata": {
        "colab": {
          "base_uri": "https://localhost:8080/"
        },
        "id": "wvGZ0ptpZQNH",
        "outputId": "49c9e402-2d84-44e9-c8c4-555030a227cc"
      },
      "outputs": [
        {
          "output_type": "stream",
          "name": "stdout",
          "text": [
            "Mon Sep 12 21:58:39 2022       \n",
            "+-----------------------------------------------------------------------------+\n",
            "| NVIDIA-SMI 460.32.03    Driver Version: 460.32.03    CUDA Version: 11.2     |\n",
            "|-------------------------------+----------------------+----------------------+\n",
            "| GPU  Name        Persistence-M| Bus-Id        Disp.A | Volatile Uncorr. ECC |\n",
            "| Fan  Temp  Perf  Pwr:Usage/Cap|         Memory-Usage | GPU-Util  Compute M. |\n",
            "|                               |                      |               MIG M. |\n",
            "|===============================+======================+======================|\n",
            "|   0  Tesla P100-PCIE...  Off  | 00000000:00:04.0 Off |                    0 |\n",
            "| N/A   52C    P0    36W / 250W |   3459MiB / 16280MiB |      0%      Default |\n",
            "|                               |                      |                  N/A |\n",
            "+-------------------------------+----------------------+----------------------+\n",
            "                                                                               \n",
            "+-----------------------------------------------------------------------------+\n",
            "| Processes:                                                                  |\n",
            "|  GPU   GI   CI        PID   Type   Process name                  GPU Memory |\n",
            "|        ID   ID                                                   Usage      |\n",
            "|=============================================================================|\n",
            "+-----------------------------------------------------------------------------+\n"
          ]
        }
      ],
      "source": [
        "# Check GPU connection\n",
        "gpu_info = !nvidia-smi\n",
        "gpu_info = '\\n'.join(gpu_info)\n",
        "if gpu_info.find('failed') >= 0:\n",
        "  print('Not connected to a GPU')\n",
        "else:\n",
        "  print(gpu_info)"
      ]
    },
    {
      "cell_type": "code",
      "execution_count": 70,
      "metadata": {
        "colab": {
          "base_uri": "https://localhost:8080/"
        },
        "id": "O7_ny_A1Z6L9",
        "outputId": "cd836680-3885-467d-88df-59fabb46a24f"
      },
      "outputs": [
        {
          "output_type": "stream",
          "name": "stdout",
          "text": [
            "Your runtime has 27.3 gigabytes of available RAM\n",
            "\n",
            "You are using a high-RAM runtime!\n"
          ]
        }
      ],
      "source": [
        "# Check RAM access\n",
        "from psutil import virtual_memory\n",
        "ram_gb = virtual_memory().total / 1e9\n",
        "print('Your runtime has {:.1f} gigabytes of available RAM\\n'.format(ram_gb))\n",
        "\n",
        "if ram_gb < 20:\n",
        "  print('Not using a high-RAM runtime')\n",
        "else:\n",
        "  print('You are using a high-RAM runtime!')"
      ]
    },
    {
      "cell_type": "code",
      "execution_count": 71,
      "metadata": {
        "colab": {
          "base_uri": "https://localhost:8080/"
        },
        "id": "nnLdyhmuzL2Z",
        "outputId": "73a136f9-884f-4935-fa59-78af291fa7f5"
      },
      "outputs": [
        {
          "output_type": "stream",
          "name": "stdout",
          "text": [
            "Looking in indexes: https://pypi.org/simple, https://us-python.pkg.dev/colab-wheels/public/simple/\n",
            "Requirement already satisfied: muspy in /usr/local/lib/python3.7/dist-packages (0.5.0)\n",
            "Requirement already satisfied: pypianoroll>=1.0 in /usr/local/lib/python3.7/dist-packages (from muspy) (1.0.4)\n",
            "Requirement already satisfied: joblib>=0.15 in /usr/local/lib/python3.7/dist-packages (from muspy) (1.1.0)\n",
            "Requirement already satisfied: mido>=1.0 in /usr/local/lib/python3.7/dist-packages (from muspy) (1.2.10)\n",
            "Requirement already satisfied: matplotlib>=1.5 in /usr/local/lib/python3.7/dist-packages (from muspy) (3.2.2)\n",
            "Requirement already satisfied: music21>=6.0 in /usr/local/lib/python3.7/dist-packages (from muspy) (7.3.3)\n",
            "Requirement already satisfied: bidict>=0.21 in /usr/local/lib/python3.7/dist-packages (from muspy) (0.22.0)\n",
            "Requirement already satisfied: PyYAML>=3.0 in /usr/local/lib/python3.7/dist-packages (from muspy) (6.0)\n",
            "Requirement already satisfied: pretty-midi>=0.2 in /usr/local/lib/python3.7/dist-packages (from muspy) (0.2.9)\n",
            "Requirement already satisfied: miditoolkit>=0.1 in /usr/local/lib/python3.7/dist-packages (from muspy) (0.1.16)\n",
            "Requirement already satisfied: tqdm>=4.0 in /usr/local/lib/python3.7/dist-packages (from muspy) (4.64.1)\n",
            "Requirement already satisfied: requests>=2.0 in /usr/local/lib/python3.7/dist-packages (from muspy) (2.23.0)\n",
            "Requirement already satisfied: pyparsing!=2.0.4,!=2.1.2,!=2.1.6,>=2.0.1 in /usr/local/lib/python3.7/dist-packages (from matplotlib>=1.5->muspy) (3.0.9)\n",
            "Requirement already satisfied: cycler>=0.10 in /usr/local/lib/python3.7/dist-packages (from matplotlib>=1.5->muspy) (0.11.0)\n",
            "Requirement already satisfied: python-dateutil>=2.1 in /usr/local/lib/python3.7/dist-packages (from matplotlib>=1.5->muspy) (2.8.2)\n",
            "Requirement already satisfied: kiwisolver>=1.0.1 in /usr/local/lib/python3.7/dist-packages (from matplotlib>=1.5->muspy) (1.4.4)\n",
            "Requirement already satisfied: numpy>=1.11 in /usr/local/lib/python3.7/dist-packages (from matplotlib>=1.5->muspy) (1.21.6)\n",
            "Requirement already satisfied: typing-extensions in /usr/local/lib/python3.7/dist-packages (from kiwisolver>=1.0.1->matplotlib>=1.5->muspy) (4.1.1)\n",
            "Requirement already satisfied: jsonpickle in /usr/local/lib/python3.7/dist-packages (from music21>=6.0->muspy) (2.2.0)\n",
            "Requirement already satisfied: more-itertools in /usr/local/lib/python3.7/dist-packages (from music21>=6.0->muspy) (8.14.0)\n",
            "Requirement already satisfied: chardet in /usr/local/lib/python3.7/dist-packages (from music21>=6.0->muspy) (3.0.4)\n",
            "Requirement already satisfied: webcolors>=1.5 in /usr/local/lib/python3.7/dist-packages (from music21>=6.0->muspy) (1.12)\n",
            "Requirement already satisfied: six in /usr/local/lib/python3.7/dist-packages (from pretty-midi>=0.2->muspy) (1.15.0)\n",
            "Requirement already satisfied: scipy>=1.0.0 in /usr/local/lib/python3.7/dist-packages (from pypianoroll>=1.0->muspy) (1.7.3)\n",
            "Requirement already satisfied: urllib3!=1.25.0,!=1.25.1,<1.26,>=1.21.1 in /usr/local/lib/python3.7/dist-packages (from requests>=2.0->muspy) (1.24.3)\n",
            "Requirement already satisfied: idna<3,>=2.5 in /usr/local/lib/python3.7/dist-packages (from requests>=2.0->muspy) (2.10)\n",
            "Requirement already satisfied: certifi>=2017.4.17 in /usr/local/lib/python3.7/dist-packages (from requests>=2.0->muspy) (2022.6.15)\n",
            "Requirement already satisfied: importlib-metadata in /usr/local/lib/python3.7/dist-packages (from jsonpickle->music21>=6.0->muspy) (4.12.0)\n",
            "Requirement already satisfied: zipp>=0.5 in /usr/local/lib/python3.7/dist-packages (from importlib-metadata->jsonpickle->music21>=6.0->muspy) (3.8.1)\n",
            "Skip downloading as the MuseScore General soundfont is found.\n",
            "Skip downloading as the Bravura font is found.\n",
            "Reading package lists... Done\n",
            "Building dependency tree       \n",
            "Reading state information... Done\n",
            "fluidsynth is already the newest version (1.1.9-1).\n",
            "The following package was automatically installed and is no longer required:\n",
            "  libnvidia-common-460\n",
            "Use 'apt autoremove' to remove it.\n",
            "0 upgraded, 0 newly installed, 0 to remove and 32 not upgraded.\n",
            "Looking in indexes: https://pypi.org/simple, https://us-python.pkg.dev/colab-wheels/public/simple/\n",
            "Requirement already satisfied: pyfluidsynth in /usr/local/lib/python3.7/dist-packages (1.3.1)\n",
            "Requirement already satisfied: numpy in /usr/local/lib/python3.7/dist-packages (from pyfluidsynth) (1.21.6)\n"
          ]
        }
      ],
      "source": [
        "# Install muspy related code\n",
        "!pip install muspy\n",
        "import muspy\n",
        "muspy.download_musescore_soundfont() \n",
        "muspy.download_bravura_font() \n",
        "\n",
        "# Install fluidsynth related code\n",
        "!apt install fluidsynth\n",
        "!pip install pyfluidsynth"
      ]
    },
    {
      "cell_type": "markdown",
      "metadata": {
        "id": "RgRRhU6SSfmz"
      },
      "source": [
        "# musiGAN\n",
        "\n",
        "**Description:** 1-Track MuseGAN architecture build on MiniGAN.\\\n",
        "**Purpose:** implement a composing GAN.\\\n",
        "**Results:**"
      ]
    },
    {
      "cell_type": "code",
      "execution_count": 72,
      "metadata": {
        "id": "3Zy36G-CGamF"
      },
      "outputs": [],
      "source": [
        "import os\n",
        "import pickle\n",
        "from tqdm import notebook\n",
        "from datetime import datetime\n",
        "from IPython.display import Audio, display\n",
        "\n",
        "import pandas as pd\n",
        "import matplotlib.pyplot as plt\n",
        "plt.style.use('tableau-colorblind10')\n",
        "%config InlineBackend.figure_format = 'retina'\n",
        "\n",
        "import math\n",
        "import numpy as np\n",
        "import torch\n",
        "from scipy import ndimage\n",
        "\n",
        "import muspy\n",
        "import fluidsynth"
      ]
    },
    {
      "cell_type": "markdown",
      "metadata": {
        "id": "trwcbyaoSfm2"
      },
      "source": [
        "## Data Preparation"
      ]
    },
    {
      "cell_type": "code",
      "execution_count": 73,
      "metadata": {
        "id": "ePkslq2wSfm4"
      },
      "outputs": [],
      "source": [
        "class Pianoroll :\n",
        "    def __init__ (self, filepath) :\n",
        "        assert  type(filepath) == str\n",
        "\n",
        "        # Creating the dataset from a file\n",
        "        stored_data = np.load(filepath)\n",
        "        data_array  = stored_data[\"data\"]\n",
        "        labels_array = stored_data[\"labels\"]\n",
        "        self.data   = torch.as_tensor(data_array, dtype = torch.float32)\n",
        "        self.labels = torch.as_tensor(labels_array, dtype = torch.int64)\n",
        "\n",
        "        self.dataset = torch.utils.data.TensorDataset(self.data, self.labels)\n",
        "\n",
        "        # Storing additional info about it\n",
        "        self.shape  = tuple(self.data.shape[1:])   # shape of one pianoroll image\n",
        "        self.size   = self.shape[0] * self.shape[1]\n",
        "        self.height       = self.data.shape[2]\n",
        "        self.width        = self.data.shape[1]\n",
        "        self.dataset_size = self.data.shape[0]\n",
        "\n",
        "    \n",
        "    def show (self, number = None) :\n",
        "        if number == None :\n",
        "            number = np.random.randint(self.dataset_size)\n",
        "        else :\n",
        "            assert  type(number) == int\n",
        "            assert  number >= 0 and number < self.dataset_size\n",
        "\n",
        "        plt.figure(figsize = (12, 6))\n",
        "        plt.title(f\"pianoroll #{number}\")\n",
        "        plt.imshow(self.data[number].T)\n",
        "        plt.show()    "
      ]
    },
    {
      "cell_type": "markdown",
      "metadata": {
        "id": "E5pWodkypE8U"
      },
      "source": [
        "### LPD5"
      ]
    },
    {
      "cell_type": "code",
      "execution_count": 74,
      "metadata": {
        "id": "KCEcB4f4pE8V"
      },
      "outputs": [],
      "source": [
        "lpd5 = Pianoroll(\"../experiments/lpd5_full_4bars/prepared_arrays.npz\")"
      ]
    },
    {
      "cell_type": "code",
      "execution_count": 75,
      "metadata": {
        "colab": {
          "base_uri": "https://localhost:8080/",
          "height": 410
        },
        "id": "wRH2fKd1pE8W",
        "outputId": "01e2b6bd-100c-495b-f645-97ef8b0fbdac"
      },
      "outputs": [
        {
          "output_type": "display_data",
          "data": {
            "text/plain": [
              "<Figure size 864x432 with 1 Axes>"
            ],
            "image/png": "[encoded data removed]"
          },
          "metadata": {
            "image/png": {
              "width": 703,
              "height": 339
            },
            "needs_background": "light"
          }
        },
        {
          "output_type": "stream",
          "name": "stdout",
          "text": [
            "lpd5.dataset_size 102483\n",
            "lpd5.shape (192, 84)\n"
          ]
        }
      ],
      "source": [
        "lpd5.show()\n",
        "print(\"lpd5.dataset_size\", lpd5.dataset_size)\n",
        "print(\"lpd5.shape\", lpd5.shape)"
      ]
    },
    {
      "cell_type": "code",
      "execution_count": 76,
      "metadata": {
        "colab": {
          "base_uri": "https://localhost:8080/"
        },
        "id": "g_kByFrepE8X",
        "outputId": "f736ceca-65f5-4c3a-8dc0-3b3e6f08ba61"
      },
      "outputs": [
        {
          "output_type": "stream",
          "name": "stdout",
          "text": [
            "lpd5.blips_per_bar 48\n",
            "lpd5.pitches 84\n"
          ]
        }
      ],
      "source": [
        "lpd5.bars           = 4\n",
        "lpd5.lowest_pitch   = 24\n",
        "lpd5.blips_per_bar  = lpd5.width // lpd5.bars\n",
        "lpd5.blips_per_beat = lpd5.blips_per_bar // 4\n",
        "lpd5.pitches        = lpd5.height\n",
        "lpd5.octaves        = lpd5.pitches // 12\n",
        "lpd5.genre_list     = ['Rap', 'Latin', 'International', 'Electronic', \n",
        "                       'Country', 'Folk', 'Blues', 'Reggae', 'Jazz',\n",
        "                       'Vocal', 'New-Age', 'RnB', 'Pop_Rock']\n",
        "\n",
        "print(\"lpd5.blips_per_bar\", lpd5.blips_per_bar)\n",
        "print(\"lpd5.pitches\", lpd5.pitches)"
      ]
    },
    {
      "cell_type": "markdown",
      "metadata": {
        "id": "3tnu9HElSfm5"
      },
      "source": [
        "## Architecture classes"
      ]
    },
    {
      "cell_type": "markdown",
      "metadata": {
        "id": "KdGO-KlvSfm5"
      },
      "source": [
        "### Support classes"
      ]
    },
    {
      "cell_type": "code",
      "execution_count": 77,
      "metadata": {
        "id": "acpAO9NSSfm5"
      },
      "outputs": [],
      "source": [
        "\"\"\"\n",
        "    These two classes serves as torch layers to binarize the output of the Generator while keeping the layer still \"backpropagatable\" (via a hardtanh).\n",
        "    This is not our own code. For source, see:\n",
        "    https://www.hassanaskary.com/python/pytorch/deep%20learning/2020/09/19/intuitive-explanation-of-straight-through-estimators.html#:~:text=A%20straight%2Dthrough%20estimator%20is,function%20was%20an%20identity%20function.\n",
        "\"\"\"\n",
        "\n",
        "class STEFunction(torch.autograd.Function):\n",
        "    @staticmethod\n",
        "    def forward(ctx, input):\n",
        "        return (input > 0.5).float()\n",
        "\n",
        "    @staticmethod\n",
        "    def backward(ctx, grad_output):\n",
        "        return torch.nn.functional.hardtanh(grad_output)\n",
        "\n",
        "class StraightThroughEstimator(torch.nn.Module):\n",
        "    def __init__(self):\n",
        "        super(StraightThroughEstimator, self).__init__()\n",
        "\n",
        "    def forward(self, x):\n",
        "        # only binarize in eval() mode, not in training\n",
        "        x = x  if self.training  else  STEFunction.apply(x)\n",
        "        #x = STEFunction.apply(x)\n",
        "        return x\n"
      ]
    },
    {
      "cell_type": "code",
      "execution_count": 78,
      "metadata": {
        "id": "-_Tgofn5pfRU"
      },
      "outputs": [],
      "source": [
        "class GeneratorBlock(torch.nn.Module):\n",
        "    \"\"\" 2d transconv layer, batch normalization & ReLU \"\"\"\n",
        "\n",
        "    def __init__(self, in_dim, out_dim, kernel, stride):\n",
        "        super().__init__()\n",
        "\n",
        "        self.gen_block = torch.nn.Sequential(\n",
        "            torch.nn.ConvTranspose2d(in_dim, out_dim, kernel, stride),\n",
        "            torch.nn.BatchNorm2d(out_dim),\n",
        "            torch.nn.ReLU()\n",
        "            )\n",
        "\n",
        "    def forward(self, x):\n",
        "        return self.gen_block(x)"
      ]
    },
    {
      "cell_type": "code",
      "execution_count": 79,
      "metadata": {
        "id": "n38oto6cpfRW"
      },
      "outputs": [],
      "source": [
        "class DiscriminatorBlock(torch.nn.Module):\n",
        "    \"\"\"3d conv layer & Leaky ReLU\"\"\"\n",
        "\n",
        "    def __init__(self, in_dim, out_dim, kernel, stride):\n",
        "        super().__init__()\n",
        "        self.dis_block = torch.nn.Sequential(\n",
        "            torch.nn.Conv3d(in_dim, out_dim, kernel, stride),\n",
        "            torch.nn.LeakyReLU(negative_slope = 0.2)   # MuseGAN Hyperparameter\n",
        "            )\n",
        "\n",
        "    def forward(self, x):\n",
        "        return self.dis_block(x)"
      ]
    },
    {
      "cell_type": "markdown",
      "metadata": {
        "id": "kU1bKYfdSfm6"
      },
      "source": [
        "### Main neural network classes"
      ]
    },
    {
      "cell_type": "code",
      "execution_count": 80,
      "metadata": {
        "id": "rOkq0b4VpfRV"
      },
      "outputs": [],
      "source": [
        "class MusiGen (torch.nn.Module) :\n",
        "    \"\"\"\n",
        "    1-track museGAN generator, consisting of two sub-networks (so-called \n",
        "    temporal and bar generator)\n",
        "\n",
        "    input : seed vector, a normally distributed random vector, \n",
        "            length: (B + 1) * 64 = 5 * 64 here\n",
        "    output: pianaroll, binary tensor, shape: (B x T x P) = (4 x 48 x 84) here\n",
        "    \"\"\"\n",
        "\n",
        "    def __init__ (self, log = False, **kwargs) : \n",
        "        super().__init__(**kwargs)\n",
        "\n",
        "        # Data parameters\n",
        "        self.octaves    = lpd5.octaves\n",
        "        self.bars       = lpd5.bars    # bars per pianoroll\n",
        "        self.T          = lpd5.blips_per_bar  # timesteps per bar\n",
        "        self.P          = lpd5.pitches   # pitches\n",
        "        self.seedlength = 64\n",
        "        \n",
        "        self.temporal_generator = torch.nn.Sequential(\n",
        "            \n",
        "            # heuristically added linear layer\n",
        "            torch.nn.Linear(1, 31),\n",
        "            torch.nn.BatchNorm1d(64),\n",
        "            torch.nn.ReLU(),\n",
        "\n",
        "            # transconv layer 1\n",
        "            torch.nn.ConvTranspose1d(64, 1024, 2, 2),\n",
        "            torch.nn.BatchNorm1d(1024),\n",
        "            torch.nn.ReLU(),\n",
        "\n",
        "            # transconv layer 2\n",
        "            torch.nn.ConvTranspose1d(1024, 1, 3, 1),\n",
        "            torch.nn.BatchNorm1d(1),\n",
        "            torch.nn.ReLU()\n",
        "        )\n",
        "\n",
        "        self.bar_generator = torch.nn.Sequential(\n",
        "            \n",
        "            # transconv layers\n",
        "            GeneratorBlock( 128, 1024, (2, 1), (2, 1)),\n",
        "            GeneratorBlock(1024,  512, (2, 1), (2, 1)),\n",
        "            GeneratorBlock( 512,  256, (2, 1), (2, 1)),\n",
        "            GeneratorBlock( 256,  256, (2, 1), (2, 1)),\n",
        "            GeneratorBlock( 256,  128, (3, 1), (3, 1)),\n",
        "            GeneratorBlock( 128,   64, (1, self.octaves), (1, self.octaves)),\n",
        "\n",
        "            # last layer with tanh & binarization activation fct.s\n",
        "            torch.nn.ConvTranspose2d(64, 1, (1, 12), (1, 12)),\n",
        "            torch.nn.BatchNorm2d(1),\n",
        "            torch.nn.Tanh(),\n",
        "            StraightThroughEstimator() # binarization\n",
        "        )\n",
        "\n",
        "        if log :\n",
        "            print(f\"Generator: parameters: {self.count_params()}\")\n",
        "            print(\"\")\n",
        "\n",
        "    def count_params (self) :\n",
        "        \"\"\"count number of trainable parameters\"\"\"\n",
        "        return sum(p.numel() for p in self.parameters() if p.requires_grad)\n",
        "\n",
        "\n",
        "    def forward_custom (self, seed) :\n",
        "        assert  type(seed) == torch.Tensor\n",
        "        assert  len(seed.shape) == 2\n",
        "        assert  seed.shape[0] >= 1\n",
        "        assert  seed.shape[1] == (1 + self.bars) * self.seedlength\n",
        "\n",
        "        batchsize = seed.shape[0]\n",
        "        return self.forward(batchsize, seed)\n",
        "\n",
        "\n",
        "    def forward (self, batch_size, seed = None) :\n",
        "        \n",
        "        if seed == None :\n",
        "            assert type(batch_size) == int\n",
        "            assert batch_size >= 1\n",
        "            device = 'cuda'  if torch.cuda.is_available() else  'cpu'\n",
        "            seed = torch.normal(0., 1, (batch_size, (1 + self.bars) * self.seedlength)).to(device)\n",
        "            \n",
        "        seeds = torch.chunk(seed, chunks = 5, dim = 1)\n",
        "        \n",
        "        # create time-independent first half of seed for bar generator\n",
        "        bar_seed_1 = seeds[0]\n",
        "        bar_seed_1 = bar_seed_1.view((-1, self.seedlength, 1, 1)) # reshape for transconv layers\n",
        "\n",
        "        # generate pianorolls bar by bar\n",
        "        generated_bars = []\n",
        "        for temporal_seed in seeds[1:]:\n",
        "            \n",
        "            ## generate time-dependent second half of seed for bar generator\n",
        "\n",
        "            temporal_seed = temporal_seed.view(-1, self.seedlength, 1) # reshape for transconv layers\n",
        "            #print(f\"temporal seed: {temporal_seed.size()}\")\n",
        "            bar_seed_2 = self.temporal_generator(temporal_seed) # (batch size x 1 x 64)\n",
        "            #print(f\"bar seed 2: {bar_seed_2.size()}\")\n",
        "\n",
        "            ## reshape & concatenate both halfs of seed for bar generator \n",
        "            \n",
        "            bar_seed_2 = bar_seed_2.view(-1, self.seedlength, 1, 1)\n",
        "            bar_seed   = torch.cat((bar_seed_1, bar_seed_2), dim = 1) # (batch size x 128 x 1 x 1)\n",
        "            #print(f\"bar seed: {bar_seed d.size()}\")\n",
        "\n",
        "            ## generate one bar \n",
        "            \n",
        "            generated_bar = self.bar_generator(bar_seed) # (batch size x 1 x 24 x 84)\n",
        "            #print(f\"generated_bar: {generated_bar.size()}\")\n",
        "            generated_bars.append(generated_bar) \n",
        "\n",
        "        pianoroll = torch.cat(generated_bars, dim = 1) # (batch size x 4 x 24 x 84) \n",
        "        #print(f\"gen output: {pianoroll.size()}\")\n",
        "\n",
        "        return pianoroll"
      ]
    },
    {
      "cell_type": "code",
      "execution_count": 81,
      "metadata": {
        "id": "I5vGYaCfpfRW"
      },
      "outputs": [],
      "source": [
        "class MusiDis (torch.nn.Module) :\n",
        "    \"\"\"\n",
        "    1-Track musiCAN discriminator, with 2 heads \n",
        "    \n",
        "    input : (B x T x P) binary pianoroll\n",
        "\n",
        "    output: 1. single number, prob. that the input pianoroll is a \n",
        "            real and not generated\n",
        "            2. vector of length = number of genres, prob. that the input \n",
        "            pianoroll is of a certain genre type\n",
        "\n",
        "    n_labels : number of labels\n",
        "    \"\"\"\n",
        "\n",
        "    def __init__ (self, n_labels = 13, log = False, **kwargs) :\n",
        "        super().__init__(**kwargs)\n",
        "\n",
        "        # Data parameters\n",
        "        self.octaves    = lpd5.octaves\n",
        "        self.bars       = lpd5.bars    # bars per pianoroll\n",
        "        self.T          = lpd5.blips_per_bar  # timesteps per bar\n",
        "        self.P          = lpd5.pitches   # pitches\n",
        "        self.seedlength = 64\n",
        "        self.n_labels   = n_labels\n",
        "      \n",
        "        # common body: conv layers\n",
        "        self.discriminator_conv = torch.nn.Sequential(\n",
        "            DiscriminatorBlock(  1, 128, (2, 1,  1), (1, 1,  1)),\n",
        "            DiscriminatorBlock(128, 128, (3, 1,  1), (1, 1,  1)),\n",
        "            DiscriminatorBlock(128, 128, (1, 1, 12), (1, 1, 12)), \n",
        "            DiscriminatorBlock(128, 128, (1, 1,  self.octaves), (1, 1,  self.octaves)),\n",
        "            DiscriminatorBlock(128, 128, (1, 2,  1), (1, 2,  1)),\n",
        "            DiscriminatorBlock(128, 128, (1, 2,  1), (1, 2,  1)),\n",
        "            DiscriminatorBlock(128, 256, (1, 4,  1), (1, 2,  1)),\n",
        "            DiscriminatorBlock(256, 512, (1, 3,  1), (1, 2,  1))\n",
        "            )\n",
        "        \n",
        "        # heads: fully-connected layers\n",
        "        self.discriminator_music_head = torch.nn.Sequential(\n",
        "            torch.nn.Linear(512*2, 1024),  \n",
        "            torch.nn.LeakyReLU(negative_slope = 0.2),\n",
        "            torch.nn.Linear(1024, 1))\n",
        "        \n",
        "        self.discriminator_genre_head = torch.nn.Sequential(\n",
        "            torch.nn.Linear(512*2, 1024),  \n",
        "            torch.nn.LeakyReLU(negative_slope = 0.2),\n",
        "            torch.nn.Linear(1024, self.n_labels))\n",
        "\n",
        "        if log :\n",
        "            print(f\"Discriminator parameters: {self.count_params()}\")\n",
        "            print(\"\")\n",
        "\n",
        "    def count_params (self) :\n",
        "        \"\"\"count number of trainable parameters\"\"\"\n",
        "        return sum(p.numel() for p in self.parameters() if p.requires_grad)\n",
        "\n",
        "    def forward (self, pianoroll):\n",
        "\n",
        "        # reshape input for transconvs\n",
        "        pianoroll   = pianoroll.view(-1, 1, self.bars, self.T, self.P) \n",
        "        # print(\"dis input prep.\", pianoroll.shape)\n",
        "\n",
        "        # put through common body and flatten instances\n",
        "        common_conv_output = self.discriminator_conv(pianoroll)\n",
        "        common_fc_input = common_conv_output.view(-1, 512*2)  \n",
        "        # print(\"dis conv out\", common_conv_output.size())\n",
        "\n",
        "        # put through each head to judge music (real / fake) and genre labels\n",
        "        music_judgement = self.discriminator_music_head(common_fc_input).flatten().float()\n",
        "        genre_judgement = self.discriminator_genre_head(common_fc_input).view(-1, self.n_labels).float()\n",
        "        # print(\"dis out \", music_judgement.size(), genre_judgement.size())\n",
        "\n",
        "        return music_judgement, genre_judgement"
      ]
    },
    {
      "cell_type": "markdown",
      "metadata": {
        "id": "swF_vr8kSfm9"
      },
      "source": [
        "## Training & evaluation classes"
      ]
    },
    {
      "cell_type": "markdown",
      "metadata": {
        "id": "vG8eX-HGSfm-"
      },
      "source": [
        "### Training support"
      ]
    },
    {
      "cell_type": "markdown",
      "source": [
        "#### Training metrics"
      ],
      "metadata": {
        "id": "L_lrgdWMSrIk"
      }
    },
    {
      "cell_type": "code",
      "execution_count": 82,
      "metadata": {
        "id": "D0p-ZDYGSfm-"
      },
      "outputs": [],
      "source": [
        "def abs_mean_diff (generated_batch, real_batch) :\n",
        "    \"\"\"\n",
        "        compare two batches of data by calculating the absolute mean difference\n",
        "    \"\"\"\n",
        "    \n",
        "    # equalize shapes\n",
        "    real_shape = real_batch.shape[-2:]\n",
        "    real_batch = real_batch.view(-1, *real_shape)\n",
        "    generated_batch = generated_batch.view(-1, *real_shape)\n",
        "    assert  generated_batch.shape == real_batch.shape\n",
        "\n",
        "    # averaged over batches \n",
        "    generated_mean = torch.mean(generated_batch, dim = 0)\n",
        "    real_mean      = torch.mean(real_batch, dim = 0)\n",
        "\n",
        "    # take differnece & absolut value, average over features lastly\n",
        "    absolute_mean_difference = torch.mean(torch.abs(real_mean - generated_mean))\n",
        "\n",
        "    return absolute_mean_difference.cpu().detach().numpy()"
      ]
    },
    {
      "cell_type": "code",
      "source": [
        "def abs_std_diff (generated_batch, real_batch) :\n",
        "    \"\"\"\n",
        "        compare two batches of data by calculating the absolute standard deviation difference\n",
        "    \"\"\"\n",
        "    \n",
        "    # equalize shapes\n",
        "    real_shape = real_batch.shape[-2:]\n",
        "    real_batch = real_batch.view(-1, *real_shape)\n",
        "    generated_batch = generated_batch.view(-1, *real_shape)\n",
        "    assert  generated_batch.shape == real_batch.shape\n",
        "\n",
        "    # averaged over batches \n",
        "    generated_std = torch.std(generated_batch, dim = 0, unbiased = True)\n",
        "    real_std      = torch.std(real_batch, dim = 0, unbiased = True)\n",
        "    \n",
        "    # take differnece & absolut value, average over features lastly\n",
        "    absolute_std_difference = torch.mean(torch.abs(real_std - generated_std))\n",
        "\n",
        "    return absolute_std_difference.cpu().detach().numpy()"
      ],
      "metadata": {
        "id": "1uWF5EdvzU8Y"
      },
      "execution_count": 83,
      "outputs": []
    },
    {
      "cell_type": "code",
      "source": [
        "def inter_bar_var (generated_batch) :\n",
        "    \"\"\"\n",
        "        computes the inter-bar standard deviation\n",
        "    \"\"\"\n",
        "\n",
        "    inter_bar_std_dev = torch.mean(torch.std(generated_batch, dim = 1, \n",
        "                                             unbiased = True)) # std over bars\n",
        "    \n",
        "    return inter_bar_std_dev.cpu().detach().numpy()\n"
      ],
      "metadata": {
        "id": "cvYGRG9z2dR-"
      },
      "execution_count": 84,
      "outputs": []
    },
    {
      "cell_type": "code",
      "source": [
        "def inter_track_var (generated_batch) :\n",
        "    \"\"\"\n",
        "        computes the inter-track standard deviation\n",
        "    \"\"\"\n",
        "\n",
        "    inter_track_std_dev = torch.mean(torch.std(generated_batch, dim = 0, \n",
        "                                               unbiased = True)) # std over tracks\n",
        "    \n",
        "    return inter_track_std_dev.cpu().detach().numpy()"
      ],
      "metadata": {
        "id": "3NjqpcV34U3t"
      },
      "execution_count": 85,
      "outputs": []
    },
    {
      "cell_type": "markdown",
      "source": [
        "#### Loss function support"
      ],
      "metadata": {
        "id": "xS0kN-LMSzV0"
      }
    },
    {
      "cell_type": "code",
      "execution_count": 86,
      "metadata": {
        "id": "eYO2ATSm3oRb"
      },
      "outputs": [],
      "source": [
        "def unif_cross_entropy(probabilities, weight):\n",
        "    return(torch.mean(weight * torch.log(probabilities)))"
      ]
    },
    {
      "cell_type": "code",
      "source": [
        "def softmax(probabilities, safe_normalization = True, eps = 0.000001):\n",
        "  \n",
        "    if safe_normalization == \"safe\":\n",
        "        exp_probs = torch.exp(probabilities)\n",
        "        normalization = torch.maximum(torch.sum(exp_probs, dim = 1), eps)\n",
        "  \n",
        "        if normalization > 0: \n",
        "            return(exp_probs / normalization)\n",
        "    \n",
        "        else:\n",
        "            return(exp_probs)\n",
        "  \n",
        "    else:\n",
        "        return(torch.nn.functional.softmax(probabilities, dim = 1))"
      ],
      "metadata": {
        "id": "TWKiWR-hYbJG"
      },
      "execution_count": 87,
      "outputs": []
    },
    {
      "cell_type": "code",
      "source": [
        "# Note: this function comes directly from the museGAN tutorial [1].\n",
        "def compute_gradient_penalty(discriminator, real_samples, fake_samples, device):\n",
        "    \"\"\"Compute the gradient penalty for regularization. Intuitively, the\n",
        "    gradient penalty help stablize the magnitude of the gradients that the\n",
        "    discriminator provides to the generator, and thus help stablize the training\n",
        "    of the generator.\"\"\"\n",
        "    # Get random interpolations between real and fake samples\n",
        "    alpha = torch.rand(real_samples.size(0), 1, 1, 1).to(device)\n",
        "    interpolates = (alpha * real_samples + ((1 - alpha) * fake_samples))\n",
        "    interpolates = interpolates.requires_grad_(True)\n",
        "    \n",
        "    # Get the discriminator output for the interpolations\n",
        "    d_interpolates, _ = discriminator(interpolates)\n",
        "    # Get gradients w.r.t. the interpolations\n",
        "    fake = torch.ones(real_samples.size(0)).to(device)\n",
        "    gradients = torch.autograd.grad(\n",
        "        outputs=d_interpolates,\n",
        "        inputs=interpolates,\n",
        "        grad_outputs=fake,\n",
        "        create_graph=True,\n",
        "        retain_graph=True,\n",
        "    )[0]\n",
        "    # Compute gradient penalty\n",
        "    gradients = gradients.view(gradients.size(0), -1)\n",
        "    gradient_penalty = ((gradients.norm(2, dim=1) - 1) ** 2).mean()\n",
        "    return gradient_penalty\n",
        "\n",
        "# Sources:\n",
        "# [1] https://github.com/salu133445/ismir2019tutorial/blob/main/musegan.ipynb"
      ],
      "metadata": {
        "id": "h0LYqJUeUJne"
      },
      "execution_count": 88,
      "outputs": []
    },
    {
      "cell_type": "markdown",
      "source": [
        "#### Logging"
      ],
      "metadata": {
        "id": "6ejVE_JNS2VE"
      }
    },
    {
      "cell_type": "code",
      "execution_count": 89,
      "metadata": {
        "id": "Jxg1fBDoSfm_"
      },
      "outputs": [],
      "source": [
        "class Log :\n",
        "    \"\"\"\n",
        "        container class for GANTraining logs\n",
        "    \"\"\"\n",
        "    \n",
        "    def __init__ (self, rounds, dis_rounds, n_labels) :\n",
        "        self.losses        = np.zeros((5, rounds)) \n",
        "        self.music_probs   = np.zeros((2, rounds))\n",
        "        self.genre_probs   = np.zeros((1 + n_labels, rounds))\n",
        "        self.abs_diff      = np.zeros((2, rounds))  # abs_mean_diff(), abs_std_diff()\n",
        "        self.gen_var       = np.zeros((2, rounds))  # inter_bar_var(), inter_track_var()\n",
        "        \n",
        "        self._dis_losses   = torch.zeros((4, dis_rounds)).cpu()\n",
        "        self._music_probs  = torch.zeros((2, dis_rounds)).cpu()\n",
        "        self._genre_probs  = torch.zeros((1 + n_labels, rounds)).cpu()\n"
      ]
    },
    {
      "cell_type": "code",
      "source": [
        "class LogLoaded :\n",
        "    \"\"\"\n",
        "        A class to load stored Log data from an .npz file\n",
        "        and to use it exactly like Log.\n",
        "    \"\"\"\n",
        "\n",
        "    def __init__ (self, log_dictionary) :\n",
        "        for keyword, value in log_dictionary.items() :\n",
        "            setattr(self, keyword, value)\n",
        "        "
      ],
      "metadata": {
        "id": "jMlCiiOwBybk"
      },
      "execution_count": 90,
      "outputs": []
    },
    {
      "cell_type": "markdown",
      "metadata": {
        "id": "WstRQBd2SfnA"
      },
      "source": [
        "### GANTraining"
      ]
    },
    {
      "cell_type": "code",
      "execution_count": 124,
      "metadata": {
        "id": "fg1SZJl7SfnA"
      },
      "outputs": [],
      "source": [
        "class GANTraining :\n",
        "    \"\"\"\n",
        "        general GAN training class\n",
        "        How To Use:\n",
        "        * `MyTrain = GANTraining(<Generator>, <Discriminator>, <torch_dataset>)`\n",
        "        * `MyTrain.setup(<int_rounds>, batchsize = 1, discriminator_rounds = 1,     \n",
        "                        loss_function = [\"WGAN\", \"GAN\"])`\n",
        "        * `MyTrain.train()`\n",
        "      \n",
        "        After That:\n",
        "        * `MyTrain.gen` contains trained Generator\n",
        "        * `MyTrain.dis` contains trained Discriminator\n",
        "        * `MyTrain.log` contains metrics from each round (see class Log)\n",
        "    \"\"\"\n",
        "\n",
        "\n",
        "    def __init__ (self, Gen, Dis, dataset) :\n",
        "        assert  type(dataset) == torch.utils.data.dataset.TensorDataset\n",
        "        \n",
        "        self.device = 'cuda'  if torch.cuda.is_available() else  'cpu'\n",
        "\n",
        "        # GAN classes and dataset\n",
        "        self.n_labels = 13     # number of labels in dataset, automate maybe\n",
        "        self.GenClass = Gen\n",
        "        self.DisClass = Dis\n",
        "        self.dataset  = dataset\n",
        "        \n",
        "\n",
        "    def setup (self, rounds, batch_size = 1, discriminator_rounds = 1, \n",
        "               loss_function = \"CAN\") :\n",
        "        assert  type(rounds) == int\n",
        "        assert  rounds >= 1\n",
        "        assert  type(batch_size) == int\n",
        "        assert  batch_size >= 1\n",
        "        assert  type(discriminator_rounds) == int\n",
        "        assert  discriminator_rounds >= 1\n",
        "        assert  loss_function in [\"GAN\", \"WGAN\", \"WGAN-GP\", \"CAN\", \"WCAN-GP\"]\n",
        "\n",
        "        # Training parameters\n",
        "        self.rounds     = rounds\n",
        "        self.batch_size = batch_size\n",
        "        self.dis_rounds = discriminator_rounds\n",
        "        self.loss       = loss_function\n",
        "\n",
        "        # Dataloader\n",
        "        self.data_loader = torch.utils.data.DataLoader(self.dataset,\n",
        "                                batch_size = self.batch_size, \n",
        "                                drop_last = True,\n",
        "                                shuffle = True)\n",
        "        self.dataset_size = self.dataset.tensors[0].shape[0]  # number of instances in dataset\n",
        "        self.batch_count = self.dataset_size // self.batch_size\n",
        "        self._batch_idx  = self.batch_count \n",
        "        \n",
        "        # Logs\n",
        "        self.log    = Log(self.rounds, self.dis_rounds, self.n_labels)\n",
        "        self.backup = False   # only on if self.set_backup() is run\n",
        "        \n",
        "        # Initialize GAN\n",
        "        self.gen = self.GenClass().to(self.device)\n",
        "        self.dis = self.DisClass().to(self.device)\n",
        "        self.optimizer_gen = torch.optim.Adam(self.gen.parameters(), \n",
        "                                              lr = 0.001,\n",
        "                                              betas = (0.5, 0.9))\n",
        "        self.optimizer_dis = torch.optim.Adam(self.dis.parameters(), \n",
        "                                              lr = 0.001,\n",
        "                                              betas = (0.5, 0.9))\n",
        "        # Note: ADAM parameters from GAN tutorial [1].\n",
        "       \n",
        " \n",
        "    def set_backups (self, training_name, checkpoints) :\n",
        "        assert  type(training_name) == str\n",
        "        for element in checkpoints :\n",
        "            assert  type(element) == int\n",
        "            assert  element > 0  and  element <= self.rounds\n",
        "        \n",
        "        self.training_name   = training_name\n",
        "        self.training_folder = \"\"   # 'timestamp+training_name', gets set at first backup\n",
        "        self.checkpoints     = checkpoints\n",
        "        self.backup          = True  # Flag for rest of code\n",
        "\n",
        "\n",
        "\n",
        "    def _get_batch (self) :\n",
        "        \"\"\"\n",
        "            samples one batch of data from self.data_loader without replacement.\n",
        "            When the self.data_set is depleted of fresh batches, \n",
        "            self.data_loader will shuffle a list of new batches.\n",
        "        \"\"\"\n",
        "        if self._batch_idx >= self.batch_count :\n",
        "            self._data_iter = iter(self.data_loader)\n",
        "            self._batch_idx = 0\n",
        "        batch_data, batch_labels = self._data_iter.next()\n",
        "        batch_data = batch_data.view(-1, lpd5.bars, \n",
        "                                     lpd5.blips_per_bar, lpd5.pitches)\n",
        "        self._batch_idx += 1\n",
        "\n",
        "        return batch_data.to(self.device), batch_labels.to(self.device)\n",
        "\n",
        "\n",
        "    def train (self) :\n",
        "        assert  hasattr(self, \"data_loader\")  # If test fails, you haven't run set_params()\n",
        "\n",
        "        print(f\"Training\")\n",
        "        arranged_tensor = torch.arange(self.batch_size) # used each round\n",
        "  \n",
        "        for round in notebook.tqdm(range(self.rounds)) :\n",
        "            for dis_round in range(self.dis_rounds) :\n",
        "                # Forward propagation\n",
        "                batch_real, labels_real        = self._get_batch()\n",
        "                music_dis_real, genre_dis_real = self.dis.forward(batch_real)\n",
        "                self.music_prob_real = torch.sigmoid(music_dis_real)\n",
        "                genre_probs_real     = softmax(genre_dis_real)\n",
        "                self.genre_prob_real = genre_probs_real[arranged_tensor, labels_real] # get prob of real genre\n",
        "                true_genre_dis_real = genre_dis_real[arranged_tensor, labels_real]\n",
        "                \n",
        "                batch_gen  = self.gen.forward(batch_size = self.batch_size)\n",
        "                music_dis_gen, genre_dis_gen = self.dis.forward(batch_gen)\n",
        "                self.music_prob_gen  = torch.sigmoid(music_dis_gen)\n",
        "                self.genre_probs_gen = softmax(genre_dis_gen)\n",
        "                \n",
        "                # Calculating the Discriminator loss function\n",
        "                if self.loss == \"GAN\" :\n",
        "                    self.loss_real = - torch.mean(torch.log(self.music_prob_real))\n",
        "                    self.loss_gen  = - torch.mean(torch.log(1 - self.music_prob_gen))\n",
        "                    self.loss_reg  = torch.tensor(0.)\n",
        "                \n",
        "                elif self.loss == \"WGAN\" :\n",
        "                    var_gen   = torch.var(music_dis_gen)\n",
        "                    var_real  = torch.var(music_dis_real)\n",
        "                    self.loss_reg  = torch.where(var_gen > 1, \n",
        "                                                 (var_gen - 1)**2, 0) \\\n",
        "                                     + torch.where(var_real > 1, \n",
        "                                                   (var_real - 1)**2, 0)\n",
        "                    self.loss_real = - torch.mean(music_dis_real)\n",
        "                    self.loss_gen  = torch.mean(music_dis_gen)\n",
        "                \n",
        "                elif self.loss == \"WGAN-GP\" :    \n",
        "                    var_gen   = torch.var(music_dis_gen)\n",
        "                    var_real  = torch.var(music_dis_real)\n",
        "                    self.loss_reg  = 10.0 * compute_gradient_penalty(\n",
        "                                     self.dis, batch_real, batch_gen, self.device)\n",
        "                    self.loss_real = - torch.mean(music_dis_real)\n",
        "                    self.loss_gen  = torch.mean(music_dis_gen)\n",
        "\n",
        "                elif self.loss == \"CAN\" :\n",
        "                    loss_real_music = - torch.mean(torch.log(self.music_prob_real))\n",
        "                    loss_real_genre = - torch.mean(torch.log(self.genre_prob_real))\n",
        "                    self.loss_real = loss_real_music + loss_real_genre\n",
        "                    self.loss_gen = - torch.mean(torch.log(1 - self.music_prob_gen))\n",
        "                    self.loss_reg  = torch.tensor(0.)\n",
        "\n",
        "                elif self.loss == \"WCAN-GP\" : \n",
        "                    var_gen   = torch.var(music_dis_gen)\n",
        "                    var_real  = torch.var(music_dis_real)\n",
        "                    self.loss_reg  = 10.0 * compute_gradient_penalty(\n",
        "                                     self.dis, batch_real, batch_gen, self.device)\n",
        "                    loss_real_music = - torch.mean(music_dis_real)\n",
        "                    loss_real_genre = - torch.mean(true_genre_dis_real)\n",
        "                    self.loss_real = loss_real_music + loss_real_genre \n",
        "                    self.loss_gen  = torch.mean(music_dis_gen)\n",
        "\n",
        "                self.loss_dis = self.loss_real + self.loss_gen + self.loss_reg\n",
        "                self._log_all(round, k = dis_round)\n",
        "                \n",
        "                # Discriminator update\n",
        "                self.optimizer_dis.zero_grad()\n",
        "                self.loss_dis.backward()\n",
        "                self.optimizer_dis.step()\n",
        "                \n",
        "\n",
        "            # Calculating the Generator loss function\n",
        "            batch_new = self.gen.forward(batch_size = self.batch_size)\n",
        "            music_dis_new, genre_dis_new = self.dis.forward(batch_new)\n",
        "                \n",
        "            if self.loss == \"GAN\" :\n",
        "                music_prob_new = torch.sigmoid(music_dis_new)\n",
        "                self.loss_gen = -torch.mean(torch.log(music_prob_new)) \n",
        "            \n",
        "            elif self.loss == \"WGAN\" :\n",
        "                self.loss_gen = -torch.mean(music_dis_new)\n",
        "\n",
        "            elif self.loss == \"WGAN-GP\" :\n",
        "                self.loss_gen = -torch.mean(music_dis_new)\n",
        "            \n",
        "            elif self.loss == \"CAN\" :\n",
        "                music_prob_new = torch.sigmoid(music_dis_new)\n",
        "                genre_probs_new = softmax(genre_dis_new)\n",
        "\n",
        "                loss_gen_music = - torch.mean(music_prob_new)\n",
        "                loss_gen_genre = - torch.mean( \\\n",
        "                    unif_cross_entropy(genre_probs_new, 1 / self.n_labels) + \\\n",
        "                    unif_cross_entropy(1 - genre_probs_new, 1 - 1 / self.n_labels))\n",
        "                \n",
        "                self.loss_gen = loss_gen_music + loss_gen_genre\n",
        "\n",
        "            elif self.loss == \"WCAN-GP\" :\n",
        "                self.loss_gen = -torch.mean(music_dis_new) \n",
        "                loss_gen_genre = torch.mean( \\\n",
        "                    unif_cross_entropy(1 + torch.exp(genre_dis_new), 1 / self.n_labels) + \\\n",
        "                    unif_cross_entropy(1 + torch.exp(-genre_dis_new), 1 - 1 / self.n_labels))\n",
        "\n",
        "\n",
        "            self._log_all(round)\n",
        "                \n",
        "            \n",
        "            # Generator update\n",
        "            self.optimizer_gen.zero_grad()\n",
        "            self.loss_gen.backward()\n",
        "            self.optimizer_gen.step()\n",
        "\n",
        "\n",
        "            # Make a backup\n",
        "            if self.backup  and  (round + 1) in self.checkpoints :\n",
        "                self._save_checkpoint(round + 1)\n",
        "                                \n",
        "            \n",
        "        # Put GAN in eval mode\n",
        "        self.gen.eval()\n",
        "        self.dis.eval()\n",
        "        print(\"Training complete. GAN now in eval() mode.\")\n",
        "\n",
        "\n",
        "    def _save_checkpoint (self, round) :\n",
        "        if round == min(self.checkpoints) :\n",
        "            self.training_folder = save_training(self.training_name, \n",
        "                                        self, checkpoint = round)\n",
        "        else :\n",
        "            save_training(self.training_folder, self, \n",
        "                            checkpoint = round, new_folder = False)\n",
        "        \n",
        "\n",
        "    def _log_all (self, round, k = -1) :\n",
        "        if k >= 0 : # before each Discriminator update\n",
        "            self.log._dis_losses[0, k] = self.loss_dis.cpu().detach()\n",
        "            self.log._dis_losses[1, k] = self.loss_real.cpu().detach()\n",
        "            self.log._dis_losses[2, k] = self.loss_gen.cpu().detach()\n",
        "            self.log._dis_losses[3, k] = self.loss_reg.cpu().detach()\n",
        "            self.log._music_probs[0, k] = self.music_prob_real.mean().cpu().detach()\n",
        "            self.log._music_probs[1, k] = self.music_prob_gen.mean().cpu().detach()\n",
        "            self.log._genre_probs[0, k]  = self.genre_prob_real.mean().cpu().detach() # prob of right label of real batch\n",
        "            self.log._genre_probs[1:, k] = self.genre_probs_gen.mean().cpu().detach() # prob of genres of generated batch\n",
        "        \n",
        "        if k == -1 : # before each Generator update\n",
        "            # Losses\n",
        "            dis_losses = self.log._dis_losses.detach().cpu().numpy()\n",
        "            self.log.losses[0:4, round] = dis_losses.mean(axis = 1)\n",
        "            self.log.losses[4, round]   = self.loss_gen.detach().cpu().numpy()\n",
        "            \n",
        "            # Discriminator Probabilities\n",
        "            music_probs                 = self.log._music_probs.cpu().detach().numpy()\n",
        "            genre_probs                 = self.log._genre_probs.cpu().detach().numpy()\n",
        "            self.log.music_probs[:, round] = music_probs.mean(axis = 1)\n",
        "            self.log.genre_probs[:, round] = genre_probs.mean(axis = 1)\n",
        "\n",
        "            # Generator metrics\n",
        "            batch_real, _ = self._get_batch()\n",
        "            batch_gen     = self.gen.forward(batch_size = self.batch_size)\n",
        "            self.log.abs_diff[0, round] = abs_mean_diff(batch_gen, batch_real)\n",
        "            self.log.abs_diff[1, round] = abs_std_diff(batch_gen, batch_real)\n",
        "            self.log.gen_var[0, round]  = inter_bar_var(batch_gen)\n",
        "            self.log.gen_var[1, round]  = inter_track_var(batch_gen)\n",
        "            \n",
        "\n",
        "\n",
        "# Sources:\n",
        "# [1] https://github.com/salu133445/ismir2019tutorial/blob/main/gan.ipynb"
      ]
    },
    {
      "cell_type": "markdown",
      "metadata": {
        "id": "9UjwRjHiook6"
      },
      "source": [
        "### Evaluation support"
      ]
    },
    {
      "cell_type": "code",
      "source": [
        "default_training_path = \"../experiments\"\n",
        "default_dataset       = \"lpd5_full_4bars\""
      ],
      "metadata": {
        "id": "NJhnF4DsE0P4"
      },
      "execution_count": 104,
      "outputs": []
    },
    {
      "cell_type": "markdown",
      "source": [
        "#### Evaluation metrics"
      ],
      "metadata": {
        "id": "ixzSjpbOS64f"
      }
    },
    {
      "cell_type": "code",
      "source": [
        "def empty_bar_ratio (data) :\n",
        "    \"\"\"\n",
        "        ratio of bars devoid of notes\n",
        "        \n",
        "        also called:\n",
        "            EB = \"empty bar ratio\"\n",
        "    \"\"\"\n",
        "\n",
        "    if type(data) == torch.Tensor :\n",
        "        data = data.cpu().detach().numpy()\n",
        "\n",
        "    data = data.reshape((-1, lpd5.bars, lpd5.blips_per_bar, lpd5.pitches)) # split into bars\n",
        "    data_reduced = np.mean(data, axis = (2, 3)).flatten() # mean over bar pixels\n",
        "    data_mask    = np.array(data_reduced == 0)  # bool of which bars are empty\n",
        "    empty_bar_fraction = np.mean(data_mask)  # mean over all bars\n",
        "\n",
        "    return empty_bar_fraction"
      ],
      "metadata": {
        "id": "3STzYDPRS9HD"
      },
      "execution_count": 105,
      "outputs": []
    },
    {
      "cell_type": "code",
      "source": [
        "def pitch_classes_per_bar (data) :\n",
        "    \"\"\"\n",
        "        number of pitch classes used per bar (from 0 to 12)\n",
        "        \n",
        "        also called:\n",
        "            UPC = \"used pitch classes per bar\"\n",
        "    \"\"\"\n",
        "\n",
        "    if type(data) == torch.Tensor :\n",
        "        data = data.cpu().detach().numpy()\n",
        "\n",
        "    data = data.reshape((-1, lpd5.bars, lpd5.blips_per_bar, lpd5.pitches)) # split into bars\n",
        "    data = data.reshape((-1, lpd5.blips_per_bar, lpd5.pitches))  # array of bars\n",
        "    data = data.reshape((-1, lpd5.blips_per_bar, lpd5.octaves, 12)) # split into octaves\n",
        "    \n",
        "    pitches_used = np.any(data, axis = (1, 2))  # OR over timesteps and octaves\n",
        "    number_pitches = np.sum(pitches_used, axis = 1) # sum over pitches\n",
        "    mean_pitch_classes_per_bar = np.mean(number_pitches) # mean over all bars\n",
        "    \n",
        "    return mean_pitch_classes_per_bar"
      ],
      "metadata": {
        "id": "GclWeQ3TU7hU"
      },
      "execution_count": 106,
      "outputs": []
    },
    {
      "cell_type": "code",
      "source": [
        "def qualified_note_ratio (data) :\n",
        "    \"\"\"\n",
        "        ratio of \"qualified\" notes,\n",
        "        defined as a 3 blips/timesteps or longer. \n",
        "        In the current lpd5 dataset with 48-blip bars that is a 1/16 note.\n",
        "        ! Not like in museGAN (used 96-blip bars and thus a 1/32 note threshold)\n",
        "        \n",
        "        also called:\n",
        "            QN = \"qualified note ratio\"\n",
        "    \"\"\"\n",
        "    minimum_length = 3 # blips\n",
        "\n",
        "    if type(data) == torch.Tensor :\n",
        "        data = data.cpu().detach().numpy()\n",
        "\n",
        "    data = data.reshape((-1, lpd5.width, lpd5.height)) # whole tracks\n",
        "    conv = np.array([-1, 1]) # used to measure note start and ends\n",
        "\n",
        "    total_notes       = 0\n",
        "    total_quali_notes = 0\n",
        "    for track in data :\n",
        "        for pitch_line in track.T :\n",
        "            note_starts = np.convolve(pitch_line, conv)\n",
        "            note_stops  = np.convolve(pitch_line, -conv)\n",
        "            start_indices = np.where(note_starts == -1)[0]\n",
        "            stop_indices  = np.where(note_stops == -1)[0]\n",
        "            \n",
        "            note_lengths     = stop_indices - start_indices\n",
        "            note_count       = note_lengths.shape[0]\n",
        "            quali_note_count = np.sum(note_lengths >= minimum_length)\n",
        "            total_notes       += note_count\n",
        "            total_quali_notes += quali_note_count\n",
        "\n",
        "    quali_note_ratio = total_quali_notes / total_notes\n",
        "\n",
        "    return quali_note_ratio"
      ],
      "metadata": {
        "id": "10tasJPahEvQ"
      },
      "execution_count": 107,
      "outputs": []
    },
    {
      "cell_type": "code",
      "source": [
        "def muspy_metrics (data) :\n",
        "    \"\"\"\n",
        "    computes 4 muspy metrics from a batch of pianoroll data\n",
        "    \n",
        "    Returns:\n",
        "    --------\n",
        "    averaged_metrics : np.array, size = (4), dtype = float\n",
        "        all values taken from whole pianoroll tracks and\n",
        "        are averaged over all tracks\n",
        "        1. muspy.pitch_range()\n",
        "            pitch range from lowest to highest pitch\n",
        "        2. muspy.polyphony()\n",
        "            average number of pitches being played concurrently\n",
        "        3. muspy.scale_consistency()\n",
        "            how many of the notes are in the track’s main scale \n",
        "            (max of notes in any scale)\n",
        "        4. muspy.empty_measure_rate()\n",
        "            ratio of 1/4 note beats where no note is played\n",
        "            \"measure\" is here defined as 1/4 notes by us.\n",
        "\n",
        "        For more details, see [1]\n",
        "\n",
        "    [1] https://muspy.readthedocs.io/en/stable/metrics.html?highlight=measures#other-metrics\n",
        "    \"\"\"\n",
        "\n",
        "\n",
        "    if type(data) == torch.Tensor :\n",
        "        data = data.cpu().detach().numpy()\n",
        "\n",
        "    data = data.reshape((-1, lpd5.width, lpd5.height)) # whole tracks\n",
        "    data.dtype = bool\n",
        "    \n",
        "    pianorolls = np.pad(data, \n",
        "                        ((0, 0), (0, 0), \n",
        "                         (lpd5.lowest_pitch, \n",
        "                          128 - lpd5.lowest_pitch - lpd5.height))\n",
        "                 )   # complete the pitch range\n",
        "    \n",
        "    muspy_stats = np.zeros((4, data.shape[0]))\n",
        "    for i, track in enumerate(pianorolls):\n",
        "        piano_music = muspy.from_pianoroll_representation(\n",
        "                        track,\n",
        "                        resolution = lpd5.blips_per_beat, \n",
        "                        encode_velocity = False\n",
        "                    )   # convert to muspy.music_object\n",
        "                  \n",
        "        muspy_stats[0, i] = muspy.pitch_range(piano_music)\n",
        "        muspy_stats[1, i] = muspy.polyphony(piano_music)\n",
        "        muspy_stats[2, i] = muspy.scale_consistency(piano_music)\n",
        "        muspy_stats[3, i] = muspy.empty_measure_rate(piano_music, \n",
        "                                                     lpd5.blips_per_beat)\n",
        "        \n",
        "    averaged_metrics = np.nanmean(muspy_stats, axis = 1)\n",
        "    \n",
        "    return averaged_metrics"
      ],
      "metadata": {
        "id": "jEpHEch60X02"
      },
      "execution_count": 108,
      "outputs": []
    },
    {
      "cell_type": "code",
      "source": [
        "# Calculate key metrics of dataset for evaluation\n",
        "\n",
        "lpd5_metrics_file = f\"{default_training_path}/{default_dataset}/lpd5_metrics.json\"\n",
        "\n",
        "if not os.path.exists(lpd5_metrics_file):\n",
        "    # Calculating these metrics takes several minutes for lpd5.\n",
        "    # Therefore, they are calculated once and then stored in a file.\n",
        "    metrics = {}\n",
        "    metrics[\"abs_mean_diff\"]   = 0   # difference of dataset to itself\n",
        "    metrics[\"abs_std_diff\"]    = 0\n",
        "    metrics[\"inter_bar_var\"]   = inter_bar_var(lpd5.data.view(-1, lpd5.bars, lpd5.blips_per_bar, lpd5.pitches))\n",
        "    metrics[\"inter_track_var\"] = inter_track_var(lpd5.data)\n",
        "    metrics[\"empty_bar_ratio\"]        = empty_bar_ratio(lpd5.data)\n",
        "    metrics[\"pitch_classses_per_bar\"] = pitch_classes_per_bar(lpd5.data)\n",
        "    metrics[\"qualified_note_ratio\"]   = qualified_note_ratio(lpd5.data)\n",
        "    metrics[\"muspy_metrics\"] = muspy_metrics(lpd5.data)\n",
        "    with open(lpd5_metrics_file, 'wb') as file :\n",
        "        pickle.dump(metrics, file)\n",
        "\n",
        "\n",
        "with open(lpd5_metrics_file, 'rb') as file :\n",
        "    # Loading all metrics is much quicker than recalculating them\n",
        "    metrics = pickle.load(file)\n",
        "    lpd5.abs_mean_diff   = metrics[\"abs_mean_diff\"]\n",
        "    lpd5.abs_std_diff    = metrics[\"abs_std_diff\"]\n",
        "    lpd5.inter_bar_var   = metrics[\"inter_bar_var\"]\n",
        "    lpd5.inter_track_var = metrics[\"inter_track_var\"]\n",
        "    lpd5.empty_bar_ratio        = metrics[\"empty_bar_ratio\"]\n",
        "    lpd5.pitch_classses_per_bar = metrics[\"pitch_classses_per_bar\"]\n",
        "    lpd5.qualified_note_ratio   = metrics[\"qualified_note_ratio\"]\n",
        "    lpd5.muspy_metrics = metrics[\"muspy_metrics\"]\n"
      ],
      "metadata": {
        "id": "XqBIvah5RK7k"
      },
      "execution_count": 109,
      "outputs": []
    },
    {
      "cell_type": "markdown",
      "source": [
        "#### Show results"
      ],
      "metadata": {
        "id": "LyJRhxx8L_4y"
      }
    },
    {
      "cell_type": "code",
      "source": [
        "def plot_training (log, dataset = lpd5, CAN = False) :\n",
        "    training_rounds = log.losses.shape[1]\n",
        "    rounds          = np.arange(training_rounds) + 1\n",
        "    filter_size     = math.ceil(training_rounds / 100)\n",
        "    med_filter      = lambda x: ndimage.median_filter(x, size = filter_size)\n",
        "    \n",
        "    \n",
        "\n",
        "    # Training metrics\n",
        "\n",
        "    plt.figure(figsize = (16, 8))\n",
        "    plt.suptitle(\"Training metrics\", size=18)\n",
        "    \n",
        "    ## Losses\n",
        "    plt.title(\"Losses\")\n",
        "    dis_loss = log.losses[0]\n",
        "    gen_loss = log.losses[4]\n",
        "    plt.plot(rounds, dis_loss, lw = 0.5, alpha=0.5)\n",
        "    plt.plot(rounds, gen_loss, lw = 0.5, alpha=0.5)\n",
        "    plt.plot(rounds, med_filter(dis_loss), label=\"Discriminator Loss\", \n",
        "             c=\"b\") #, lw = 0.5)\n",
        "    plt.plot(rounds, med_filter(gen_loss), label=\"Generator Loss\", \n",
        "             c=\"r\") #, lw = 0.5)\n",
        "    plt.xlabel(\"round\")\n",
        "    plt.yscale('symlog', linthreshy = 10)\n",
        "    plt.legend()\n",
        "    plt.show()\n",
        "\n",
        "    ## Probabilities\n",
        "    plt.figure(figsize=(16,4))\n",
        "    prob_real = log.music_probs[0]\n",
        "    prob_gen  = log.music_probs[1]\n",
        "    prob_diff = prob_real - prob_gen\n",
        "    \n",
        "    plt.subplot(1, 2, 1)\n",
        "    plt.title(r\"$p_{Dis}(data_{real} = real)$\")\n",
        "    plt.plot(rounds, np.ones_like(prob_real), \n",
        "             linestyle=\"-.\", lw=0.5, color='k', alpha=0.3)\n",
        "    plt.plot(rounds, np.zeros_like(prob_real), \n",
        "             linestyle=\"-.\", lw=0.5, color='k', alpha=0.3)\n",
        "    plt.plot(rounds, prob_real, lw = 0.5, alpha=0.5)\n",
        "    plt.plot(rounds, med_filter(prob_real), c=\"b\") #, lw = 0.5)\n",
        "    plt.xlabel(\"round\")\n",
        "    \n",
        "    plt.subplot(1, 2, 2)\n",
        "    plt.title(r\"$p_{Dis}(data_{real} = real) - p_{Dis}(data_{gen} = real)$\")\n",
        "    plt.plot(rounds, np.ones_like(prob_diff), \n",
        "             linestyle=\"-.\", lw=0.5, color='k', alpha=0.3)\n",
        "    plt.plot(rounds, np.zeros_like(prob_diff), \n",
        "             linestyle=\"-.\", lw=0.5, color='k', alpha=0.3)\n",
        "    plt.plot(rounds, prob_diff, lw = 0.5, alpha=0.5)\n",
        "    plt.plot(rounds, med_filter(prob_diff), c=\"b\") #, lw = 0.5)\n",
        "    plt.xlabel(\"round\")\n",
        "    \n",
        "    plt.show()\n",
        "\n",
        "    ## CAN metrics\n",
        "    if CAN :\n",
        "        genre_probs = log.genre_probs[1:]\n",
        "        \n",
        "        plt.title(\"Batch-averaged Generator Probabilities during Training\")\n",
        "        plt.plot(rounds, np.ones(genre_probs.shape[1]), \n",
        "                 linestyle=\"-.\", lw=0.5, color='k', alpha=0.3)\n",
        "        plt.plot(rounds, np.zeros(genre_probs.shape[1]), \n",
        "                 linestyle=\"-.\", lw=0.5, color='k', alpha=0.3)\n",
        "        plt.plot(rounds, genre_probs.T)\n",
        "        plt.xlabel(\"round\")\n",
        "        plt.legend(dataset.genre_list)\n",
        "        plt.show()\n",
        "\n",
        "\n",
        "    # Generator metrics\n",
        "\n",
        "    plt.figure(figsize=(16,6))\n",
        "    plt.suptitle(\"Generator metrics\", size=18)\n",
        "    abs_mean_diff   = log.abs_diff[0]\n",
        "    abs_std_diff    = log.abs_diff[1]\n",
        "    inter_bar_var   = log.gen_var[0]\n",
        "    inter_track_var = log.gen_var[1]\n",
        "    \n",
        "    plt.subplot(1, 2, 1)\n",
        "    plt.title(\"Absolute mean and std difference to dataset\")\n",
        "    plt.plot(rounds, abs_mean_diff, lw = 0.5, alpha=0.5)\n",
        "    plt.plot(rounds, abs_std_diff, lw = 0.5, alpha=0.5)\n",
        "    plt.plot(rounds, med_filter(abs_mean_diff), label = \"abs_mean_diff\", \n",
        "             c='b') #, lw = 0.5)\n",
        "    plt.plot(rounds, med_filter(abs_std_diff), label = \"abs_std_diff\", \n",
        "             c=\"r\") #, lw = 0.5)\n",
        "    plt.xlabel(\"round\")\n",
        "    plt.yscale(\"log\")\n",
        "    plt.legend()\n",
        "    \n",
        "    plt.subplot(1, 2, 2)\n",
        "    plt.title(\"Generator variation\")\n",
        "    plt.plot(rounds, np.ones_like(inter_bar_var) * lpd5.inter_bar_var, \n",
        "             linestyle=\"--\", lw=0.5, color='b', label=\"dataset bar-wise std.\")\n",
        "    plt.plot(rounds, np.ones_like(inter_bar_var) * lpd5.inter_track_var, \n",
        "             linestyle=\"--\", lw=0.5, color='r', label=\"dataset track-wise std.\")\n",
        "    plt.plot(rounds, inter_bar_var, lw = 0.5, alpha=0.5)\n",
        "    plt.plot(rounds, inter_track_var, lw = 0.5, alpha=0.5)\n",
        "    plt.plot(rounds, med_filter(inter_bar_var), label = \"bar-wise std dev.\", \n",
        "             c=\"b\") #, lw = 0.5)\n",
        "    plt.plot(rounds, med_filter(inter_track_var), label = \"track-wise std dev.\", \n",
        "             c=\"r\") #, lw = 0.5)\n",
        "    plt.xlabel(\"round\")\n",
        "    plt.yscale(\"log\")\n",
        "    plt.legend()\n",
        "    \n",
        "    plt.show()"
      ],
      "metadata": {
        "id": "_VBC5mONqw-T"
      },
      "execution_count": 110,
      "outputs": []
    },
    {
      "cell_type": "code",
      "execution_count": 111,
      "metadata": {
        "id": "mWBpY1DkSfm_"
      },
      "outputs": [],
      "source": [
        "def long_test (generator, discriminator, data, test_size = 1000, \n",
        "               dataset = default_dataset): \n",
        "    \"\"\"\n",
        "        runs a detailed evaluation of generator performance\n",
        "        and compares it to the training data set in a pandas table\n",
        "    \"\"\"\n",
        "\n",
        "\n",
        "    with torch.inference_mode() :  # saves gpu memory\n",
        "        device = 'cuda'  if torch.cuda.is_available() else  'cpu'\n",
        "        \n",
        "        # Test on generated data\n",
        "        generator.eval().to(device)\n",
        "        discriminator.eval().to(device)\n",
        "        data_real, labels_real = iter(torch.utils.data.DataLoader(data.dataset,\n",
        "                        batch_size = test_size, \n",
        "                        shuffle = True, drop_last = True)\n",
        "                    ).next()  # make one batch of test_size\n",
        "        data_real   = data_real.to(device)\n",
        "        labels_real = labels_real.to(device)\n",
        "\n",
        "        ## Generator\n",
        "        data_generated = generator.forward(batch_size = test_size)\n",
        "        \n",
        "        gen_abs_mean_diff   = abs_mean_diff(data_generated, data_real)\n",
        "        gen_abs_std_diff    = abs_std_diff(data_generated, data_real)\n",
        "        gen_inter_bar_var   = inter_bar_var(data_generated)\n",
        "        gen_inter_track_var = inter_track_var(data_generated)\n",
        "\n",
        "        gen_empty_bar_ratio        = empty_bar_ratio(data_generated)\n",
        "        gen_pitch_classses_per_bar = pitch_classes_per_bar(data_generated)\n",
        "        gen_qualified_note_ratio   = qualified_note_ratio(data_generated)\n",
        "\n",
        "        gen_muspy_metrics = muspy_metrics(data_generated)\n",
        "\n",
        "    # Create comparison table: generated data vs. real data\n",
        "    \n",
        "    real_music_metrics = np.array([\n",
        "        lpd5.abs_mean_diff,\n",
        "        lpd5.abs_std_diff,\n",
        "        lpd5.inter_bar_var,\n",
        "        lpd5.inter_track_var,\n",
        "        lpd5.empty_bar_ratio,\n",
        "        lpd5.pitch_classses_per_bar,\n",
        "        lpd5.qualified_note_ratio,\n",
        "        lpd5.muspy_metrics[0],\n",
        "        lpd5.muspy_metrics[1],\n",
        "        lpd5.muspy_metrics[2],\n",
        "        lpd5.muspy_metrics[3],\n",
        "    ], dtype = float).round(2)\n",
        "    gen_music_metrics = np.array([\n",
        "        gen_abs_mean_diff,\n",
        "        gen_abs_std_diff,\n",
        "        gen_inter_bar_var,\n",
        "        gen_inter_track_var,\n",
        "        gen_empty_bar_ratio,\n",
        "        gen_pitch_classses_per_bar,\n",
        "        gen_qualified_note_ratio,\n",
        "        gen_muspy_metrics[0],\n",
        "        gen_muspy_metrics[1],\n",
        "        gen_muspy_metrics[2],\n",
        "        gen_muspy_metrics[3],\n",
        "    ], dtype = float).round(2)\n",
        "\n",
        "    table_dict = {\n",
        "        \"Metrics\":[\n",
        "            \"Absoluted mean difference\", \n",
        "            \"Absoluted standard deviation difference\", \n",
        "            \"Inter-bar standard deviation\",\n",
        "            \"Inter-track standard deviation\",\n",
        "            \"Empty bar ratio\",\n",
        "            \"Used pitch classes per bar\",\n",
        "            \"Qualified note ratio\",\n",
        "            \"Pitch range\",\n",
        "            \"Polyphony\",\n",
        "            \"Scale consistency\",\n",
        "            \"Empty 1/4 note ratio\",\n",
        "        ],\n",
        "        \"real music\":real_music_metrics,\n",
        "        \"generated music\":gen_music_metrics,\n",
        "        \"Abbreviation\":[\"AMD\", \"ASD\", \"IBS\", \"ITS\", \"EB\", \"UBS\", \"QN\", \n",
        "                        \"PR\", \"PL\", \"SC\", \"EN\",],\n",
        "        \"metric source\":[\"own\", \"own\", \"own\", \"own\", \n",
        "                        \"museGAN\", \"museGAN\", \"museGAN\",\n",
        "                        \"muspy\", \"muspy\", \"muspy\", \"muspy\",],        \n",
        "    }\n",
        "    \n",
        "    table_panda = pd.DataFrame(table_dict)\n",
        "    \n",
        "    print(\"Comparison between the real and the generated music\\n\")\n",
        "    display(table_panda)\n",
        "    print(\"\\n\\n\")"
      ]
    },
    {
      "cell_type": "code",
      "source": [
        "def quick_test (generator, discriminator, data, test_size = 100, num_images = 1, \n",
        "                dataset = default_dataset, save_to = None) : \n",
        "\n",
        "    device = 'cuda'  if torch.cuda.is_available() else  'cpu'\n",
        "\n",
        "    # Calculating Discriminator predictions\n",
        "    with torch.inference_mode() :    \n",
        "        # Loading real data and models\n",
        "        generator.eval().to(device)\n",
        "        discriminator.eval().to(device)\n",
        "        data_real, labels_real = iter(torch.utils.data.DataLoader(data.dataset,\n",
        "                        batch_size = test_size, \n",
        "                        shuffle = True, drop_last = True)\n",
        "                    ).next()  # make one batch of test_size\n",
        "        data_real   = data_real.to(device)\n",
        "        labels_real = labels_real.to(device)\n",
        "\n",
        "        # Generator\n",
        "        data_generated = generator.forward(batch_size = test_size)\n",
        "        \n",
        "\n",
        "        # Discriminator\n",
        "        music_dis_gen,  genre_dis_gen  = discriminator.forward(data_generated)\n",
        "        music_prob_gen  = torch.sigmoid(music_dis_gen)\n",
        "        std_prob_gen    = torch.std_mean(music_prob_gen, unbiased=True)\n",
        "        \n",
        "        music_dis_real, genre_dis_real = discriminator.forward(data_real)\n",
        "        music_prob_real = torch.sigmoid(music_dis_real)\n",
        "        std_prob_real   = torch.std_mean(music_prob_real, unbiased=True)\n",
        "        \n",
        "        # Converting some generated data to pianorolls\n",
        "        data_generated = data_generated.cpu().detach().numpy()\n",
        "        images         = data_generated[:num_images]\n",
        "        images         = images.reshape(-1, data.width, data.height)\n",
        "        pianorolls     = np.pad(images, ((0, 0), (0, 0), \n",
        "                                        (data.lowest_pitch, \n",
        "                                        128 - data.lowest_pitch - data.height)))   \n",
        "                            # complete the pitch range\n",
        "\n",
        "    # Create audio save folder\n",
        "    default_path = f\"{default_training_path}/{dataset}\"\n",
        "    if save_to == None :\n",
        "        audio_folder = f\"{default_path}/temp_audio\"\n",
        "    else :\n",
        "        audio_folder = f\"{default_path}/{save_to}/audio\"\n",
        "    try:   # make new folder\n",
        "        os.makedirs(audio_folder)\n",
        "    except OSError:   # it already exists\n",
        "        pass\n",
        "\n",
        "\n",
        "    # Discriminator Results\n",
        "    print(f\"Discriminator p(x_real = real) = \" +\n",
        "        f\"{std_prob_real[1]*100:.0f}±{std_prob_real[0]*100:.0f}%\")\n",
        "    print(f\"Discriminator p(x_gen = real)  = \" +\n",
        "        f\"{std_prob_gen[1]*100:.0f}±{std_prob_gen[0]*100:.0f}%\")\n",
        "    print(\"\\n\\n\")\n",
        "    \n",
        "    # Generator examples\n",
        "    print(\"Example of the generated music\")\n",
        "    for i in range(num_images) :\n",
        "        piano_music = muspy.from_pianoroll_representation(pianorolls[i] > 0,\n",
        "                        resolution = data.blips_per_beat, \n",
        "                        encode_velocity = False)   # convert to muspy.music_object\n",
        "        \n",
        "        # save audio tracks\n",
        "        timestamp   = datetime.now()\n",
        "        filepath    = f\"{audio_folder}/{timestamp}.wav\"\n",
        "        muspy.write_audio(path = filepath, music = piano_music)\n",
        "\n",
        "        # Display example pianorolls with audio\n",
        "        muspy.visualization.show_pianoroll(piano_music)\n",
        "        display(Audio(filename = filepath))\n",
        "        plt.show()\n"
      ],
      "metadata": {
        "id": "ntUausIx9L9q"
      },
      "execution_count": 112,
      "outputs": []
    },
    {
      "cell_type": "markdown",
      "source": [
        "#### Save and load trained models and logs"
      ],
      "metadata": {
        "id": "k4rFGcgSMO7j"
      }
    },
    {
      "cell_type": "code",
      "source": [
        "def save_training (training_name, trainer, info_txt = None, \n",
        "                   dataset = default_dataset, new_folder = True, \n",
        "                   checkpoint = 0) :\n",
        "    assert  type(training_name) == str               \n",
        "    assert  info_txt == None  or  type(info_txt) == str\n",
        "    \n",
        "    # If trainer has already saved a checkpoint, no new folder is needed.\n",
        "    if hasattr(trainer, \"training_name\") :\n",
        "        if (training_name == trainer.training_name  and\n",
        "            trainer.training_folder != \"\") :\n",
        "            \n",
        "            training_name = trainer.training_folder\n",
        "            new_folder    = False\n",
        "    \n",
        "    # Name the save folder\n",
        "    if new_folder:\n",
        "        now             = datetime.now()\n",
        "        date            = f\"{now.year}-{now.month:02d}-{now.day:02d}\"\n",
        "        time            = f\"{now.hour:02d}-{now.minute:02d}\"\n",
        "        timestamp       = f\"{date}_{time}\"\n",
        "        training_folder = f\"{timestamp}_{training_name}\"\n",
        "    else :\n",
        "        training_folder = training_name\n",
        "    save_folder = f\"{default_training_path}/{dataset}/{training_folder}\"\n",
        "    \n",
        "    model_folder = f\"{save_folder}/model\"\n",
        "    try:   # make new folder\n",
        "        os.makedirs(model_folder)\n",
        "    except OSError:   # it already exists\n",
        "        pass\n",
        "    \n",
        "\n",
        "    # save models\n",
        "    gen = trainer.gen\n",
        "    dis = trainer.dis\n",
        "    \n",
        "    if checkpoint == 0 :\n",
        "        torch.save(gen.state_dict(), f\"{model_folder}/gen.pt\")\n",
        "        torch.save(dis.state_dict(), f\"{model_folder}/dis.pt\")\n",
        "    else : \n",
        "        # here, checkpoint is an int: the current training round number\n",
        "        torch.save(gen.state_dict(), f\"{model_folder}/gen{checkpoint}.pt\")\n",
        "        torch.save(dis.state_dict(), f\"{model_folder}/dis{checkpoint}.pt\")\n",
        "\n",
        "    # save logs\n",
        "    if checkpoint == 0 :\n",
        "        log_file = f\"{save_folder}/logs.npz\"\n",
        "        log_dict = trainer.log.__dict__\n",
        "    else :\n",
        "        # here, checkpoint is an int: the current training round number\n",
        "        total_rounds = checkpoint\n",
        "        log_file = f\"{save_folder}/logs{checkpoint}.npz\"\n",
        "        log_dict = trainer.log.__dict__.copy()\n",
        "        # shorten the log arrays to current checkpoint \n",
        "        for key, value in log_dict.items() :\n",
        "            if type(value) == np.ndarray :\n",
        "                log_dict[key] = value[:, :total_rounds]\n",
        "    \n",
        "    np.savez(log_file, **log_dict)     \n",
        "    \n",
        "\n",
        "    # save additional info about training\n",
        "    info_path  = f\"{save_folder}/info.txt\"\n",
        "    and_info   = \"\"\n",
        "    if info_txt != None :\n",
        "        with open(info_path, \"w+\") as f :\n",
        "            f.writelines(info_txt)\n",
        "        and_info = \"and info text \"  \n",
        "    \n",
        "    if checkpoint == 0:\n",
        "        print(f\"Saved models {and_info}under:\\n\",\n",
        "            f\"'{default_training_path}/{dataset}/\\n\",\n",
        "            f\" {training_folder}'\")\n",
        "        \n",
        "    return training_folder "
      ],
      "metadata": {
        "id": "m92AAeQbMMl1"
      },
      "execution_count": 113,
      "outputs": []
    },
    {
      "cell_type": "code",
      "source": [
        "def load_training (training_folder, model = (MusiGen, MusiDis), \n",
        "                   print_info = False, dataset = default_dataset, \n",
        "                   checkpoint = 0) :\n",
        "    save_folder = f\"{default_training_path}/{dataset}/{training_folder}\"\n",
        "    assert  os.path.exists(save_folder)\n",
        "\n",
        "    # load models\n",
        "    model_folder       = f\"{save_folder}/model\"\n",
        "    GenClass, DisClass = model\n",
        "    gen, dis           = GenClass(), DisClass()\n",
        "    if checkpoint == 0 :\n",
        "        gen.load_state_dict(torch.load(f\"{model_folder}/gen.pt\"))\n",
        "        dis.load_state_dict(torch.load(f\"{model_folder}/dis.pt\"))\n",
        "    else :\n",
        "        # here, checkpoint is an int: the current training round number\n",
        "        gen.load_state_dict(torch.load(f\"{model_folder}/gen{checkpoint}.pt\"))\n",
        "        dis.load_state_dict(torch.load(f\"{model_folder}/dis{checkpoint}.pt\"))\n",
        "    \n",
        "\n",
        "    # Prepare models for evaluation\n",
        "    device = 'cuda'  if torch.cuda.is_available() else  'cpu'\n",
        "    gen    = gen.to(device)\n",
        "    dis    = dis.to(device)\n",
        "    gen.eval()\n",
        "    dis.eval()\n",
        "\n",
        "    # load logs\n",
        "    if checkpoint == 0 :\n",
        "        log_file = f\"{save_folder}/logs.npz\"\n",
        "    else :\n",
        "        log_file = f\"{save_folder}/logs{checkpoint}.npz\"\n",
        "\n",
        "    logs = None\n",
        "    with np.load(log_file) as log_dict :\n",
        "        logs = LogLoaded(log_dict)\n",
        "    \n",
        "    # load info\n",
        "    info_path  = f\"{save_folder}/info.txt\"\n",
        "    if print_info :\n",
        "        with open(info_path, \"r\") as f :\n",
        "            print(f.read())\n",
        "    \n",
        "    return gen, dis, logs"
      ],
      "metadata": {
        "id": "FK6Iwny8CvsL"
      },
      "execution_count": 114,
      "outputs": []
    },
    {
      "cell_type": "markdown",
      "metadata": {
        "id": "i7J679rwSfnC"
      },
      "source": [
        "## Network training and evaluation"
      ]
    },
    {
      "cell_type": "markdown",
      "source": [
        "### Main Training"
      ],
      "metadata": {
        "id": "Q6uuHHR6fQOe"
      }
    },
    {
      "cell_type": "code",
      "execution_count": null,
      "metadata": {
        "id": "gasGW3KpSfnM",
        "outputId": "3173f558-a50f-409a-a1a8-a0381dc86c73",
        "colab": {
          "base_uri": "https://localhost:8080/",
          "height": 86,
          "referenced_widgets": [
            "3bb8c3e984c147e492ca011058c69931",
            "1a10505b49e9423482a240b7220edd4e",
            "11f9aa4a8bae4af1bbdb88f0e8fc128f",
            "50ab53eb79af4e06a7ed6b6ecd979989",
            "08c11f4ce77c46cfb945b72e401e09a2",
            "579789436aac4cad80ce263e4ab07c7c",
            "a0562a20fc944ea6ad3576aea3a22fd8",
            "89533421e32d4c5fa573a88afb419127",
            "822763735f1f4fb8a8b0cac329d2a0a5",
            "1ad52e8660ac470d842dd0b575ca300a",
            "d017fb1525d748b79a28f2dc547d2833"
          ]
        }
      },
      "outputs": [
        {
          "output_type": "stream",
          "name": "stdout",
          "text": [
            "Training\n"
          ]
        },
        {
          "output_type": "display_data",
          "data": {
            "text/plain": [
              "  0%|          | 0/10000 [00:00<?, ?it/s]"
            ],
            "application/vnd.jupyter.widget-view+json": {
              "version_major": 2,
              "version_minor": 0,
              "model_id": "3bb8c3e984c147e492ca011058c69931"
            }
          },
          "metadata": {}
        }
      ],
      "source": [
        "training_name = \"10k-vanilla-MusiCAN\"\n",
        "lpd5Train     = GANTraining(MusiGen, MusiDis, lpd5.dataset)\n",
        "lpd5Train.setup(10000, batch_size = 25, discriminator_rounds = 5, \n",
        "                loss_function = \"WCAN-GP\")\n",
        "#lpd5Train.set_backups(training_name, checkpoints = [1, 2, 5, 10])\n",
        "lpd5Train.train()\n"
      ]
    },
    {
      "cell_type": "code",
      "execution_count": null,
      "metadata": {
        "id": "2eBKbfRJbh6D"
      },
      "outputs": [],
      "source": [
        "info_text     = \\\n",
        "f\"\"\"\n",
        "Training info: {training_name}\n",
        "=======================\n",
        "\n",
        "models: MusiGen, MusiDis (note [1])\n",
        "dataset: lpd5_full_4bars\n",
        "\n",
        "rounds = 10000\n",
        "batch_size = 25\n",
        "discriminator_rounds = 5\n",
        "loss_function = WCAN-GP\n",
        "checkpoints   = []\n",
        "\n",
        "adam_optimizer_params:\n",
        "    gen: (lr = 0.001, betas = (0.5, 0.9))\n",
        "    dis: (lr = 0.001, betas = (0.5, 0.9))\n",
        "\n",
        "additional comments:\n",
        "    Try naive WCAN loss function: the discriminator term is analogous to the \n",
        "    GAN -> WGAN transformation; the generator term is just the original CAN one\n",
        "    for an typical WGAN discriminator output\n",
        "    \n",
        "    [1] Generator output layer is set to be only binarized if in testing mode\n",
        "        (museGAN setting)\n",
        "    \n",
        "\"\"\""
      ]
    },
    {
      "cell_type": "code",
      "execution_count": null,
      "metadata": {
        "id": "47lzP9FrGRaI"
      },
      "outputs": [],
      "source": [
        "training_folder_name = save_training(training_name, lpd5Train, info_text)"
      ]
    },
    {
      "cell_type": "code",
      "execution_count": null,
      "metadata": {
        "id": "BXwYSkWt3oRg"
      },
      "outputs": [],
      "source": [
        "plot_training(lpd5Train.log, CAN = True)"
      ]
    },
    {
      "cell_type": "code",
      "execution_count": null,
      "metadata": {
        "id": "fd-LOltQSfnN"
      },
      "outputs": [],
      "source": [
        "long_test(lpd5Train.gen, lpd5Train.dis, lpd5)"
      ]
    },
    {
      "cell_type": "code",
      "source": [
        "quick_test(lpd5Train.gen, lpd5Train.dis, lpd5, num_images = 3, \n",
        "           save_to = training_folder_name)"
      ],
      "metadata": {
        "id": "D85pAG48E0Az"
      },
      "execution_count": null,
      "outputs": []
    },
    {
      "cell_type": "markdown",
      "source": [
        "### Loading and investigating old trained models"
      ],
      "metadata": {
        "id": "zb-NJGprfWGK"
      }
    },
    {
      "cell_type": "code",
      "source": [
        "gen, dis, logs = load_training(training_folder_name, print_info = True)"
      ],
      "metadata": {
        "id": "xI_lD4kCfbl0"
      },
      "execution_count": null,
      "outputs": []
    },
    {
      "cell_type": "code",
      "source": [
        "plot_training(logs)"
      ],
      "metadata": {
        "id": "j7D5VmVLffr7"
      },
      "execution_count": null,
      "outputs": []
    },
    {
      "cell_type": "code",
      "source": [
        "long_test(gen, dis, lpd5)"
      ],
      "metadata": {
        "id": "MUYxjanafl3a"
      },
      "execution_count": null,
      "outputs": []
    },
    {
      "cell_type": "code",
      "source": [
        "quick_test(gen, dis, lpd5, num_images = 1)"
      ],
      "metadata": {
        "id": "ajOJ3t7ngFgr"
      },
      "execution_count": null,
      "outputs": []
    }
  ],
  "metadata": {
    "accelerator": "GPU",
    "colab": {
      "collapsed_sections": [
        "8ATBcagDnDpM",
        "trwcbyaoSfm2",
        "E5pWodkypE8U",
        "3tnu9HElSfm5",
        "KdGO-KlvSfm5",
        "kU1bKYfdSfm6",
        "swF_vr8kSfm9",
        "vG8eX-HGSfm-",
        "L_lrgdWMSrIk",
        "xS0kN-LMSzV0",
        "6ejVE_JNS2VE",
        "WstRQBd2SfnA",
        "9UjwRjHiook6",
        "ixzSjpbOS64f",
        "LyJRhxx8L_4y",
        "k4rFGcgSMO7j",
        "Q6uuHHR6fQOe",
        "zb-NJGprfWGK"
      ],
      "machine_shape": "hm",
      "provenance": [],
      "include_colab_link": true
    },
    "gpuClass": "standard",
    "kernelspec": {
      "display_name": "Python 3.10.4 ('aml')",
      "language": "python",
      "name": "python3"
    },
    "language_info": {
      "codemirror_mode": {
        "name": "ipython",
        "version": 3
      },
      "file_extension": ".py",
      "mimetype": "text/x-python",
      "name": "python",
      "nbconvert_exporter": "python",
      "pygments_lexer": "ipython3",
      "version": "3.10.4"
    },
    "vscode": {
      "interpreter": {
        "hash": "e9db57278ae8397bc5fe3bec6b9ba53c33a2aa76e79d386f678fc754e34f9547"
      }
    },
    "widgets": {
      "application/vnd.jupyter.widget-state+json": {
        "3bb8c3e984c147e492ca011058c69931": {
          "model_module": "@jupyter-widgets/controls",
          "model_name": "HBoxModel",
          "model_module_version": "1.5.0",
          "state": {
            "_dom_classes": [],
            "_model_module": "@jupyter-widgets/controls",
            "_model_module_version": "1.5.0",
            "_model_name": "HBoxModel",
            "_view_count": null,
            "_view_module": "@jupyter-widgets/controls",
            "_view_module_version": "1.5.0",
            "_view_name": "HBoxView",
            "box_style": "",
            "children": [
              "IPY_MODEL_1a10505b49e9423482a240b7220edd4e",
              "IPY_MODEL_11f9aa4a8bae4af1bbdb88f0e8fc128f",
              "IPY_MODEL_50ab53eb79af4e06a7ed6b6ecd979989"
            ],
            "layout": "IPY_MODEL_08c11f4ce77c46cfb945b72e401e09a2"
          }
        },
        "1a10505b49e9423482a240b7220edd4e": {
          "model_module": "@jupyter-widgets/controls",
          "model_name": "HTMLModel",
          "model_module_version": "1.5.0",
          "state": {
            "_dom_classes": [],
            "_model_module": "@jupyter-widgets/controls",
            "_model_module_version": "1.5.0",
            "_model_name": "HTMLModel",
            "_view_count": null,
            "_view_module": "@jupyter-widgets/controls",
            "_view_module_version": "1.5.0",
            "_view_name": "HTMLView",
            "description": "",
            "description_tooltip": null,
            "layout": "IPY_MODEL_579789436aac4cad80ce263e4ab07c7c",
            "placeholder": "​",
            "style": "IPY_MODEL_a0562a20fc944ea6ad3576aea3a22fd8",
            "value": "  1%"
          }
        },
        "11f9aa4a8bae4af1bbdb88f0e8fc128f": {
          "model_module": "@jupyter-widgets/controls",
          "model_name": "FloatProgressModel",
          "model_module_version": "1.5.0",
          "state": {
            "_dom_classes": [],
            "_model_module": "@jupyter-widgets/controls",
            "_model_module_version": "1.5.0",
            "_model_name": "FloatProgressModel",
            "_view_count": null,
            "_view_module": "@jupyter-widgets/controls",
            "_view_module_version": "1.5.0",
            "_view_name": "ProgressView",
            "bar_style": "",
            "description": "",
            "description_tooltip": null,
            "layout": "IPY_MODEL_89533421e32d4c5fa573a88afb419127",
            "max": 10000,
            "min": 0,
            "orientation": "horizontal",
            "style": "IPY_MODEL_822763735f1f4fb8a8b0cac329d2a0a5",
            "value": 56
          }
        },
        "50ab53eb79af4e06a7ed6b6ecd979989": {
          "model_module": "@jupyter-widgets/controls",
          "model_name": "HTMLModel",
          "model_module_version": "1.5.0",
          "state": {
            "_dom_classes": [],
            "_model_module": "@jupyter-widgets/controls",
            "_model_module_version": "1.5.0",
            "_model_name": "HTMLModel",
            "_view_count": null,
            "_view_module": "@jupyter-widgets/controls",
            "_view_module_version": "1.5.0",
            "_view_name": "HTMLView",
            "description": "",
            "description_tooltip": null,
            "layout": "IPY_MODEL_1ad52e8660ac470d842dd0b575ca300a",
            "placeholder": "​",
            "style": "IPY_MODEL_d017fb1525d748b79a28f2dc547d2833",
            "value": " 56/10000 [01:22&lt;4:04:58,  1.48s/it]"
          }
        },
        "08c11f4ce77c46cfb945b72e401e09a2": {
          "model_module": "@jupyter-widgets/base",
          "model_name": "LayoutModel",
          "model_module_version": "1.2.0",
          "state": {
            "_model_module": "@jupyter-widgets/base",
            "_model_module_version": "1.2.0",
            "_model_name": "LayoutModel",
            "_view_count": null,
            "_view_module": "@jupyter-widgets/base",
            "_view_module_version": "1.2.0",
            "_view_name": "LayoutView",
            "align_content": null,
            "align_items": null,
            "align_self": null,
            "border": null,
            "bottom": null,
            "display": null,
            "flex": null,
            "flex_flow": null,
            "grid_area": null,
            "grid_auto_columns": null,
            "grid_auto_flow": null,
            "grid_auto_rows": null,
            "grid_column": null,
            "grid_gap": null,
            "grid_row": null,
            "grid_template_areas": null,
            "grid_template_columns": null,
            "grid_template_rows": null,
            "height": null,
            "justify_content": null,
            "justify_items": null,
            "left": null,
            "margin": null,
            "max_height": null,
            "max_width": null,
            "min_height": null,
            "min_width": null,
            "object_fit": null,
            "object_position": null,
            "order": null,
            "overflow": null,
            "overflow_x": null,
            "overflow_y": null,
            "padding": null,
            "right": null,
            "top": null,
            "visibility": null,
            "width": null
          }
        },
        "579789436aac4cad80ce263e4ab07c7c": {
          "model_module": "@jupyter-widgets/base",
          "model_name": "LayoutModel",
          "model_module_version": "1.2.0",
          "state": {
            "_model_module": "@jupyter-widgets/base",
            "_model_module_version": "1.2.0",
            "_model_name": "LayoutModel",
            "_view_count": null,
            "_view_module": "@jupyter-widgets/base",
            "_view_module_version": "1.2.0",
            "_view_name": "LayoutView",
            "align_content": null,
            "align_items": null,
            "align_self": null,
            "border": null,
            "bottom": null,
            "display": null,
            "flex": null,
            "flex_flow": null,
            "grid_area": null,
            "grid_auto_columns": null,
            "grid_auto_flow": null,
            "grid_auto_rows": null,
            "grid_column": null,
            "grid_gap": null,
            "grid_row": null,
            "grid_template_areas": null,
            "grid_template_columns": null,
            "grid_template_rows": null,
            "height": null,
            "justify_content": null,
            "justify_items": null,
            "left": null,
            "margin": null,
            "max_height": null,
            "max_width": null,
            "min_height": null,
            "min_width": null,
            "object_fit": null,
            "object_position": null,
            "order": null,
            "overflow": null,
            "overflow_x": null,
            "overflow_y": null,
            "padding": null,
            "right": null,
            "top": null,
            "visibility": null,
            "width": null
          }
        },
        "a0562a20fc944ea6ad3576aea3a22fd8": {
          "model_module": "@jupyter-widgets/controls",
          "model_name": "DescriptionStyleModel",
          "model_module_version": "1.5.0",
          "state": {
            "_model_module": "@jupyter-widgets/controls",
            "_model_module_version": "1.5.0",
            "_model_name": "DescriptionStyleModel",
            "_view_count": null,
            "_view_module": "@jupyter-widgets/base",
            "_view_module_version": "1.2.0",
            "_view_name": "StyleView",
            "description_width": ""
          }
        },
        "89533421e32d4c5fa573a88afb419127": {
          "model_module": "@jupyter-widgets/base",
          "model_name": "LayoutModel",
          "model_module_version": "1.2.0",
          "state": {
            "_model_module": "@jupyter-widgets/base",
            "_model_module_version": "1.2.0",
            "_model_name": "LayoutModel",
            "_view_count": null,
            "_view_module": "@jupyter-widgets/base",
            "_view_module_version": "1.2.0",
            "_view_name": "LayoutView",
            "align_content": null,
            "align_items": null,
            "align_self": null,
            "border": null,
            "bottom": null,
            "display": null,
            "flex": null,
            "flex_flow": null,
            "grid_area": null,
            "grid_auto_columns": null,
            "grid_auto_flow": null,
            "grid_auto_rows": null,
            "grid_column": null,
            "grid_gap": null,
            "grid_row": null,
            "grid_template_areas": null,
            "grid_template_columns": null,
            "grid_template_rows": null,
            "height": null,
            "justify_content": null,
            "justify_items": null,
            "left": null,
            "margin": null,
            "max_height": null,
            "max_width": null,
            "min_height": null,
            "min_width": null,
            "object_fit": null,
            "object_position": null,
            "order": null,
            "overflow": null,
            "overflow_x": null,
            "overflow_y": null,
            "padding": null,
            "right": null,
            "top": null,
            "visibility": null,
            "width": null
          }
        },
        "822763735f1f4fb8a8b0cac329d2a0a5": {
          "model_module": "@jupyter-widgets/controls",
          "model_name": "ProgressStyleModel",
          "model_module_version": "1.5.0",
          "state": {
            "_model_module": "@jupyter-widgets/controls",
            "_model_module_version": "1.5.0",
            "_model_name": "ProgressStyleModel",
            "_view_count": null,
            "_view_module": "@jupyter-widgets/base",
            "_view_module_version": "1.2.0",
            "_view_name": "StyleView",
            "bar_color": null,
            "description_width": ""
          }
        },
        "1ad52e8660ac470d842dd0b575ca300a": {
          "model_module": "@jupyter-widgets/base",
          "model_name": "LayoutModel",
          "model_module_version": "1.2.0",
          "state": {
            "_model_module": "@jupyter-widgets/base",
            "_model_module_version": "1.2.0",
            "_model_name": "LayoutModel",
            "_view_count": null,
            "_view_module": "@jupyter-widgets/base",
            "_view_module_version": "1.2.0",
            "_view_name": "LayoutView",
            "align_content": null,
            "align_items": null,
            "align_self": null,
            "border": null,
            "bottom": null,
            "display": null,
            "flex": null,
            "flex_flow": null,
            "grid_area": null,
            "grid_auto_columns": null,
            "grid_auto_flow": null,
            "grid_auto_rows": null,
            "grid_column": null,
            "grid_gap": null,
            "grid_row": null,
            "grid_template_areas": null,
            "grid_template_columns": null,
            "grid_template_rows": null,
            "height": null,
            "justify_content": null,
            "justify_items": null,
            "left": null,
            "margin": null,
            "max_height": null,
            "max_width": null,
            "min_height": null,
            "min_width": null,
            "object_fit": null,
            "object_position": null,
            "order": null,
            "overflow": null,
            "overflow_x": null,
            "overflow_y": null,
            "padding": null,
            "right": null,
            "top": null,
            "visibility": null,
            "width": null
          }
        },
        "d017fb1525d748b79a28f2dc547d2833": {
          "model_module": "@jupyter-widgets/controls",
          "model_name": "DescriptionStyleModel",
          "model_module_version": "1.5.0",
          "state": {
            "_model_module": "@jupyter-widgets/controls",
            "_model_module_version": "1.5.0",
            "_model_name": "DescriptionStyleModel",
            "_view_count": null,
            "_view_module": "@jupyter-widgets/base",
            "_view_module_version": "1.2.0",
            "_view_name": "StyleView",
            "description_width": ""
          }
        }
      }
    }
  },
  "nbformat": 4,
  "nbformat_minor": 0
}