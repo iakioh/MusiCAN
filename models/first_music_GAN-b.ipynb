{
  "nbformat": 4,
  "nbformat_minor": 0,
  "metadata": {
    "colab": {
      "name": "first-music-GAN.ipynb",
      "provenance": [],
      "collapsed_sections": [],
      "include_colab_link": true
    },
    "kernelspec": {
      "name": "python3",
      "display_name": "Python 3"
    },
    "language_info": {
      "name": "python"
    }
  },
  "cells": [
    {
      "cell_type": "markdown",
      "metadata": {
        "id": "view-in-github",
        "colab_type": "text"
      },
      "source": [
        "<a href=\"https://colab.research.google.com/github/iakioh/MusiCAN/blob/main/models/first_music_GAN-b.ipynb\" target=\"_parent\"><img src=\"https://colab.research.google.com/assets/colab-badge.svg\" alt=\"Open In Colab\"/></a>"
      ]
    },
    {
      "cell_type": "code",
      "execution_count": 1,
      "metadata": {
        "id": "3Zy36G-CGamF"
      },
      "outputs": [],
      "source": [
        "import numpy as np\n",
        "import matplotlib.pyplot as plt\n",
        "import torch"
      ]
    },
    {
      "cell_type": "markdown",
      "source": [
        "## Settings"
      ],
      "metadata": {
        "id": "tQlEdgCZNN5r"
      }
    },
    {
      "cell_type": "code",
      "source": [
        "# Pianoroll parameters\n",
        "notes_per_octave = 12\n",
        "number_octaves = 6   # as in MuseGAN\n",
        "number_pitches = number_octaves * notes_per_octave\n",
        "\n",
        "number_bars = 1\n",
        "beats_per_bar = 4   # 4/4 rythm\n",
        "blips_per_beat = 24   # temporal resolution of Lakh dataset\n",
        "number_blips  = number_bars * beats_per_bar * blips_per_beat\n",
        "\n",
        "pianoroll_size = number_pitches * number_blips\n",
        "\n",
        "print(f\"pianoroll array: {number_pitches}x{number_blips} = {pianoroll_size}\")\n",
        "\n",
        "\n",
        "# Generator parameters\n",
        "seed_length = 64\n"
      ],
      "metadata": {
        "colab": {
          "base_uri": "https://localhost:8080/"
        },
        "id": "RCknwD96Gj_o",
        "outputId": "1b68c1aa-feb3-4a73-8ffd-fa9ffd75f1cc"
      },
      "execution_count": 2,
      "outputs": [
        {
          "output_type": "stream",
          "name": "stdout",
          "text": [
            "pianoroll array: 72x96 = 6912\n"
          ]
        }
      ]
    },
    {
      "cell_type": "markdown",
      "source": [
        "## Data Preparation"
      ],
      "metadata": {
        "id": "wDtbQttmNVPt"
      }
    },
    {
      "cell_type": "code",
      "source": [],
      "metadata": {
        "id": "JeRrT7a6LNr7"
      },
      "execution_count": 2,
      "outputs": []
    },
    {
      "cell_type": "markdown",
      "source": [
        "## Model"
      ],
      "metadata": {
        "id": "McA_GGP2NmyE"
      }
    },
    {
      "cell_type": "markdown",
      "source": [
        "### Architecture"
      ],
      "metadata": {
        "id": "Y6XCJUZjJbd_"
      }
    },
    {
      "cell_type": "code",
      "source": [
        "# code from https://www.hassanaskary.com/python/pytorch/deep%20learning/2020/09/19/intuitive-explanation-of-straight-through-estimators.html#:~:text=A%20straight%2Dthrough%20estimator%20is,function%20was%20an%20identity%20function.\n",
        "\n",
        "class STEFunction(torch.autograd.Function):\n",
        "    @staticmethod\n",
        "    def forward(ctx, input):\n",
        "        return (input > 0).float()\n",
        "\n",
        "    @staticmethod\n",
        "    def backward(ctx, grad_output):\n",
        "        return torch.nn.functional.hardtanh(grad_output)\n",
        "\n",
        "class StraightThroughEstimator(torch.nn.Module):\n",
        "    def __init__(self):\n",
        "        super().__init__()\n",
        "\n",
        "    def forward(self, x):\n",
        "        x = STEFunction.apply(x)\n",
        "        return x"
      ],
      "metadata": {
        "id": "bh0ONqzxad76"
      },
      "execution_count": 3,
      "outputs": []
    },
    {
      "cell_type": "code",
      "source": [
        "class Generator (torch.nn.Module) :\n",
        "    \"\"\"\n",
        "    first GAN generator, MLP, layer size doubles until output size O is reached.\n",
        "\n",
        "    input : normally distributed random vector of length I, seed vector\n",
        "    output: binary vector of length O, pianoroll\n",
        "    \"\"\"\n",
        "\n",
        "\n",
        "    def __init__ (self, log = False, **kwargs) : \n",
        "        super().__init__(**kwargs)\n",
        "        \n",
        "        I = seed_length   # length of input vector\n",
        "        O = pianoroll_size    # length of output vector\n",
        "        x = 4   # linear layer output_length/input_length ratio,\n",
        "                # the higher x is, the fewer layers are needed to generate the \n",
        "                # output vector.\n",
        "\n",
        "        layers = []\n",
        "        current_size = I\n",
        "        while x*current_size < O:\n",
        "            layers.extend([\n",
        "                torch.nn.Linear(current_size, x*current_size),\n",
        "                torch.nn.BatchNorm1d(x*current_size),\n",
        "                torch.nn.ReLU(),\n",
        "            ])\n",
        "            current_size *= x\n",
        "        layers.extend([\n",
        "            torch.nn.Linear(current_size, O),\n",
        "            StraightThroughEstimator()\n",
        "        ])\n",
        "\n",
        "        self.generator = torch.nn.Sequential(*layers)\n",
        "\n",
        "        if log :\n",
        "            print(f\"Generator:\")\n",
        "            print(f\"    I: {I}, O: {O}\")\n",
        "            print(f\"    layers: {(len(layers)+1) // 3}\")\n",
        "            print(\"\")\n",
        "\n",
        "\n",
        "    def forward (self, seed) :\n",
        "        pianoroll = self.generator(seed)\n",
        "\n",
        "        return pianoroll"
      ],
      "metadata": {
        "id": "d-DaA9gDNlfS"
      },
      "execution_count": 4,
      "outputs": []
    },
    {
      "cell_type": "code",
      "source": [
        "class Discriminator (torch.nn.Module) :\n",
        "    \"\"\"\n",
        "    first GAN discriminator, basically Generator in reverse but \n",
        "    \n",
        "    input : binary vector of length I, pianoroll\n",
        "    output: single number, prob. that the input is a real and not \n",
        "            generated pianoroll\n",
        "    \"\"\"\n",
        "\n",
        "\n",
        "    def __init__ (self, log = False, **kwargs) :\n",
        "        super().__init__(**kwargs)\n",
        "\n",
        "        I = pianoroll_size   # length of input vector\n",
        "        O = 1   # length of output vector\n",
        "        x = 4   # linear layer input_length/output_length ratio,\n",
        "                # the higher x is, the fewer layers are needed to condense the \n",
        "                # input vector to a single number.\n",
        "\n",
        "        layers = []\n",
        "        layers.append(torch.nn.BatchNorm1d(I))\n",
        "        current_size = I\n",
        "        while current_size >= x**2*O :\n",
        "            layers.extend([\n",
        "                torch.nn.Linear(current_size, current_size//x),\n",
        "                torch.nn.BatchNorm1d(current_size//x),\n",
        "                torch.nn.ReLU(),\n",
        "            ])\n",
        "            current_size //= x\n",
        "        layers.extend([\n",
        "            torch.nn.Linear(current_size, O),\n",
        "            #torch.nn.Sigmoid(),\n",
        "        ])\n",
        "\n",
        "        self.discriminator = torch.nn.Sequential(*layers)\n",
        "\n",
        "        if log :\n",
        "            print(f\"Discriminator:\")\n",
        "            print(f\"    I: {I}, O: {O}\")\n",
        "            print(f\"    layers: {(len(layers)+1) // 3}\")\n",
        "            print(\"\")\n",
        "\n",
        "\n",
        "    def forward (self, pianoroll):\n",
        "        judgement = self.discriminator(pianoroll)\n",
        "        return judgement"
      ],
      "metadata": {
        "id": "c1b2H6Cjg_7g"
      },
      "execution_count": 45,
      "outputs": []
    },
    {
      "cell_type": "markdown",
      "source": [
        "#### Architecture Tests"
      ],
      "metadata": {
        "id": "Diasgq46zWGw"
      }
    },
    {
      "cell_type": "code",
      "source": [
        "gen = Generator(log=True)\n",
        "\n",
        "gen_out = gen.forward(torch.rand((5, seed_length)))\n",
        "pr = gen_out.cpu().detach().numpy()\n",
        "pr = pr.reshape((5, number_pitches, number_blips))\n",
        "\n",
        "plt.imshow(pr[0]);"
      ],
      "metadata": {
        "colab": {
          "base_uri": "https://localhost:8080/",
          "height": 355
        },
        "id": "nf3hfw7g15El",
        "outputId": "4391931d-029f-431a-dff5-815c20fd5bc8"
      },
      "execution_count": 6,
      "outputs": [
        {
          "output_type": "stream",
          "name": "stdout",
          "text": [
            "Generator:\n",
            "    I: 64, O: 6912\n",
            "    layers: 4\n",
            "\n"
          ]
        },
        {
          "output_type": "display_data",
          "data": {
            "text/plain": [
              "<Figure size 432x288 with 1 Axes>"
            ],
            "image/png": "[encoded data removed]"
          },
          "metadata": {
            "needs_background": "light"
          }
        }
      ]
    },
    {
      "cell_type": "code",
      "source": [
        "dis = Discriminator(log=True)\n",
        "\n",
        "dis_out = dis.forward(gen_out)\n",
        "judge = torch.sigmoid(dis_out).cpu().detach().numpy().flatten()\n",
        "\n",
        "print(f\"Prob. that image is real: {judge[0]*100:.0f}%\")\n"
      ],
      "metadata": {
        "colab": {
          "base_uri": "https://localhost:8080/"
        },
        "id": "Xa2GX3mL6h3_",
        "outputId": "60a523f8-1715-4136-e1b1-58a6448b7d10"
      },
      "execution_count": 7,
      "outputs": [
        {
          "output_type": "stream",
          "name": "stdout",
          "text": [
            "Discriminator:\n",
            "    I: 6912, O: 1\n",
            "    layers: 6\n",
            "\n",
            "Prob. that image is real: 43%\n"
          ]
        }
      ]
    },
    {
      "cell_type": "markdown",
      "source": [
        "### Training"
      ],
      "metadata": {
        "id": "I35Kg1NCJd84"
      }
    },
    {
      "cell_type": "code",
      "source": [
        "class Training :\n",
        "    def __init__ (self, real_pianorolls, batch_size) :\n",
        "        self.device = 'cuda'  if torch.cuda.is_available() else  'cpu'\n",
        "\n",
        "        # Storing external parameters\n",
        "        self.batch_size  = batch_size\n",
        "        self.seed_length = seed_length\n",
        "        self.pianoroll_size = pianoroll_size\n",
        "        \n",
        "        # Preparing training data\n",
        "        self.training_set = real_pianorolls\n",
        "        self.data_loader  = torch.utils.data.DataLoader(self.training_set,\n",
        "                                batch_size = self.batch_size, \n",
        "                                drop_last = True,\n",
        "                                shuffle = True)\n",
        "\n",
        "        # Initializing GAN\n",
        "        self.gen = Generator().to(self.device)\n",
        "        self.dis = Discriminator().to(self.device)\n",
        "        self.optimizer_gen = torch.optim.Adam(self.gen.parameters(), \n",
        "                                              lr = 0.001,\n",
        "                                              betas = (0.5, 0.9)) \n",
        "            # ADAM parameters from GAN tutorial\n",
        "        self.optimizer_dis = torch.optim.Adam(self.dis.parameters(), \n",
        "                                              lr = 0.001,\n",
        "                                              betas = (0.5, 0.9))\n",
        "\n",
        "\n",
        "    def train (self, epochs, k = 1, loss_func = \"WGAN\") :\n",
        "        # Training parameters\n",
        "        self.k = k\n",
        "        self.loss_function = loss_func\n",
        "        self.losses = np.zeros((2, epochs))\n",
        "        \n",
        "        assert  type(epochs) == int\n",
        "        assert  epochs >= 1\n",
        "        assert  type(k) == int\n",
        "        assert  k >= 1\n",
        "        assert  self.loss_function in [\"GAN\", \"WGAN\"]\n",
        "        \n",
        "\n",
        "        for epoch in range(epochs) :\n",
        "            loss = []\n",
        "            for train_batch, _ in self.data_loader :\n",
        "                loss_dis, loss_gen = self.training_step(train_batch.to(self.device))\n",
        "                loss.append([loss_dis, loss_gen])\n",
        "                print(\"#\", end = \"\")\n",
        "            \n",
        "            self.losses[:, epoch] = np.array(loss).mean(axis=0)\n",
        "            print(\" epoch\", epoch, \"complete.\")\n",
        "\n",
        "        return self.gen, self.dis\n",
        "\n",
        "  \n",
        "    def training_step (self, batch_real) :\n",
        "        self.optimizer_dis.zero_grad()\n",
        "        self.optimizer_gen.zero_grad()\n",
        "        \n",
        "        for i in range(self.k):\n",
        "            # Forward\n",
        "            seed_vector   = torch.normal(0, 1, size = \n",
        "                                      (self.batch_size, self.seed_length)) \\\n",
        "                            .to(self.device)\n",
        "            batch_generated = self.gen.forward(seed_vector)\n",
        "            \n",
        "            judgement_real      = self.dis.forward(batch_real)\n",
        "            judgement_generated = self.dis.forward(batch_generated)\n",
        "\n",
        "            # Calculating the Discriminator loss function\n",
        "            if self.loss_function == \"GAN\" :\n",
        "                #prob_real      = judgement_real\n",
        "                #prob_generated = judgement_generated\n",
        "                prob_real      = torch.sigmoid(judgement_real)\n",
        "                prob_generated = torch.sigmoid(judgement_generated)\n",
        "\n",
        "                loss_dis = - torch.mean(torch.log(prob_real) \\\n",
        "                                        + torch.log(1 - prob_generated))\n",
        "                \n",
        "            elif self.loss_function == \"WGAN\" :\n",
        "                var_g = torch.var(judgement_generated)\n",
        "                var_r = torch.var(judgement_real)\n",
        "\n",
        "                reg_term = torch.where(var_g > 1, (var_g - 1)**2, 0) \\\n",
        "                           + torch.where(var_r > 1, (var_r - 1)**2, 0)\n",
        "                \n",
        "                loss_dis = torch.mean(judgement_generated - judgement_real) \\\n",
        "                           + reg_term\n",
        "            else :\n",
        "                print(f\"Warning: '{self.loss_function}' as loss function isn't\\\n",
        "                        an option!\")\n",
        "\n",
        "            # Discriminator update\n",
        "            loss_dis.backward(retain_graph = True)\n",
        "            self.optimizer_dis.step()\n",
        "\n",
        "        # Calculating the Generator loss function\n",
        "        judgement_new = self.dis.forward(batch_generated)\n",
        "        \n",
        "        if self.loss_function == \"GAN\" :\n",
        "            #prob_new = judgement_new\n",
        "            prob_new = torch.sigmoid(judgement_new)\n",
        "            loss_gen = -torch.mean(torch.log(prob_new))\n",
        "        elif self.loss_function == \"WGAN\" :\n",
        "            loss_gen = -torch.mean(judgement_new)\n",
        "        \n",
        "\n",
        "        # Generator update\n",
        "        loss_gen.backward()\n",
        "        self.optimizer_gen.step()\n",
        "\n",
        "        return loss_dis.detach().numpy(), loss_gen.detach().numpy()\n"
      ],
      "metadata": {
        "id": "FAZl4_sLQ6Tf"
      },
      "execution_count": 47,
      "outputs": []
    },
    {
      "cell_type": "markdown",
      "source": [
        "#### Training Tests"
      ],
      "metadata": {
        "id": "dYInbQ3O8ErC"
      }
    },
    {
      "cell_type": "code",
      "source": [
        "mock_image = torch.zeros(number_pitches, number_blips) #, dtype = torch.int)\n",
        "for i in range(number_pitches) :\n",
        "    for j in range(number_blips) :\n",
        "        mock_image[i, j] = \\\n",
        "            (i < number_pitches // 2 + 10) and \\\n",
        "            (i > number_pitches // 2 - 10) and \\\n",
        "            (j < number_pitches // 2 + 10) and \\\n",
        "            (j > number_pitches // 2 - 10)\n",
        "\n",
        "plt.imshow(mock_image);\n",
        "\n",
        "# make a data_set by stacking the same image a number of times\n",
        "number_images = 100\n",
        "mock_vector   = mock_image.flatten()\n",
        "mock_data     = mock_vector[None, :].expand(number_images, *mock_vector.size())\n",
        "mock_labels   = torch.empty(number_images)\n",
        "mock_data_set = torch.utils.data.TensorDataset(mock_data, mock_labels)"
      ],
      "metadata": {
        "colab": {
          "base_uri": "https://localhost:8080/",
          "height": 289
        },
        "id": "QRhGatxIk5TN",
        "outputId": "5fe5db54-ed3c-448b-9b37-ca7fc363ea2c"
      },
      "execution_count": 13,
      "outputs": [
        {
          "output_type": "display_data",
          "data": {
            "text/plain": [
              "<Figure size 432x288 with 1 Axes>"
            ],
            "image/png": "[encoded data removed]"
          },
          "metadata": {
            "needs_background": "light"
          }
        }
      ]
    },
    {
      "cell_type": "code",
      "source": [
        "GANTrainer  = Training(mock_data_set, batch_size = 33)\n",
        "trained_GAN = GANTrainer.train(epochs = 100, k = 4, loss_func = \"GAN\")"
      ],
      "metadata": {
        "id": "3Rx3ZZ9aJgzu",
        "colab": {
          "base_uri": "https://localhost:8080/"
        },
        "outputId": "6ff2482e-3f8c-4eff-91f8-5fe880696d15"
      },
      "execution_count": 54,
      "outputs": [
        {
          "output_type": "stream",
          "name": "stdout",
          "text": [
            "### epoch 0 complete.\n",
            "### epoch 1 complete.\n",
            "### epoch 2 complete.\n",
            "### epoch 3 complete.\n",
            "### epoch 4 complete.\n",
            "### epoch 5 complete.\n",
            "### epoch 6 complete.\n",
            "### epoch 7 complete.\n",
            "### epoch 8 complete.\n",
            "### epoch 9 complete.\n",
            "### epoch 10 complete.\n",
            "### epoch 11 complete.\n",
            "### epoch 12 complete.\n",
            "### epoch 13 complete.\n",
            "### epoch 14 complete.\n",
            "### epoch 15 complete.\n",
            "### epoch 16 complete.\n",
            "### epoch 17 complete.\n",
            "### epoch 18 complete.\n",
            "### epoch 19 complete.\n",
            "### epoch 20 complete.\n",
            "### epoch 21 complete.\n",
            "### epoch 22 complete.\n",
            "### epoch 23 complete.\n",
            "### epoch 24 complete.\n",
            "### epoch 25 complete.\n",
            "### epoch 26 complete.\n",
            "### epoch 27 complete.\n",
            "### epoch 28 complete.\n",
            "### epoch 29 complete.\n",
            "### epoch 30 complete.\n",
            "### epoch 31 complete.\n",
            "### epoch 32 complete.\n",
            "### epoch 33 complete.\n",
            "### epoch 34 complete.\n",
            "### epoch 35 complete.\n",
            "### epoch 36 complete.\n",
            "### epoch 37 complete.\n",
            "### epoch 38 complete.\n",
            "### epoch 39 complete.\n",
            "### epoch 40 complete.\n",
            "### epoch 41 complete.\n",
            "### epoch 42 complete.\n",
            "### epoch 43 complete.\n",
            "### epoch 44 complete.\n",
            "### epoch 45 complete.\n",
            "### epoch 46 complete.\n",
            "### epoch 47 complete.\n",
            "### epoch 48 complete.\n",
            "### epoch 49 complete.\n",
            "### epoch 50 complete.\n",
            "### epoch 51 complete.\n",
            "### epoch 52 complete.\n",
            "### epoch 53 complete.\n",
            "### epoch 54 complete.\n",
            "### epoch 55 complete.\n",
            "### epoch 56 complete.\n",
            "### epoch 57 complete.\n",
            "### epoch 58 complete.\n",
            "### epoch 59 complete.\n",
            "### epoch 60 complete.\n",
            "### epoch 61 complete.\n",
            "### epoch 62 complete.\n",
            "### epoch 63 complete.\n",
            "### epoch 64 complete.\n",
            "### epoch 65 complete.\n",
            "### epoch 66 complete.\n",
            "### epoch 67 complete.\n",
            "### epoch 68 complete.\n",
            "### epoch 69 complete.\n",
            "### epoch 70 complete.\n",
            "### epoch 71 complete.\n",
            "### epoch 72 complete.\n",
            "### epoch 73 complete.\n",
            "### epoch 74 complete.\n",
            "### epoch 75 complete.\n",
            "### epoch 76 complete.\n",
            "### epoch 77 complete.\n",
            "### epoch 78 complete.\n",
            "### epoch 79 complete.\n",
            "### epoch 80 complete.\n",
            "### epoch 81 complete.\n",
            "### epoch 82 complete.\n",
            "### epoch 83 complete.\n",
            "### epoch 84 complete.\n",
            "### epoch 85 complete.\n",
            "### epoch 86 complete.\n",
            "### epoch 87 complete.\n",
            "### epoch 88 complete.\n",
            "### epoch 89 complete.\n",
            "### epoch 90 complete.\n",
            "### epoch 91 complete.\n",
            "### epoch 92 complete.\n",
            "### epoch 93 complete.\n",
            "### epoch 94 complete.\n",
            "### epoch 95 complete.\n",
            "### epoch 96 complete.\n",
            "### epoch 97 complete.\n",
            "### epoch 98 complete.\n",
            "### epoch 99 complete.\n"
          ]
        }
      ]
    },
    {
      "cell_type": "code",
      "source": [
        "plt.title(\"Training losses\")\n",
        "plt.plot(GANTrainer.losses.T)\n",
        "plt.xlabel(\"epoch\")\n",
        "plt.legend([\"Discriminator\", \"Generator\"])\n",
        "plt.show()"
      ],
      "metadata": {
        "colab": {
          "base_uri": "https://localhost:8080/",
          "height": 316
        },
        "id": "aZc9_efijxJ8",
        "outputId": "9aa0ea27-90f1-4168-bb91-d6fe783f82ee"
      },
      "execution_count": 55,
      "outputs": [
        {
          "output_type": "display_data",
          "data": {
            "text/plain": [
              "<Figure size 432x288 with 1 Axes>"
            ],
            "image/png": "[encoded data removed]"
          },
          "metadata": {
            "needs_background": "light"
          }
        }
      ]
    },
    {
      "cell_type": "code",
      "source": [
        "# Quick test\n",
        "Gen, Dis = trained_GAN\n",
        "\n",
        "## Generator\n",
        "test_seeds = torch.normal(0, 1, (5, 64))\n",
        "examples = Gen.forward(test_seeds)\n",
        "gen_img = examples[0].reshape(number_pitches, number_blips)\n",
        "gen_img = gen_img.detach().numpy()\n",
        "\n",
        "## Discriminator\n",
        "judgements = Dis.forward(examples)\n",
        "judgement = torch.sigmoid(judgements[0][0]).detach().numpy()\n",
        "\n",
        "# Results\n",
        "plt.title(\"Generator output x\")\n",
        "plt.imshow(gen_img);\n",
        "print(f\"Discriminator p(x = real): {judgement*100:.0f}%\")"
      ],
      "metadata": {
        "colab": {
          "base_uri": "https://localhost:8080/",
          "height": 319
        },
        "id": "obfrhij0qY13",
        "outputId": "fbd93ff7-fb5f-45e8-a377-e7e359a84cb1"
      },
      "execution_count": 58,
      "outputs": [
        {
          "output_type": "stream",
          "name": "stdout",
          "text": [
            "Discriminator p(x = real): 54%\n"
          ]
        },
        {
          "output_type": "display_data",
          "data": {
            "text/plain": [
              "<Figure size 432x288 with 1 Axes>"
            ],
            "image/png": "[encoded data removed]"
          },
          "metadata": {
            "needs_background": "light"
          }
        }
      ]
    },
    {
      "cell_type": "code",
      "source": [
        "print(f\"{torch.sigmoid(Dis.forward(mock_data))[0][0].detach().numpy()*100:.0f}%\")"
      ],
      "metadata": {
        "colab": {
          "base_uri": "https://localhost:8080/"
        },
        "id": "9F7kIfKPVVm7",
        "outputId": "a8966b48-99c4-4fb3-922b-9be7691591bc"
      },
      "execution_count": 57,
      "outputs": [
        {
          "output_type": "stream",
          "name": "stdout",
          "text": [
            "65%\n"
          ]
        }
      ]
    },
    {
      "cell_type": "markdown",
      "source": [
        "## Junk & quick tests"
      ],
      "metadata": {
        "id": "HhKtFwOemKR-"
      }
    }
  ]
}