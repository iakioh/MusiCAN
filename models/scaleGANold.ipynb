{
  "cells": [
    {
      "cell_type": "markdown",
      "metadata": {
        "colab_type": "text",
        "id": "view-in-github"
      },
      "source": [
        "<a href=\"https://colab.research.google.com/github/iakioh/MusiCAN/blob/main/models/first_music_GAN.ipynb\" target=\"_parent\"><img src=\"https://colab.research.google.com/assets/colab-badge.svg\" alt=\"Open In Colab\"/></a>"
      ]
    },
    {
      "cell_type": "markdown",
      "metadata": {},
      "source": [
        "# scaleGAN\n",
        "**Description:** scalable GAN architecture with an equally scalable mock dataset.\\\n",
        "**Purpose:** find an efficient and stable architecture to generate images as large as pianorolls with.\\\n",
        "**Results:**"
      ]
    },
    {
      "cell_type": "code",
      "execution_count": 54,
      "metadata": {
        "id": "3Zy36G-CGamF"
      },
      "outputs": [],
      "source": [
        "import pickle\n",
        "import math\n",
        "import numpy as np\n",
        "import matplotlib.pyplot as plt\n",
        "plt.style.use('tableau-colorblind10')\n",
        "import torch"
      ]
    },
    {
      "cell_type": "markdown",
      "metadata": {},
      "source": [
        "## Class and function definitions"
      ]
    },
    {
      "cell_type": "markdown",
      "metadata": {},
      "source": [
        "### Data creation"
      ]
    },
    {
      "cell_type": "code",
      "execution_count": 2,
      "metadata": {},
      "outputs": [],
      "source": [
        "class CentralDotImage :\n",
        "    \"\"\"\n",
        "        creates mock data set out of a simple image copied multiple times\n",
        "\n",
        "        Methods\n",
        "        -------\n",
        "        __init__(height, width, dataset_size = 100) : \n",
        "            creates all attributes\n",
        "        show() : \n",
        "            plt.plots image\n",
        "\n",
        "        Attributes\n",
        "        ----------\n",
        "        height : int\n",
        "            of image, in pixels\n",
        "        width : int\n",
        "            of image, in pixels\n",
        "        size : int\n",
        "            number of pixels in image\n",
        "        dataset_size : int\n",
        "            number of images\n",
        "        \n",
        "        image : torch.Tensor\n",
        "            out of 1s and 0s,\n",
        "            size = (width, height)\n",
        "        vector : torch.Tensor\n",
        "            flattened image,\n",
        "            size = (size)\n",
        "        data : torch.Tensor\n",
        "            images copied dataset_size times\n",
        "            size = (dataset_size, size)\n",
        "        dataset : torch.TensorDataset\n",
        "    \"\"\"\n",
        "\n",
        "    def __init__ (self, height, width, dataset_size = 100) :\n",
        "        # Input checks\n",
        "        assert  type(height) == int \n",
        "        assert  height >= 1 \n",
        "        assert  type(width) == int\n",
        "        assert  width >= 1\n",
        "        assert  type(dataset_size) == int\n",
        "        assert  dataset_size >= 1\n",
        "\n",
        "        self.height = height\n",
        "        self.width  = width\n",
        "        self.shape  = (height, width)\n",
        "        self.size   = height * width\n",
        "        self.dataset_size = dataset_size\n",
        "\n",
        "        # Image creation\n",
        "        self.image = torch.zeros(height, width)\n",
        "        for i in range(height) :\n",
        "            for j in range(width) :\n",
        "                self.image[i, j] = \\\n",
        "                    i + 1 <= math.ceil(3/4 * height) and \\\n",
        "                    i + 1 > math.floor(1/4 * height) and \\\n",
        "                    j + 1 <= math.ceil(3/4 * width) and \\\n",
        "                    j + 1 > math.floor(1/4 * width)\n",
        "\n",
        "        # Dataset creation\n",
        "        self.vector  = self.image.flatten()\n",
        "        self.data    = self.vector[None, :].expand(dataset_size, self.size)\n",
        "        self.dataset = torch.utils.data.TensorDataset(self.data)\n",
        "\n",
        "    def show (self) :\n",
        "        plt.imshow(self.image)\n",
        "        plt.show()"
      ]
    },
    {
      "cell_type": "markdown",
      "metadata": {},
      "source": [
        "### Architecture"
      ]
    },
    {
      "cell_type": "code",
      "execution_count": 3,
      "metadata": {},
      "outputs": [],
      "source": [
        "\"\"\"\n",
        "    These two classes serves as torch layers to binarize the output of the Generator while keeping the layer still \"backpropagatable\" (via a hardtanh).\n",
        "    This is not our own code. For source, see:\n",
        "    https://www.hassanaskary.com/python/pytorch/deep%20learning/2020/09/19/intuitive-explanation-of-straight-through-estimators.html#:~:text=A%20straight%2Dthrough%20estimator%20is,function%20was%20an%20identity%20function.\n",
        "\"\"\"\n",
        "\n",
        "class STEFunction(torch.autograd.Function):\n",
        "    @staticmethod\n",
        "    def forward(ctx, input):\n",
        "        return (input > 0).float()\n",
        "\n",
        "    @staticmethod\n",
        "    def backward(ctx, grad_output):\n",
        "        return torch.nn.functional.hardtanh(grad_output)\n",
        "\n",
        "class StraightThroughEstimator(torch.nn.Module):\n",
        "    def __init__(self):\n",
        "        super(StraightThroughEstimator, self).__init__()\n",
        "\n",
        "    def forward(self, x):\n",
        "        x = STEFunction.apply(x)\n",
        "        return x\n"
      ]
    },
    {
      "cell_type": "code",
      "execution_count": 4,
      "metadata": {},
      "outputs": [],
      "source": [
        "class Network (torch.nn.Module) :\n",
        "    \"\"\"\n",
        "        General neural network class for specialized networks.\n",
        "        Create those by:\n",
        "        ```\n",
        "        myNet = Network(<int_input_length>, <int_output_length>, <str_name>)\n",
        "        layer_list = [<torch.nn.Module1>, ...]\n",
        "        myNet.create_model(layer_list)\n",
        "        myNet.print_stats()\n",
        "        ```\n",
        "    \"\"\"\n",
        "\n",
        "\n",
        "    def __init__ (self, input_length, output_length, name) : \n",
        "        super().__init__()\n",
        "        \n",
        "        self.input_length  = self.I = input_length\n",
        "        self.output_length = self.O = output_length\n",
        "        self.name          = name\n",
        "            \n",
        "\n",
        "    def create_model (self, layer_list) :\n",
        "        self.model = torch.nn.Sequential(*layer_list)\n",
        "\n",
        "\n",
        "    def print_stats (self) :\n",
        "        print(f\"{self.name}:\")\n",
        "        print(f\"    input length:  {self.input_length}\")\n",
        "        print(f\"    output length: {self.output_length}\")\n",
        "        if hasattr(self, 'model') :\n",
        "            print(f\"    layers:        {len(self.model)}\")\n",
        "            print(f\"    parameters:    {self.count_params()}\")\n",
        "        else :\n",
        "            print(f\"    Create the network architecture with .create_model(<layer_list>)\")\n",
        "        print(\"\")\n",
        "\n",
        "\n",
        "    def count_params (self) :\n",
        "        \"\"\"count number of trainable parameters\"\"\"\n",
        "\n",
        "        return sum(p.numel() for p in self.parameters() if p.requires_grad)\n",
        "\n",
        "\n",
        "    def forward (self, input, numpy_out = False) :\n",
        "        \"\"\"run network\"\"\"\n",
        "        output = self.model(input)\n",
        "        if numpy_out :\n",
        "            output = self._numpify(output)\n",
        "\n",
        "        return output\n",
        "    \n",
        "    \n",
        "    def _numpify (self, tensor) :\n",
        "        return tensor.detach().numpy()"
      ]
    },
    {
      "cell_type": "code",
      "execution_count": 5,
      "metadata": {},
      "outputs": [],
      "source": [
        "class Generator (Network) :\n",
        "    \"\"\"\n",
        "        GAN Generator class whose architecture is custom defined after initialization:\n",
        "        ```\n",
        "        myGen = Generator(<int_input_length>, <int_output_length>, <str_name>)\n",
        "        layer_list = [<torch.nn.Module1>, ...]\n",
        "        myGen.create_model(layer_list)\n",
        "        myGen.print_stats()\n",
        "        ```\n",
        "\n",
        "        There are two forward() variants:\n",
        "        * `forward(batchsize = 0, numpy_out = False)` with auto-generated normally distributed seeds.\n",
        "        * `forward_custom(seed, numpy_out = False)` with custom seeds as input.\n",
        "    \"\"\"\n",
        "\n",
        "    def forward (self, batch_size = 0, numpy_out = False) :\n",
        "        \"\"\"run network with a batch of normally distributed seeds\"\"\"\n",
        "        assert  type(batch_size) == int\n",
        "        assert  batch_size >= 0\n",
        "\n",
        "        # Seed generation\n",
        "        if batch_size == 0 :\n",
        "            seed_size = (self.input_length,)\n",
        "        else :\n",
        "            seed_size = (batch_size, self.input_length)\n",
        "        seed = torch.normal(0, 1, seed_size)\n",
        "        \n",
        "        # Running the network\n",
        "        return super().forward(seed, numpy_out)\n",
        "\n",
        "            \n",
        "    def forward_custom (self, seed, numpy_out = False) :\n",
        "        \"\"\"run network with custom seed\"\"\"\n",
        "        assert  type(seed) == torch.Tensor\n",
        "        assert  seed.shape[-1] == self.I\n",
        "\n",
        "        # Running the network\n",
        "        return super().forward(seed, numpy_out = numpy_out)\n",
        "\n"
      ]
    },
    {
      "cell_type": "code",
      "execution_count": 6,
      "metadata": {},
      "outputs": [],
      "source": [
        "class Discriminator (Network) :\n",
        "    \"\"\"\n",
        "        GAN Discriminator class whose architecture is custom defined after initialization:\n",
        "        ```\n",
        "        myDis = Discriminator(<int_input_length>, <int_output_length>, <str_name>)\n",
        "        layer_list = [<torch.nn.Module1>, ...]\n",
        "        myDis.create_model(layer_list)\n",
        "        myDis.print_stats()\n",
        "        ```\n",
        "    \"\"\"\n",
        "\n",
        "    def forward (self, input, prob_out = False, numpy_out = False) :\n",
        "        \"\"\"\n",
        "            run network, optionally return probability (default logit) or numpy array (default torch)\n",
        "        \"\"\"\n",
        "        assert  type(input) in [torch.Tensor, np.ndarray]\n",
        "        assert  input.shape[-1] == self.I\n",
        "\n",
        "        if type(input) == np.ndarray :\n",
        "            input = torch.tensor(input)\n",
        "\n",
        "        # Running the network\n",
        "        \n",
        "        output = super().forward(input)\n",
        "        if prob_out :\n",
        "            output = torch.sigmoid(output)\n",
        "        if numpy_out :\n",
        "            output = self._numpify(output)\n",
        "\n",
        "        return output"
      ]
    },
    {
      "cell_type": "markdown",
      "metadata": {},
      "source": [
        "### Training"
      ]
    },
    {
      "cell_type": "code",
      "execution_count": 7,
      "metadata": {},
      "outputs": [],
      "source": [
        "def generator_goodness (generated_batch, real_batch) :\n",
        "    \"\"\"\n",
        "        compare two batches of data by calculating the absolute mean difference\n",
        "    \"\"\"\n",
        "    \n",
        "    # averaged over batches \n",
        "    generated_mean = torch.mean(generated_batch)\n",
        "    real_mean      = torch.mean(real_batch)\n",
        "\n",
        "    # take differnece & absolut value, average over features lastly\n",
        "    goodness_criteria = torch.mean(torch.abs(real_mean - generated_mean))\n",
        "\n",
        "    return goodness_criteria.detach().numpy()"
      ]
    },
    {
      "cell_type": "code",
      "execution_count": 8,
      "metadata": {},
      "outputs": [],
      "source": [
        "class Log :\n",
        "    \"\"\"\n",
        "        container class for GANTraining logs\n",
        "    \"\"\"\n",
        "    \n",
        "    def __init__ (self) :\n",
        "        self.losses       = None\n",
        "        self.probs        = None\n",
        "        self.gen_goodness = None\n",
        "        self._dis_losses  = None\n",
        "        self._probs       = None"
      ]
    },
    {
      "cell_type": "code",
      "execution_count": 74,
      "metadata": {},
      "outputs": [],
      "source": [
        "class GANTraining :\n",
        "    \"\"\"\n",
        "        general GAN training class\n",
        "        How To Use:\n",
        "        * `MyTrain = GANTraining(<Generator>, <Discriminator>, <torch_dataset>)`\n",
        "        * `MyTrain.setup(<int_rounds>, batchsize = 1, discriminator_rounds = 1,     \n",
        "                        loss_function = [\"WGAN\", \"GAN\"])`\n",
        "        * `MyTrain.train()`\n",
        "        \n",
        "        After That:\n",
        "        * `MyTrain.gen` contains trained Generator\n",
        "        * `MyTrain.dis` contains trained Discriminator\n",
        "        * `MyTrain.log` contains metrics from each round:\n",
        "            - .losses       : np.array, shape = (5, rounds)\n",
        "            - .probs        : np.array, shape = (2, rounds)\n",
        "            - .gen_goodness : np.array, shape = (rounds,)\n",
        "    \"\"\"\n",
        "\n",
        "\n",
        "    def __init__ (self, generator, discriminator, dataset) :\n",
        "        assert  type(generator) in [Network, Generator]\n",
        "        assert  hasattr(generator, \"model\")\n",
        "        assert  type(discriminator) in [Network, Discriminator]\n",
        "        assert  hasattr(discriminator, \"model\")\n",
        "        assert  generator.O == discriminator.I\n",
        "        assert  discriminator.O == 1\n",
        "        assert  type(dataset) == torch.utils.data.dataset.TensorDataset\n",
        "        assert  dataset.tensors[0].shape[-1] == generator.O   # real and gen. data should have the same size\n",
        "\n",
        "        self.device = 'cuda'  if torch.cuda.is_available() else  'cpu'\n",
        "        self.training_filepath = \"../execution/trained_models/\"\n",
        "\n",
        "        # Model, data and optimizer\n",
        "        self.gen     = generator.to(self.device)\n",
        "        self.dis     = discriminator.to(self.device)\n",
        "        self.dataset = dataset\n",
        "        self.dataset.tensors[0].to(self.device)\n",
        "        self.optimizer_gen = torch.optim.Adam(self.gen.parameters(), \n",
        "                                              lr = 0.001,\n",
        "                                              betas = (0.5, 0.9))\n",
        "        self.optimizer_dis = torch.optim.Adam(self.dis.parameters(), \n",
        "                                              lr = 0.001,\n",
        "                                              betas = (0.5, 0.9))\n",
        "        # Note: ADAM parameters from GAN tutorial [1].\n",
        "\n",
        "\n",
        "    def setup (self, rounds, batch_size = 1, discriminator_rounds = 1, \n",
        "               loss_function = \"WGAN\") :\n",
        "        assert  type(rounds) == int\n",
        "        assert  rounds >= 1\n",
        "        assert  type(batch_size) == int\n",
        "        assert  batch_size >= 1\n",
        "        assert  type(discriminator_rounds) == int\n",
        "        assert  discriminator_rounds >= 1\n",
        "        assert  loss_function in [\"GAN\", \"WGAN\"]\n",
        "\n",
        "        # Training parameters\n",
        "        self.rounds     = rounds\n",
        "        self.batch_size = batch_size\n",
        "        self.dis_rounds = discriminator_rounds\n",
        "        self.loss       = loss_function\n",
        "\n",
        "        # Dataloader\n",
        "        self.data_loader = torch.utils.data.DataLoader(self.dataset,\n",
        "                                batch_size = self.batch_size, \n",
        "                                drop_last = True,\n",
        "                                shuffle = True)\n",
        "        self._data_list  = list(self.data_loader)\n",
        "        self._batch_num  = 0\n",
        "\n",
        "        # Logs\n",
        "        self.log = Log()\n",
        "        self.log.losses       = np.zeros((5, self.rounds))\n",
        "        self.log.probs        = np.zeros((2, self.rounds))\n",
        "        self.log.gen_goodness = np.zeros((self.rounds,))\n",
        "        self.log._dis_losses  = torch.zeros((4, self.dis_rounds))\n",
        "        self.log._probs       = torch.zeros((2, self.dis_rounds))\n",
        "        \n",
        "\n",
        "\n",
        "    def train (self) :\n",
        "        assert  hasattr(self, \"data_loader\")  # If test fails, you haven't run set_params()\n",
        "\n",
        "        print(f\"Training\")\n",
        "        for round in range(self.rounds) :\n",
        "            print(f\"round {round+1} of {self.rounds}\", end = \" \")\n",
        "            for dis_round in range(self.dis_rounds) :\n",
        "                # Forward propagation\n",
        "                batch_real = self._get_batch()\n",
        "                batch_gen  = self.gen.forward(batch_size = self.batch_size)\n",
        "                dis_real = self.dis.forward(batch_real)\n",
        "                dis_gen  = self.dis.forward(batch_gen)\n",
        "                self.prob_real = torch.sigmoid(dis_real)\n",
        "                self.prob_gen  = torch.sigmoid(dis_gen)\n",
        "\n",
        "                # Calculating the Discriminator loss function\n",
        "                if self.loss == \"GAN\" :\n",
        "                    self.loss_real = - torch.mean(torch.log(self.prob_real))\n",
        "                    self.loss_gen  = torch.mean(torch.log(1 - self.prob_gen))\n",
        "                    self.loss_reg  = torch.tensor(0.)\n",
        "                elif self.loss == \"WGAN\" :\n",
        "                    var_gen   = torch.var(dis_gen)\n",
        "                    var_real  = torch.var(dis_real)\n",
        "                    self.loss_reg  = torch.where(var_gen > 1, \n",
        "                                                 (var_gen - 1)**2, 0) \\\n",
        "                                     + torch.where(var_real > 1, \n",
        "                                                   (var_real - 1)**2, 0)\n",
        "                    self.loss_real = - torch.mean(dis_real)\n",
        "                    self.loss_gen  = torch.mean(dis_gen)\n",
        "\n",
        "                self.loss_dis = self.loss_real + self.loss_gen + self.loss_reg\n",
        "                self._log_all(round, k = dis_round)\n",
        "                \n",
        "                # Discriminator update\n",
        "                self.optimizer_dis.zero_grad()\n",
        "                self.loss_dis.backward(retain_graph = True)\n",
        "                self.optimizer_dis.step()\n",
        "\n",
        "                print(\".\", end = \"\")\n",
        "\n",
        "            # Calculating the Generator loss function\n",
        "            batch_gen = self.gen.forward(batch_size = self.batch_size)\n",
        "            dis_new   = self.dis.forward(batch_gen)\n",
        "            \n",
        "            if self.loss == \"GAN\" :\n",
        "                prob_new = torch.sigmoid(dis_new)\n",
        "                self.loss_gen = -torch.mean(torch.log(prob_new)) \n",
        "            elif self.loss == \"WGAN\" :\n",
        "                self.loss_gen = -torch.mean(dis_new)\n",
        "            self._log_all(round)\n",
        "            \n",
        "            # Generator update\n",
        "            self.optimizer_gen.zero_grad()\n",
        "            self.loss_gen.backward()\n",
        "            self.optimizer_gen.step()\n",
        "\n",
        "            print(\"\\r\", end=\"\")\n",
        "            #print(f\"round {round} of {self.rounds}\", end = \"\")\n",
        "            #print(\"                               \", end = \"\\r\")\n",
        "        print(\"\\ncomplete\")\n",
        "\n",
        "\n",
        "    def _get_batch (self) :\n",
        "        \"\"\"\n",
        "            samples one batch of data from self.data_loader without replacement.\n",
        "            When the self.data_set is depleted of fresh batches, \n",
        "            self.data_loader will shuffle a list of new batches.\n",
        "        \"\"\"\n",
        "        if self._batch_num >= len(self._data_list) :\n",
        "            self._data_list = list(self.data_loader)\n",
        "            self._batch_num = 0\n",
        "        batch = self._data_list[self._batch_num][0]\n",
        "        self._batch_num += 1\n",
        "        print(\"b\", end=\"\")\n",
        "        return batch   \n",
        "\n",
        "\n",
        "    def _log_all (self, round, k = -1) :\n",
        "        if k >= 0 : # before each Discriminator update\n",
        "            self.log._dis_losses[0, k] = self.loss_dis\n",
        "            self.log._dis_losses[1, k] = self.loss_real\n",
        "            self.log._dis_losses[2, k] = self.loss_gen\n",
        "            self.log._dis_losses[3, k] = self.loss_reg\n",
        "            self.log._probs[0, k] = self.prob_real.mean()\n",
        "            self.log._probs[1, k] = self.prob_gen.mean()\n",
        "        \n",
        "        if k == -1 : # before each Generator update\n",
        "            # Losses\n",
        "            dis_losses = self.log._dis_losses.detach().numpy()\n",
        "            self.log.losses[0:4, round] = dis_losses.mean(axis = 1)\n",
        "            self.log.losses[4, round]   = self.loss_gen.detach().numpy()\n",
        "            \n",
        "            # Discriminator Probabilities\n",
        "            probs                    = self.log._probs.detach().numpy()\n",
        "            self.log.probs[:, round] = probs.mean(axis = 1)\n",
        "\n",
        "            # Generator Goodness\n",
        "            batch_real = self._get_batch()\n",
        "            batch_gen  = self.gen.forward(batch_size = self.batch_size)\n",
        "            goodness   = generator_goodness(batch_gen, batch_real)\n",
        "            self.log.gen_goodness[round] = goodness\n",
        "\n",
        "\n",
        "\n",
        "    def plot (self) :\n",
        "        rounds = np.arange(self.rounds) + 1\n",
        "        plt.suptitle(\"Training results\")\n",
        "        plt.title(\"Loss Terms\")\n",
        "        plt.plot(rounds, self.log.losses.T)\n",
        "        plt.xlabel(\"round\")\n",
        "        plt.ylim(-3, 3)\n",
        "        plt.legend([\"Discriminator Loss\", \"Dis. Real Term\", \"Dis. Gen Term\", \"Dis. Reg Term\", \"Generator Loss\"])\n",
        "        plt.show()\n",
        "\n",
        "        plt.title(\"Batch-averaged Discriminator Probabilities during Training\")\n",
        "        plt.plot(rounds, self.log.probs.T)\n",
        "        plt.xlabel(\"epoch\")\n",
        "        plt.ylim(0,1)\n",
        "        plt.legend([\"real data\", \"generated data\"])\n",
        "        plt.show()\n",
        "\n",
        "        plt.title(\"Generator Goodness during Training\")\n",
        "        plt.plot(rounds, self.log.gen_goodness)\n",
        "        plt.xlabel(\"epoch\")\n",
        "        plt.ylim(0,1)\n",
        "        plt.legend([\"Averaged real-generated difference\"])\n",
        "        plt.show()\n",
        "\n",
        "\n",
        "\n",
        "    def save (self, name) :\n",
        "        file_name = self.training_filepath + name + \".obj\"\n",
        "        file      = open(file_name, \"wb\")\n",
        "        pickle.dump(self, file)\n",
        "        print(f\"Saved training under '{file_name}'\")\n",
        "\n",
        "\n",
        "    def load (self, name) :\n",
        "        file_name = self.training_filepath + name + \".obj\"\n",
        "        file      = open(file_name, \"rb\")\n",
        "        return pickle.load(file)\n",
        "\n",
        "\n",
        "# Sources:\n",
        "# [1] https://github.com/salu133445/ismir2019tutorial/blob/main/gan.ipynb"
      ]
    },
    {
      "cell_type": "markdown",
      "metadata": {},
      "source": [
        "## Network training and evaluation"
      ]
    },
    {
      "cell_type": "markdown",
      "metadata": {},
      "source": [
        "### Setup"
      ]
    },
    {
      "cell_type": "markdown",
      "metadata": {},
      "source": [
        "#### minimock"
      ]
    },
    {
      "cell_type": "code",
      "execution_count": 65,
      "metadata": {},
      "outputs": [
        {
          "data": {
            "image/png": "[encoded data removed]",
            "text/plain": [
              "<Figure size 432x288 with 1 Axes>"
            ]
          },
          "metadata": {
            "needs_background": "light"
          },
          "output_type": "display_data"
        }
      ],
      "source": [
        "minimock = CentralDotImage(4, 4, dataset_size=100)\n",
        "minimock.show()"
      ]
    },
    {
      "cell_type": "code",
      "execution_count": 81,
      "metadata": {},
      "outputs": [
        {
          "name": "stdout",
          "output_type": "stream",
          "text": [
            "miniGenerator:\n",
            "    input length:  4\n",
            "    output length: 16\n",
            "    layers:        4\n",
            "    parameters:    100\n",
            "\n"
          ]
        }
      ],
      "source": [
        "miniGen = Generator(4, minimock.size, \"miniGenerator\")\n",
        "\n",
        "miniGen.create_model([\n",
        "    torch.nn.Linear(miniGen.I, miniGen.I),\n",
        "    torch.nn.ReLU(),\n",
        "    torch.nn.Linear(miniGen.I, miniGen.O),\n",
        "    StraightThroughEstimator()\n",
        "])\n",
        "\n",
        "miniGen.print_stats()"
      ]
    },
    {
      "cell_type": "code",
      "execution_count": 82,
      "metadata": {},
      "outputs": [
        {
          "name": "stdout",
          "output_type": "stream",
          "text": [
            "miniDiscriminator:\n",
            "    input length:  16\n",
            "    output length: 1\n",
            "    layers:        3\n",
            "    parameters:    73\n",
            "\n"
          ]
        }
      ],
      "source": [
        "miniDis = Discriminator(minimock.size, 1, \"miniDiscriminator\")\n",
        "\n",
        "miniDis.create_model([\n",
        "    torch.nn.Linear(miniDis.I,4),\n",
        "    torch.nn.ReLU(),\n",
        "    torch.nn.Linear(4, miniDis.O)\n",
        "])\n",
        "\n",
        "miniDis.print_stats()"
      ]
    },
    {
      "cell_type": "code",
      "execution_count": 68,
      "metadata": {},
      "outputs": [
        {
          "name": "stdout",
          "output_type": "stream",
          "text": [
            "Prob. that image is real: 40%\n"
          ]
        },
        {
          "data": {
            "image/png": "[encoded data removed]",
            "text/plain": [
              "<Figure size 432x288 with 1 Axes>"
            ]
          },
          "metadata": {
            "needs_background": "light"
          },
          "output_type": "display_data"
        }
      ],
      "source": [
        "gen_flat = miniGen.forward(numpy_out = True)\n",
        "prob     = miniDis.forward(gen_flat, prob_out = True, numpy_out = True)[0]\n",
        "\n",
        "print(f\"Prob. that image is real: {prob*100:.0f}%\")\n",
        "gen_img = gen_flat.reshape(*minimock.shape)\n",
        "plt.imshow(gen_img);"
      ]
    },
    {
      "cell_type": "markdown",
      "metadata": {},
      "source": [
        "#### mock"
      ]
    },
    {
      "cell_type": "code",
      "execution_count": 39,
      "metadata": {},
      "outputs": [
        {
          "data": {
            "image/png": "[encoded data removed]",
            "text/plain": [
              "<Figure size 432x288 with 1 Axes>"
            ]
          },
          "metadata": {
            "needs_background": "light"
          },
          "output_type": "display_data"
        }
      ],
      "source": [
        "mock = CentralDotImage(72, 96, dataset_size = 120)\n",
        "mock.show()"
      ]
    },
    {
      "cell_type": "code",
      "execution_count": 43,
      "metadata": {},
      "outputs": [
        {
          "name": "stdout",
          "output_type": "stream",
          "text": [
            "Mock Generator:\n",
            "    input length:  16\n",
            "    output length: 6912\n",
            "    layers:        5\n",
            "    parameters:    1780736\n",
            "\n"
          ]
        }
      ],
      "source": [
        "mockGen = Generator(16, mock.size, \"Mock Generator\")\n",
        "mockGen.create_model([\n",
        "    torch.nn.Linear(mockGen.I, mockGen.I * 16),\n",
        "    torch.nn.SiLU(),\n",
        "    torch.nn.Linear(mockGen.I * 16, mockGen.O),\n",
        "    torch.nn.Tanh(),\n",
        "    StraightThroughEstimator(),\n",
        "])\n",
        "mockGen.print_stats()"
      ]
    },
    {
      "cell_type": "code",
      "execution_count": 44,
      "metadata": {},
      "outputs": [
        {
          "name": "stdout",
          "output_type": "stream",
          "text": [
            "Mock Discriminator:\n",
            "    input length:  6912\n",
            "    output length: 1\n",
            "    layers:        4\n",
            "    parameters:    228112\n",
            "\n"
          ]
        }
      ],
      "source": [
        "mockDis = Discriminator(mock.size, 1, \"Mock Discriminator\")\n",
        "mockDis.create_model([\n",
        "    torch.nn.Threshold(0, -1),   # makes {0, 1} input to {-1, 1}\n",
        "    torch.nn.Linear(mockDis.I, 16),\n",
        "    torch.nn.SiLU(),\n",
        "    torch.nn.Linear(16, mockGen.O),\n",
        "])\n",
        "mockDis.print_stats()"
      ]
    },
    {
      "cell_type": "markdown",
      "metadata": {},
      "source": [
        "### Tests"
      ]
    },
    {
      "cell_type": "code",
      "execution_count": 83,
      "metadata": {},
      "outputs": [
        {
          "name": "stdout",
          "output_type": "stream",
          "text": [
            "Training\n",
            "round 100 of 100 b.b.b.b.bb.b.b.b.b.b.b.b.b.b.b\n",
            "complete\n"
          ]
        },
        {
          "data": {
            "image/png": "[encoded data removed]",
            "text/plain": [
              "<Figure size 432x288 with 1 Axes>"
            ]
          },
          "metadata": {
            "needs_background": "light"
          },
          "output_type": "display_data"
        },
        {
          "data": {
            "image/png": "[encoded data removed]",
            "text/plain": [
              "<Figure size 432x288 with 1 Axes>"
            ]
          },
          "metadata": {
            "needs_background": "light"
          },
          "output_type": "display_data"
        },
        {
          "data": {
            "image/png": "[encoded data removed]",
            "text/plain": [
              "<Figure size 432x288 with 1 Axes>"
            ]
          },
          "metadata": {
            "needs_background": "light"
          },
          "output_type": "display_data"
        }
      ],
      "source": [
        "miniTrain = GANTraining(miniGen, miniDis, minimock.dataset)\n",
        "miniTrain.setup(100, batch_size = 33, discriminator_rounds = 4, loss_function = \"GAN\")\n",
        "miniTrain.train()\n",
        "miniTrain.plot()"
      ]
    },
    {
      "cell_type": "code",
      "execution_count": 80,
      "metadata": {},
      "outputs": [
        {
          "data": {
            "text/plain": [
              "array([[0.99613357, 0.99636209, 0.99657905, 0.99678397, 0.99697769,\n",
              "        0.99716067, 0.99733412, 0.99749786, 0.99765247, 0.9977985 ,\n",
              "        0.99793601, 0.99806523, 0.99818754, 0.9983027 , 0.9984104 ,\n",
              "        0.99851221, 0.99860787, 0.99869776, 0.99878258, 0.99886203,\n",
              "        0.9989363 , 0.99900621,        nan,        nan,        nan,\n",
              "               nan,        nan,        nan,        nan,        nan,\n",
              "               nan,        nan,        nan,        nan,        nan,\n",
              "               nan,        nan,        nan,        nan,        nan,\n",
              "               nan,        nan,        nan,        nan,        nan,\n",
              "               nan,        nan,        nan,        nan,        nan,\n",
              "               nan,        nan,        nan,        nan,        nan,\n",
              "               nan,        nan,        nan,        nan,        nan,\n",
              "               nan,        nan,        nan,        nan,        nan,\n",
              "               nan,        nan,        nan,        nan,        nan,\n",
              "               nan,        nan,        nan,        nan,        nan,\n",
              "               nan,        nan,        nan,        nan,        nan,\n",
              "               nan,        nan,        nan,        nan,        nan,\n",
              "               nan,        nan,        nan,        nan,        nan,\n",
              "               nan,        nan,        nan,        nan,        nan,\n",
              "               nan,        nan,        nan,        nan,        nan],\n",
              "       [0.99999309, 0.99999529, 0.99999565, 0.99999583, 0.99999559,\n",
              "        0.99999696, 0.99999744, 0.99999762, 0.99999821, 0.99999815,\n",
              "        0.99999809, 0.99999887, 0.99999899, 0.99999893, 0.99999917,\n",
              "        0.99999917, 0.99999934, 0.9999994 , 0.99999952, 0.99999952,\n",
              "        0.99999958, 0.99999964,        nan,        nan,        nan,\n",
              "               nan,        nan,        nan,        nan,        nan,\n",
              "               nan,        nan,        nan,        nan,        nan,\n",
              "               nan,        nan,        nan,        nan,        nan,\n",
              "               nan,        nan,        nan,        nan,        nan,\n",
              "               nan,        nan,        nan,        nan,        nan,\n",
              "               nan,        nan,        nan,        nan,        nan,\n",
              "               nan,        nan,        nan,        nan,        nan,\n",
              "               nan,        nan,        nan,        nan,        nan,\n",
              "               nan,        nan,        nan,        nan,        nan,\n",
              "               nan,        nan,        nan,        nan,        nan,\n",
              "               nan,        nan,        nan,        nan,        nan,\n",
              "               nan,        nan,        nan,        nan,        nan,\n",
              "               nan,        nan,        nan,        nan,        nan,\n",
              "               nan,        nan,        nan,        nan,        nan,\n",
              "               nan,        nan,        nan,        nan,        nan]])"
            ]
          },
          "execution_count": 80,
          "metadata": {},
          "output_type": "execute_result"
        }
      ],
      "source": [
        "miniTrain.log.probs"
      ]
    },
    {
      "cell_type": "code",
      "execution_count": 56,
      "metadata": {},
      "outputs": [
        {
          "name": "stdout",
          "output_type": "stream",
          "text": [
            "Training\n",
            "round 100 of 100 .....................\n",
            "complete\n"
          ]
        },
        {
          "data": {
            "image/png": "[encoded data removed]",
            "text/plain": [
              "<Figure size 432x288 with 1 Axes>"
            ]
          },
          "metadata": {
            "needs_background": "light"
          },
          "output_type": "display_data"
        },
        {
          "data": {
            "image/png": "[encoded data removed]",
            "text/plain": [
              "<Figure size 432x288 with 1 Axes>"
            ]
          },
          "metadata": {
            "needs_background": "light"
          },
          "output_type": "display_data"
        },
        {
          "data": {
            "image/png": "[encoded data removed]",
            "text/plain": [
              "<Figure size 432x288 with 1 Axes>"
            ]
          },
          "metadata": {
            "needs_background": "light"
          },
          "output_type": "display_data"
        }
      ],
      "source": [
        "mockTrain = GANTraining(mockGen, mockDis, mock.dataset)\n",
        "mockTrain.setup(100, batch_size=30, discriminator_rounds=2, loss_function=\"WGAN\")\n",
        "mockTrain.train()\n",
        "mockTrain.plot()\n"
      ]
    },
    {
      "cell_type": "code",
      "execution_count": null,
      "metadata": {},
      "outputs": [],
      "source": []
    }
  ],
  "metadata": {
    "colab": {
      "collapsed_sections": [],
      "include_colab_link": true,
      "name": "first-music-GAN.ipynb",
      "provenance": []
    },
    "kernelspec": {
      "display_name": "Python 3.10.4 ('aml')",
      "language": "python",
      "name": "python3"
    },
    "language_info": {
      "codemirror_mode": {
        "name": "ipython",
        "version": 3
      },
      "file_extension": ".py",
      "mimetype": "text/x-python",
      "name": "python",
      "nbconvert_exporter": "python",
      "pygments_lexer": "ipython3",
      "version": "3.10.4"
    },
    "vscode": {
      "interpreter": {
        "hash": "e9db57278ae8397bc5fe3bec6b9ba53c33a2aa76e79d386f678fc754e34f9547"
      }
    }
  },
  "nbformat": 4,
  "nbformat_minor": 0
}
