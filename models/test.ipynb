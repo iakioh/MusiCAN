{
 "cells": [
  {
   "cell_type": "code",
   "execution_count": 1,
   "metadata": {},
   "outputs": [],
   "source": [
    "import torch\n",
    "import math\n",
    "import matplotlib.pyplot as plt"
   ]
  },
  {
   "cell_type": "code",
   "execution_count": 2,
   "metadata": {},
   "outputs": [],
   "source": [
    "class CentralDotImage :\n",
    "    \"\"\"\n",
    "        creates mock data set out of a simple image copied multiple times\n",
    "\n",
    "        Attributes\n",
    "        ----------\n",
    "        height : int\n",
    "            of image, in pixels\n",
    "        width : int\n",
    "            of image, in pixels\n",
    "        size : int\n",
    "            number of pixels in image\n",
    "        dataset_size : int\n",
    "            number of images\n",
    "        \n",
    "        image : torch.Tensor\n",
    "            out of 1s and 0s,\n",
    "            size = (width, height)\n",
    "        vector : torch.Tensor\n",
    "            flattened image,\n",
    "            size = (size)\n",
    "        data : torch.Tensor\n",
    "            images copied dataset_size times\n",
    "            size = (dataset_size, size)\n",
    "        dataset : torch.TensorDataset\n",
    "\n",
    "\n",
    "        Methods\n",
    "        -------\n",
    "        __init__() : creates all attributes\n",
    "        show() : plt.plots image\n",
    "    \"\"\"\n",
    "\n",
    "    def __init__ (self, height, width, dataset_size = 100) :\n",
    "        # Input checks\n",
    "        assert  type(height) == int and type(width) == int\n",
    "        assert  height >= 1 and width >= 1\n",
    "        assert  type(dataset_size) == int\n",
    "        assert  dataset_size >= 1\n",
    "\n",
    "        self.height = height\n",
    "        self.width  = width\n",
    "        self.size   = height * width\n",
    "        self.dataset_size = dataset_size\n",
    "\n",
    "        # Image creation\n",
    "        self.image = torch.zeros(height, width)\n",
    "        for i in range(height) :\n",
    "            for j in range(width) :\n",
    "                self.image[i, j] = \\\n",
    "                    i + 1 <= math.ceil(3/4 * height) and \\\n",
    "                    i + 1 > math.floor(1/4 * height) and \\\n",
    "                    j + 1 <= math.ceil(3/4 * width) and \\\n",
    "                    j + 1 > math.floor(1/4 * width)\n",
    "\n",
    "        # Dataset creation\n",
    "        self.vector  = self.image.flatten()\n",
    "        self.data    = self.vector[None, :].expand(dataset_size, self.size)\n",
    "        self.dataset = torch.utils.data.TensorDataset(self.data)\n",
    "\n",
    "    def show (self) :\n",
    "        plt.imshow(self.image)\n",
    "        plt.show()"
   ]
  },
  {
   "cell_type": "code",
   "execution_count": 51,
   "metadata": {},
   "outputs": [],
   "source": [
    "mock = CentralDotImage(72, 96)\n",
    "minimock = CentralDotImage(4, 4)"
   ]
  },
  {
   "cell_type": "code",
   "execution_count": 52,
   "metadata": {},
   "outputs": [
    {
     "data": {
      "image/png": "[encoded data removed]",
      "text/plain": [
       "<Figure size 432x288 with 1 Axes>"
      ]
     },
     "metadata": {
      "needs_background": "light"
     },
     "output_type": "display_data"
    }
   ],
   "source": [
    "mock.show()"
   ]
  },
  {
   "cell_type": "code",
   "execution_count": 53,
   "metadata": {},
   "outputs": [
    {
     "data": {
      "image/png": "[encoded data removed]",
      "text/plain": [
       "<Figure size 432x288 with 1 Axes>"
      ]
     },
     "metadata": {
      "needs_background": "light"
     },
     "output_type": "display_data"
    }
   ],
   "source": [
    "minimock.show()"
   ]
  },
  {
   "cell_type": "code",
   "execution_count": null,
   "metadata": {},
   "outputs": [],
   "source": []
  }
 ],
 "metadata": {
  "kernelspec": {
   "display_name": "Python 3.10.4 ('aml')",
   "language": "python",
   "name": "python3"
  },
  "language_info": {
   "codemirror_mode": {
    "name": "ipython",
    "version": 3
   },
   "file_extension": ".py",
   "mimetype": "text/x-python",
   "name": "python",
   "nbconvert_exporter": "python",
   "pygments_lexer": "ipython3",
   "version": "3.10.4"
  },
  "orig_nbformat": 4,
  "vscode": {
   "interpreter": {
    "hash": "e9db57278ae8397bc5fe3bec6b9ba53c33a2aa76e79d386f678fc754e34f9547"
   }
  }
 },
 "nbformat": 4,
 "nbformat_minor": 2
}
