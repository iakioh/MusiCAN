{
  "cells": [
    {
      "cell_type": "markdown",
      "metadata": {
        "colab_type": "text",
        "id": "view-in-github"
      },
      "source": [
        "<a href=\"https://colab.research.google.com/github/iakioh/MusiCAN/blob/main/models/first_music_GAN.ipynb\" target=\"_parent\"><img src=\"https://colab.research.google.com/assets/colab-badge.svg\" alt=\"Open In Colab\"/></a>"
      ]
    },
    {
      "cell_type": "markdown",
      "metadata": {},
      "source": [
        "# miniGAN\n",
        "miniature GAN architecte with a mini mock dataset"
      ]
    },
    {
      "cell_type": "code",
      "execution_count": 1,
      "metadata": {
        "id": "3Zy36G-CGamF"
      },
      "outputs": [],
      "source": [
        "import numpy as np\n",
        "import matplotlib.pyplot as plt\n",
        "import torch\n",
        "import pickle"
      ]
    },
    {
      "cell_type": "markdown",
      "metadata": {
        "id": "tQlEdgCZNN5r"
      },
      "source": [
        "### Global parameters"
      ]
    },
    {
      "cell_type": "code",
      "execution_count": 2,
      "metadata": {},
      "outputs": [
        {
          "name": "stdout",
          "output_type": "stream",
          "text": [
            "16\n"
          ]
        }
      ],
      "source": [
        "# Data\n",
        "number_pitches = 4\n",
        "number_blips = 4\n",
        "pianoroll_size = number_pitches * number_blips \n",
        "print(pianoroll_size)\n",
        "\n",
        "# Architecture\n",
        "seed_length = 4\n",
        "\n",
        "# Storage\n",
        "training_filepath = \"../execution/trained_models/\""
      ]
    },
    {
      "cell_type": "markdown",
      "metadata": {
        "id": "9CICICfaf4aQ"
      },
      "source": [
        "### mini mock data"
      ]
    },
    {
      "cell_type": "code",
      "execution_count": 3,
      "metadata": {},
      "outputs": [
        {
          "data": {
            "text/plain": [
              "torch.Size([100, 16])"
            ]
          },
          "execution_count": 3,
          "metadata": {},
          "output_type": "execute_result"
        },
        {
          "data": {
            "image/png": "[encoded data removed]",
            "text/plain": [
              "<Figure size 432x288 with 1 Axes>"
            ]
          },
          "metadata": {
            "needs_background": "light"
          },
          "output_type": "display_data"
        }
      ],
      "source": [
        "minimock = torch.tensor([[0, 0, 0, 0], \n",
        "                          [0, 1, 1, 0], \n",
        "                          [0, 1, 1, 0], \n",
        "                          [0, 0, 0, 0]], dtype = torch.float)\n",
        "\n",
        "plt.title(\"minimock\")\n",
        "plt.imshow(minimock);\n",
        "\n",
        "# make a dataset by stacking the same image a number of times\n",
        "number_images     = 100\n",
        "minimock_vector   = minimock.flatten()\n",
        "minimock_data     = minimock_vector[None, :].expand(number_images, \n",
        "                                                    *minimock_vector.size())\n",
        "minimock_dataset = torch.utils.data.TensorDataset(minimock_data)\n",
        "minimock_data.size()"
      ]
    },
    {
      "cell_type": "markdown",
      "metadata": {
        "id": "McA_GGP2NmyE"
      },
      "source": [
        "## Model"
      ]
    },
    {
      "cell_type": "markdown",
      "metadata": {
        "id": "Y6XCJUZjJbd_"
      },
      "source": [
        "### Support classes"
      ]
    },
    {
      "cell_type": "code",
      "execution_count": 4,
      "metadata": {
        "id": "bh0ONqzxad76"
      },
      "outputs": [],
      "source": [
        "# code from https://www.hassanaskary.com/python/pytorch/deep%20learning/2020/09/19/intuitive-explanation-of-straight-through-estimators.html#:~:text=A%20straight%2Dthrough%20estimator%20is,function%20was%20an%20identity%20function.\n",
        "\n",
        "class STEFunction(torch.autograd.Function):\n",
        "    @staticmethod\n",
        "    def forward(ctx, input):\n",
        "        return (input > 0).float()\n",
        "\n",
        "    @staticmethod\n",
        "    def backward(ctx, grad_output):\n",
        "        return torch.nn.functional.hardtanh(grad_output)\n",
        "\n",
        "class StraightThroughEstimator(torch.nn.Module):\n",
        "    def __init__(self):\n",
        "        super(StraightThroughEstimator, self).__init__()\n",
        "\n",
        "    def forward(self, x):\n",
        "        x = STEFunction.apply(x)\n",
        "        return x"
      ]
    },
    {
      "cell_type": "markdown",
      "metadata": {},
      "source": [
        "#### miniGAN"
      ]
    },
    {
      "cell_type": "code",
      "execution_count": 5,
      "metadata": {},
      "outputs": [],
      "source": [
        "class Generator (torch.nn.Module) :\n",
        "    \"\"\"\n",
        "    test GAN generator, MLP, one layer.\n",
        "\n",
        "    input : normally distributed random vector of length I, seed vector\n",
        "    output: binary vector of length O, pianoroll\n",
        "    \"\"\"\n",
        "\n",
        "\n",
        "    def __init__ (self, log = False, **kwargs) : \n",
        "        super().__init__(**kwargs)\n",
        "        \n",
        "        I = 4   # length of input vector\n",
        "        O = 16    # length of output vector\n",
        "        \n",
        "        self.generator = torch.nn.Sequential(\n",
        "            torch.nn.Linear(I, I),\n",
        "            torch.nn.ReLU(),\n",
        "            torch.nn.Linear(I, O),\n",
        "            StraightThroughEstimator()\n",
        "        )\n",
        "\n",
        "        if log :\n",
        "            print(f\"Generator:\")\n",
        "            print(f\"    I: {I}, O: {O}\")\n",
        "            print(f\"    layers: 2\")\n",
        "            print(f\"    parameters: {self.count_params()}\")\n",
        "            print(\"\")\n",
        "\n",
        "\n",
        "\n",
        "    def count_params (self) :\n",
        "        \"\"\"count number of trainable parameters\"\"\"\n",
        "\n",
        "        return sum(p.numel() for p in self.parameters() if p.requires_grad)\n",
        "\n",
        "\n",
        "\n",
        "    def forward (self, seed) :\n",
        "        pianoroll = self.generator(seed)\n",
        "\n",
        "        return pianoroll"
      ]
    },
    {
      "cell_type": "code",
      "execution_count": 6,
      "metadata": {},
      "outputs": [],
      "source": [
        "class Discriminator (torch.nn.Module) :\n",
        "    \"\"\"\n",
        "    first GAN discriminator, basically Generator in reverse but \n",
        "    \n",
        "    input : binary vector of length I, pianoroll\n",
        "    output: single number, prob. that the input is a real and not \n",
        "            generated pianoroll\n",
        "    \"\"\"\n",
        "\n",
        "\n",
        "    def __init__ (self, log = False, **kwargs) :\n",
        "        super().__init__(**kwargs)\n",
        "\n",
        "        I = 16   # length of input vector\n",
        "        O = 1   # length of output vector\n",
        "        \n",
        "        self.discriminator = torch.nn.Sequential(\n",
        "            torch.nn.Linear(I,4),\n",
        "            torch.nn.ReLU(),\n",
        "            torch.nn.Linear(4, O),\n",
        "            #torch.nn.Sigmoid()\n",
        "        )\n",
        "\n",
        "        if log :\n",
        "            print(f\"Discriminator:\")\n",
        "            print(f\"    I: {I}, O: {O}\")\n",
        "            print(f\"    layers: 2\")\n",
        "            print(f\"    parameters: {self.count_params()}\")\n",
        "            print(\"\")\n",
        "\n",
        "\n",
        "\n",
        "    def count_params (self) :\n",
        "        \"\"\"count number of trainable parameters\"\"\"\n",
        "\n",
        "        return sum(p.numel() for p in self.parameters() if p.requires_grad)\n",
        "\n",
        "\n",
        "    def forward (self, pianoroll):\n",
        "        judgement = self.discriminator(pianoroll)\n",
        "        return judgement"
      ]
    },
    {
      "cell_type": "markdown",
      "metadata": {
        "id": "Diasgq46zWGw"
      },
      "source": [
        "#### Architecture Tests"
      ]
    },
    {
      "cell_type": "code",
      "execution_count": 7,
      "metadata": {
        "colab": {
          "base_uri": "https://localhost:8080/",
          "height": 355
        },
        "id": "nf3hfw7g15El",
        "outputId": "039cca93-4d71-4ea6-bfdc-62c4494b8870"
      },
      "outputs": [
        {
          "name": "stdout",
          "output_type": "stream",
          "text": [
            "Generator:\n",
            "    I: 4, O: 16\n",
            "    layers: 2\n",
            "    parameters: 100\n",
            "\n"
          ]
        },
        {
          "data": {
            "image/png": "[encoded data removed]",
            "text/plain": [
              "<Figure size 432x288 with 1 Axes>"
            ]
          },
          "metadata": {
            "needs_background": "light"
          },
          "output_type": "display_data"
        }
      ],
      "source": [
        "gen = Generator(log=True)\n",
        "gen_out = gen.forward(torch.rand((5, seed_length)))\n",
        "pr = gen_out.cpu().detach().numpy()\n",
        "pr = pr.reshape((5, number_pitches, number_blips))\n",
        "\n",
        "plt.imshow(pr[0]);"
      ]
    },
    {
      "cell_type": "code",
      "execution_count": 8,
      "metadata": {
        "colab": {
          "base_uri": "https://localhost:8080/"
        },
        "id": "Xa2GX3mL6h3_",
        "outputId": "ae890b33-5fc4-4593-9e37-2f44fbed3f8c"
      },
      "outputs": [
        {
          "name": "stdout",
          "output_type": "stream",
          "text": [
            "Discriminator:\n",
            "    I: 16, O: 1\n",
            "    layers: 2\n",
            "    parameters: 73\n",
            "\n",
            "Prob. that image is real: 62%\n"
          ]
        }
      ],
      "source": [
        "dis = Discriminator(log=True)\n",
        "\n",
        "dis_out = dis.forward(gen_out)\n",
        "judge = torch.sigmoid(dis_out).cpu().detach().numpy().flatten()\n",
        "\n",
        "print(f\"Prob. that image is real: {judge[0]*100:.0f}%\")\n"
      ]
    },
    {
      "cell_type": "markdown",
      "metadata": {},
      "source": [
        "## Training classes"
      ]
    },
    {
      "cell_type": "markdown",
      "metadata": {
        "id": "dYInbQ3O8ErC"
      },
      "source": [
        "### Training support functions"
      ]
    },
    {
      "cell_type": "code",
      "execution_count": 12,
      "metadata": {
        "id": "obfrhij0qY13"
      },
      "outputs": [],
      "source": [
        "def quick_test(GEN, DIS, data): \n",
        "    \n",
        "    # Test on generated data\n",
        "    \n",
        "    ## Generator\n",
        "    test_seeds = torch.normal(0, 1, (5, seed_length))\n",
        "    examples = GEN.forward(test_seeds)\n",
        "    gen_img = examples[0].reshape(number_pitches, number_blips)\n",
        "    gen_img = gen_img.detach().numpy()\n",
        "\n",
        "    ## Discriminator\n",
        "    gen_judgements = DIS.forward(examples)\n",
        "    gen_judgement = torch.sigmoid(gen_judgements[0][0]).detach().numpy()\n",
        "\n",
        "    # Results\n",
        "    plt.title(\"Generator output x\")\n",
        "    plt.imshow(gen_img);\n",
        "    print(f\"Discriminator p(x_gen = real): {gen_judgement*100:.0f}%\")\n",
        "\n",
        "    # Test on real data\n",
        "    real_judgement = torch.sigmoid(DIS.forward(data))[0][0].detach().numpy()\n",
        "    print(f\"Discriminator p(x_real = real) = {real_judgement*100:.0f}%\")\n"
      ]
    },
    {
      "cell_type": "code",
      "execution_count": 13,
      "metadata": {
        "id": "yFLfbcbmg0qY"
      },
      "outputs": [],
      "source": [
        "def generator_goodness(generated_batch, real_batch):\n",
        "    \"\"\" compare two batches of data by calculating the absolute mean difference\"\"\"\n",
        "    \n",
        "    # averaged over batches \n",
        "    generated_mean = torch.mean(generated_batch)\n",
        "    real_mean = torch.mean(real_batch)\n",
        "\n",
        "    # take differnece & absolut value, average over features lastly\n",
        "    goodness_criteria = torch.mean(torch.abs(real_mean - generated_mean))\n",
        "\n",
        "    return(goodness_criteria.detach().numpy())\n"
      ]
    },
    {
      "cell_type": "markdown",
      "metadata": {
        "id": "I35Kg1NCJd84"
      },
      "source": [
        "### Training Class"
      ]
    },
    {
      "cell_type": "code",
      "execution_count": 14,
      "metadata": {
        "id": "FAZl4_sLQ6Tf"
      },
      "outputs": [],
      "source": [
        "class Training :\n",
        "    def __init__ (self, real_pianorolls, batch_size) :\n",
        "        self.device = 'cuda'  if torch.cuda.is_available() else  'cpu'\n",
        "\n",
        "        # Storing external parameters\n",
        "        self.batch_size  = batch_size\n",
        "        self.seed_length = seed_length\n",
        "        self.pianoroll_size = pianoroll_size\n",
        "        \n",
        "        # Preparing training data\n",
        "        self.training_set = real_pianorolls\n",
        "        self.data_loader  = torch.utils.data.DataLoader(self.training_set,\n",
        "                                batch_size = self.batch_size, \n",
        "                                drop_last = True,\n",
        "                                shuffle = True)\n",
        "\n",
        "        # Initializing GAN\n",
        "        self.gen = Generator().to(self.device)\n",
        "        self.dis = Discriminator().to(self.device)\n",
        "        self.optimizer_gen = torch.optim.Adam(self.gen.parameters(), \n",
        "                                              lr = 0.001,\n",
        "                                              betas = (0.5, 0.9)) \n",
        "            # ADAM parameters from GAN tutorial\n",
        "        self.optimizer_dis = torch.optim.Adam(self.dis.parameters(), \n",
        "                                              lr = 0.001,\n",
        "                                              betas = (0.5, 0.9))\n",
        "\n",
        "\n",
        "\n",
        "    def train (self, epochs, k = 1, loss_func = \"WGAN\") :\n",
        "        # Training parameters\n",
        "        self.k = k\n",
        "        self.loss_function = loss_func\n",
        "\n",
        "        assert  type(epochs) == int\n",
        "        assert  epochs >= 1\n",
        "        assert  type(k) == int\n",
        "        assert  k >= 1\n",
        "        assert  self.loss_function in [\"GAN\", \"WGAN\"]\n",
        "        \n",
        "        # Logging\n",
        "        self.losses       = np.zeros((5, epochs))\n",
        "        self.probs        = np.zeros((2, epochs))\n",
        "        self.gen_goodness = np.zeros(epochs)\n",
        "        \n",
        "\n",
        "        # Main training loop\n",
        "        for epoch in range(epochs) :\n",
        "            loss         = []\n",
        "            probs        = []\n",
        "            gen_goodness = []\n",
        "\n",
        "            for train_batch in self.data_loader :\n",
        "                batch_losses, batch_probs, batch_gen_goodness = \\\n",
        "                    self.training_step(train_batch[0].to(self.device))\n",
        "                loss.append(batch_losses)\n",
        "                probs.append(batch_probs)\n",
        "                gen_goodness.append(batch_gen_goodness)\n",
        "                print(\"#\", end = \"\")\n",
        "            \n",
        "            # Loging\n",
        "            self.losses[:, epoch]    = np.array(loss).mean(axis=0)\n",
        "            self.probs[:, epoch]     = np.array(probs).mean(axis=0)\n",
        "            self.gen_goodness[epoch] = np.array(gen_goodness).mean(axis=0)\n",
        "\n",
        "            print(\" epoch\", epoch, \"complete.\")\n",
        "\n",
        "        # Returning trained GAN\n",
        "        return self.gen, self.dis\n",
        "\n",
        "  \n",
        "\n",
        "    def training_step (self, batch_real) :\n",
        "        dis_losses = torch.zeros(size = (self.k,)).to(self.device)  # logging\n",
        "        for i in range(self.k):\n",
        "            # Forward propagation\n",
        "            seed_vector = torch.normal(0, 1, size = \n",
        "                                       (self.batch_size, self.seed_length)) \\\n",
        "                          .to(self.device)\n",
        "            batch_gen = self.gen.forward(seed_vector)\n",
        "            \n",
        "            judgement_real = self.dis.forward(batch_real)\n",
        "            judgement_gen  = self.dis.forward(batch_gen)\n",
        "\n",
        "\n",
        "            # Calculating the Discriminator loss function\n",
        "            if self.loss_function == \"GAN\" :\n",
        "                prob_real = torch.sigmoid(judgement_real)\n",
        "                prob_gen  = torch.sigmoid(judgement_gen)\n",
        "                loss_term_real = - torch.mean(torch.log(prob_real))\n",
        "                loss_term_gen  = torch.mean(torch.log(1 - prob_gen))\n",
        "                reg_term       = torch.tensor(0.)\n",
        "            elif self.loss_function == \"WGAN\" :\n",
        "                loss_term_real = - torch.mean(judgement_real)\n",
        "                loss_term_gen  = torch.mean(judgement_gen)\n",
        "                var_g    = torch.var(judgement_gen)\n",
        "                var_r    = torch.var(judgement_real)\n",
        "                reg_term = torch.where(var_g > 1, (var_g - 1)**2, 0) \\\n",
        "                           + torch.where(var_r > 1, (var_r - 1)**2, 0)\n",
        "            else :\n",
        "                print(f\"Warning: '{self.loss_function}' as loss function isn't\\\n",
        "                        an option!\")\n",
        "\n",
        "            loss_dis = loss_term_real + loss_term_gen + reg_term\n",
        "            \n",
        "            # Discriminator update\n",
        "            self.optimizer_dis.zero_grad()\n",
        "            loss_dis.backward(retain_graph = True)\n",
        "            self.optimizer_dis.step()\n",
        "            \n",
        "            dis_losses[i] = loss_dis   # logging\n",
        "\n",
        "        loss_dis = torch.mean(dis_losses)  # logging\n",
        "\n",
        "\n",
        "        # Calculating the Generator loss function\n",
        "        judgement_new = self.dis.forward(batch_gen)\n",
        "        \n",
        "        if self.loss_function == \"GAN\" :\n",
        "            prob_new = torch.sigmoid(judgement_new)\n",
        "            loss_gen = -torch.mean(torch.log(prob_new)) \n",
        "        elif self.loss_function == \"WGAN\" :\n",
        "            loss_gen = -torch.mean(judgement_new)\n",
        "        \n",
        "        # Generator update\n",
        "        self.optimizer_gen.zero_grad()\n",
        "        loss_gen.backward()\n",
        "        self.optimizer_gen.step()\n",
        "\n",
        "        # Output Losses\n",
        "        losses_out = [loss_dis.detach().numpy(), \n",
        "                      loss_term_real.detach().numpy(), \n",
        "                      loss_term_gen.detach().numpy(), \n",
        "                      reg_term.detach().numpy(), \n",
        "                      loss_gen.detach().numpy()]\n",
        "\n",
        "        # Output averaged judgement probabilities \n",
        "        D_real = torch.mean(torch.sigmoid(judgement_real))\n",
        "        D_gen  = torch.mean(torch.sigmoid(judgement_gen))\n",
        "        probs_out = [D_real.detach().numpy(), D_gen.detach().numpy()]\n",
        "\n",
        "        # Output generator goodness (already averaged over batch)\n",
        "        gen_goodness = generator_goodness(batch_gen, batch_real)\n",
        "\n",
        "        # Quick Test for debugging \n",
        "        # quick_test(self.gen, self.dis) \n",
        "\n",
        "        return losses_out, probs_out, gen_goodness\n",
        "\n",
        "\n",
        "\n",
        "    def save (self, name) :\n",
        "        file_name = training_filepath + name + \".obj\"\n",
        "        file      = open(file_name, \"wb\")\n",
        "        pickle.dump(self, file)\n",
        "        print(f\"Saved training under '{file_name}'\")\n",
        "\n",
        "\n",
        "    def load (name) :\n",
        "        file_name = training_filepath + name + \".obj\"\n",
        "        file      = open(file_name, \"rb\")\n",
        "        return pickle.load(file)\n"
      ]
    },
    {
      "cell_type": "markdown",
      "metadata": {
        "id": "IH2VkCTl2DJr"
      },
      "source": [
        "## Training the model"
      ]
    },
    {
      "cell_type": "code",
      "execution_count": 15,
      "metadata": {
        "colab": {
          "base_uri": "https://localhost:8080/"
        },
        "id": "3Rx3ZZ9aJgzu",
        "outputId": "2cc0e5cb-09f0-4706-eebf-e8199618af33"
      },
      "outputs": [
        {
          "name": "stdout",
          "output_type": "stream",
          "text": [
            "### epoch 0 complete.\n",
            "### epoch 1 complete.\n",
            "### epoch 2 complete.\n",
            "### epoch 3 complete.\n",
            "### epoch 4 complete.\n",
            "### epoch 5 complete.\n",
            "### epoch 6 complete.\n",
            "### epoch 7 complete.\n",
            "### epoch 8 complete.\n",
            "### epoch 9 complete.\n",
            "### epoch 10 complete.\n",
            "### epoch 11 complete.\n",
            "### epoch 12 complete.\n",
            "### epoch 13 complete.\n",
            "### epoch 14 complete.\n",
            "### epoch 15 complete.\n",
            "### epoch 16 complete.\n",
            "### epoch 17 complete.\n",
            "### epoch 18 complete.\n",
            "### epoch 19 complete.\n",
            "### epoch 20 complete.\n",
            "### epoch 21 complete.\n",
            "### epoch 22 complete.\n",
            "### epoch 23 complete.\n",
            "### epoch 24 complete.\n",
            "### epoch 25 complete.\n",
            "### epoch 26 complete.\n",
            "### epoch 27 complete.\n",
            "### epoch 28 complete.\n",
            "### epoch 29 complete.\n",
            "### epoch 30 complete.\n",
            "### epoch 31 complete.\n",
            "### epoch 32 complete.\n",
            "### epoch 33 complete.\n",
            "### epoch 34 complete.\n",
            "### epoch 35 complete.\n",
            "### epoch 36 complete.\n",
            "### epoch 37 complete.\n",
            "### epoch 38 complete.\n",
            "### epoch 39 complete.\n",
            "### epoch 40 complete.\n",
            "### epoch 41 complete.\n",
            "### epoch 42 complete.\n",
            "### epoch 43 complete.\n",
            "### epoch 44 complete.\n",
            "### epoch 45 complete.\n",
            "### epoch 46 complete.\n",
            "### epoch 47 complete.\n",
            "### epoch 48 complete.\n",
            "### epoch 49 complete.\n",
            "### epoch 50 complete.\n",
            "### epoch 51 complete.\n",
            "### epoch 52 complete.\n",
            "### epoch 53 complete.\n",
            "### epoch 54 complete.\n",
            "### epoch 55 complete.\n",
            "### epoch 56 complete.\n",
            "### epoch 57 complete.\n",
            "### epoch 58 complete.\n",
            "### epoch 59 complete.\n",
            "### epoch 60 complete.\n",
            "### epoch 61 complete.\n",
            "### epoch 62 complete.\n",
            "### epoch 63 complete.\n",
            "### epoch 64 complete.\n",
            "### epoch 65 complete.\n",
            "### epoch 66 complete.\n",
            "### epoch 67 complete.\n",
            "### epoch 68 complete.\n",
            "### epoch 69 complete.\n",
            "### epoch 70 complete.\n",
            "### epoch 71 complete.\n",
            "### epoch 72 complete.\n",
            "### epoch 73 complete.\n",
            "### epoch 74 complete.\n",
            "### epoch 75 complete.\n",
            "### epoch 76 complete.\n",
            "### epoch 77 complete.\n",
            "### epoch 78 complete.\n",
            "### epoch 79 complete.\n",
            "### epoch 80 complete.\n",
            "### epoch 81 complete.\n",
            "### epoch 82 complete.\n",
            "### epoch 83 complete.\n",
            "### epoch 84 complete.\n",
            "### epoch 85 complete.\n",
            "### epoch 86 complete.\n",
            "### epoch 87 complete.\n",
            "### epoch 88 complete.\n",
            "### epoch 89 complete.\n",
            "### epoch 90 complete.\n",
            "### epoch 91 complete.\n",
            "### epoch 92 complete.\n",
            "### epoch 93 complete.\n",
            "### epoch 94 complete.\n",
            "### epoch 95 complete.\n",
            "### epoch 96 complete.\n",
            "### epoch 97 complete.\n",
            "### epoch 98 complete.\n",
            "### epoch 99 complete.\n",
            "### epoch 100 complete.\n",
            "### epoch 101 complete.\n",
            "### epoch 102 complete.\n",
            "### epoch 103 complete.\n",
            "### epoch 104 complete.\n",
            "### epoch 105 complete.\n",
            "### epoch 106 complete.\n",
            "### epoch 107 complete.\n",
            "### epoch 108 complete.\n",
            "### epoch 109 complete.\n",
            "### epoch 110 complete.\n",
            "### epoch 111 complete.\n",
            "### epoch 112 complete.\n",
            "### epoch 113 complete.\n",
            "### epoch 114 complete.\n",
            "### epoch 115 complete.\n",
            "### epoch 116 complete.\n",
            "### epoch 117 complete.\n",
            "### epoch 118 complete.\n",
            "### epoch 119 complete.\n",
            "### epoch 120 complete.\n",
            "### epoch 121 complete.\n",
            "### epoch 122 complete.\n",
            "### epoch 123 complete.\n",
            "### epoch 124 complete.\n",
            "### epoch 125 complete.\n",
            "### epoch 126 complete.\n",
            "### epoch 127 complete.\n",
            "### epoch 128 complete.\n",
            "### epoch 129 complete.\n",
            "### epoch 130 complete.\n",
            "### epoch 131 complete.\n",
            "### epoch 132 complete.\n",
            "### epoch 133 complete.\n",
            "### epoch 134 complete.\n",
            "### epoch 135 complete.\n",
            "### epoch 136 complete.\n",
            "### epoch 137 complete.\n",
            "### epoch 138 complete.\n",
            "### epoch 139 complete.\n",
            "### epoch 140 complete.\n",
            "### epoch 141 complete.\n",
            "### epoch 142 complete.\n",
            "### epoch 143 complete.\n",
            "### epoch 144 complete.\n",
            "### epoch 145 complete.\n",
            "### epoch 146 complete.\n",
            "### epoch 147 complete.\n",
            "### epoch 148 complete.\n",
            "### epoch 149 complete.\n"
          ]
        }
      ],
      "source": [
        "GANTrainer  = Training(minimock_dataset, batch_size = 33)\n",
        "trained_GAN = GANTrainer.train(epochs = 150, k = 4, loss_func=\"WGAN\")"
      ]
    },
    {
      "cell_type": "code",
      "execution_count": 16,
      "metadata": {
        "colab": {
          "base_uri": "https://localhost:8080/",
          "height": 873
        },
        "id": "aZc9_efijxJ8",
        "outputId": "ec843a9d-ed83-474f-ce83-792acd8cf488"
      },
      "outputs": [
        {
          "data": {
            "image/png": "[encoded data removed]",
            "text/plain": [
              "<Figure size 432x288 with 1 Axes>"
            ]
          },
          "metadata": {
            "needs_background": "light"
          },
          "output_type": "display_data"
        },
        {
          "data": {
            "image/png": "[encoded data removed]",
            "text/plain": [
              "<Figure size 432x288 with 1 Axes>"
            ]
          },
          "metadata": {
            "needs_background": "light"
          },
          "output_type": "display_data"
        },
        {
          "data": {
            "image/png": "[encoded data removed]",
            "text/plain": [
              "<Figure size 432x288 with 1 Axes>"
            ]
          },
          "metadata": {
            "needs_background": "light"
          },
          "output_type": "display_data"
        }
      ],
      "source": [
        "plt.title(\"Training losses\")\n",
        "plt.plot(GANTrainer.losses.T)\n",
        "plt.xlabel(\"epoch\")\n",
        "plt.legend([\"Discriminator Loss\", \"Discriminator Real Term\", \"Discriminator Gen Term\", \"Discriminator Reg Term\", \"Generator Loss\"])\n",
        "plt.show()\n",
        "\n",
        "plt.title(\"Batch-averaged Discriminator Probabilities during Training\")\n",
        "plt.plot(GANTrainer.probs.T)\n",
        "plt.xlabel(\"epoch\")\n",
        "plt.ylim(0,1)\n",
        "plt.legend([\"real data\", \"generated data\"])\n",
        "plt.show()\n",
        "\n",
        "plt.title(\"Generator Goodness during Training\")\n",
        "plt.plot(GANTrainer.gen_goodness)\n",
        "plt.xlabel(\"epoch\")\n",
        "plt.ylim(0,1)\n",
        "plt.legend([\"Averaged real-generated difference\"])\n",
        "plt.show()"
      ]
    },
    {
      "cell_type": "code",
      "execution_count": 17,
      "metadata": {
        "colab": {
          "base_uri": "https://localhost:8080/",
          "height": 335
        },
        "id": "9F7kIfKPVVm7",
        "outputId": "2353dec2-3938-4aa8-f3c7-a981f8b3152f"
      },
      "outputs": [
        {
          "name": "stdout",
          "output_type": "stream",
          "text": [
            "Discriminator p(x_gen = real): 85%\n",
            "Discriminator p(x_real = real) = 85%\n"
          ]
        },
        {
          "data": {
            "image/png": "[encoded data removed]",
            "text/plain": [
              "<Figure size 432x288 with 1 Axes>"
            ]
          },
          "metadata": {
            "needs_background": "light"
          },
          "output_type": "display_data"
        }
      ],
      "source": [
        "Gen, Dis = trained_GAN\n",
        "quick_test(Gen, Dis, data = minimock_data)"
      ]
    },
    {
      "cell_type": "code",
      "execution_count": 90,
      "metadata": {},
      "outputs": [
        {
          "name": "stdout",
          "output_type": "stream",
          "text": [
            "Saved training under './trained_models/WGAN-minimock.obj'\n"
          ]
        }
      ],
      "source": [
        "GANTrainer.save(\"WGAN-minimock\")"
      ]
    },
    {
      "cell_type": "markdown",
      "metadata": {
        "id": "HhKtFwOemKR-"
      },
      "source": [
        "## Junk & quick tests"
      ]
    },
    {
      "cell_type": "code",
      "execution_count": null,
      "metadata": {},
      "outputs": [],
      "source": []
    }
  ],
  "metadata": {
    "colab": {
      "collapsed_sections": [],
      "include_colab_link": true,
      "name": "first-music-GAN.ipynb",
      "provenance": []
    },
    "kernelspec": {
      "display_name": "Python 3.10.4 ('aml')",
      "language": "python",
      "name": "python3"
    },
    "language_info": {
      "codemirror_mode": {
        "name": "ipython",
        "version": 3
      },
      "file_extension": ".py",
      "mimetype": "text/x-python",
      "name": "python",
      "nbconvert_exporter": "python",
      "pygments_lexer": "ipython3",
      "version": "3.10.4"
    },
    "vscode": {
      "interpreter": {
        "hash": "e9db57278ae8397bc5fe3bec6b9ba53c33a2aa76e79d386f678fc754e34f9547"
      }
    }
  },
  "nbformat": 4,
  "nbformat_minor": 0
}
