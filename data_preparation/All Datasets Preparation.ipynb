{
 "cells": [
  {
   "cell_type": "markdown",
   "id": "505812a9",
   "metadata": {},
   "source": [
    "# All Dataset Preparation"
   ]
  },
  {
   "cell_type": "markdown",
   "id": "98e45e50",
   "metadata": {},
   "source": [
    "## Installations"
   ]
  },
  {
   "cell_type": "markdown",
   "id": "6432fcba",
   "metadata": {},
   "source": [
    "install\n",
    "1. muspy & pypianoroll via pip install in environment folder\n",
    "2. fluidsynth via conda install -c conda-forge fluidsynth"
   ]
  },
  {
   "cell_type": "code",
   "execution_count": null,
   "id": "a03c9119",
   "metadata": {},
   "outputs": [],
   "source": [
    "from IPython.display import clear_output, Audio, display\n",
    "from ipywidgets import interact, IntSlider\n",
    "\n",
    "import os\n",
    "import os.path\n",
    "import random\n",
    "import datetime\n",
    "import json"
   ]
  },
  {
   "cell_type": "code",
   "execution_count": null,
   "id": "cd333c55",
   "metadata": {},
   "outputs": [],
   "source": [
    "import numpy as np\n",
    "import matplotlib.pyplot as plt\n",
    "import seaborn\n",
    "from tqdm import tqdm # valuebar for iterations"
   ]
  },
  {
   "cell_type": "code",
   "execution_count": null,
   "id": "190f02a0",
   "metadata": {},
   "outputs": [],
   "source": [
    "import muspy\n",
    "import pypianoroll\n",
    "import pretty_midi"
   ]
  },
  {
   "cell_type": "markdown",
   "id": "e57167f7",
   "metadata": {},
   "source": [
    "## Load all datasets"
   ]
  },
  {
   "cell_type": "code",
   "execution_count": null,
   "id": "7e229524",
   "metadata": {},
   "outputs": [],
   "source": [
    "# values:\n",
    "n_pitches = 6*12  # number of pitches\n",
    "lowest_pitch = 2*12  # MIDI note number of the lowest pitch\n",
    "beat_resolution = 4 # temporal resolution of a beat (in timestep), 24 in data, 12 for MusiGAN\n",
    "bars_per_instance = 12 # number of bars per instance in prepared data \n",
    "bar_resolution = 4 * beat_resolution\n",
    "sample_size = 4 * bars_per_instance # number of beats per instance created by track-cropping, 4 bars for MusiGAN\n",
    "\n",
    "genre_list = ['Rap', 'Latin', 'International', 'Electronic', \n",
    "              'Country', 'Folk', 'Blues', 'Reggae', 'Jazz',\n",
    "              'Vocal', 'New-Age', 'RnB', 'Pop_Rock', \"Classical\", \"Game\"] # genre <-> numeric label = index for lpd5"
   ]
  },
  {
   "cell_type": "code",
   "execution_count": null,
   "id": "3ce75459",
   "metadata": {},
   "outputs": [],
   "source": [
    "loaded_file_directory = \"./prepared_data/\"\n",
    "\n",
    "lpd5 = np.load(loaded_file_directory + \"lpd5_12bars/prepared_arrays.npz\")\n",
    "lpd5_data_array, lpd5_label_array = lpd5[\"data\"], lpd5[\"labels\"]\n",
    "\n",
    "maestro = np.load(loaded_file_directory + \"maestro_12bars/prepared_arrays.npz\")\n",
    "maestro_data_array, maestro_label_array = maestro[\"data\"], maestro[\"labels\"]\n",
    "maestro_label_array = np.full(len(maestro_label_array), 13) # convert into numbers\n",
    "\n",
    "nsamdb_train = np.load(loaded_file_directory + \"nsamdb_12bars/prepared_arrays.npz\")\n",
    "nsamdb_data_array_1, nsamdb_label_array_1 = nsamdb_train[\"data\"], nsamdb_train[\"labels\"]\n",
    "\n",
    "nsamdb_test = np.load(loaded_file_directory + \"nsamdb_12bars/prepared_arrays_2.npz\")\n",
    "nsamdb_data_array_2, nsamdb_label_array_2 = nsamdb_test[\"data\"], nsamdb_test[\"labels\"]\n",
    "\n",
    "nsamdb_valid = np.load(loaded_file_directory + \"nsamdb_12bars/prepared_arrays_3.npz\")\n",
    "nsamdb_data_array_3, nsamdb_label_array_3 = nsamdb_valid[\"data\"], nsamdb_valid[\"labels\"]\n",
    "\n",
    "nsamdb_label_array = np.full(len(nsamdb_label_array_1) + len(nsamdb_label_array_2) + len(nsamdb_label_array_3), 14) # convert into numbers "
   ]
  },
  {
   "cell_type": "markdown",
   "id": "b8029c0b",
   "metadata": {},
   "source": [
    "## Combine & evaluate"
   ]
  },
  {
   "cell_type": "code",
   "execution_count": null,
   "id": "238d4e4b",
   "metadata": {},
   "outputs": [],
   "source": [
    "loaded_data_array = np.concatenate((lpd5_data_array, \n",
    "                             maestro_data_array, \n",
    "                             nsamdb_data_array_1, nsamdb_data_array_2, nsamdb_data_array_3), axis = 0)\n",
    "\n",
    "loaded_label_array = np.concatenate((lpd5_label_array, maestro_label_array, nsamdb_label_array), axis = 0)"
   ]
  },
  {
   "cell_type": "code",
   "execution_count": null,
   "id": "40d65ca2",
   "metadata": {},
   "outputs": [],
   "source": [
    "# check no empty ones\n",
    "\n",
    "n = 0\n",
    "for i in range(loaded_data_array.shape[0]):\n",
    "    if not np.any(loaded_data_array[i]):\n",
    "        n += 1\n",
    "    # plot_pianoroll(data_array[i])\n",
    "    \n",
    "print(\"No empty ones?\", n == 0)"
   ]
  },
  {
   "cell_type": "code",
   "execution_count": null,
   "id": "071dc2b0",
   "metadata": {},
   "outputs": [],
   "source": [
    "print(\"Dataset Size:\", len(loaded_label_array))\n",
    "print(\"Lpd5:\", len(lpd5_label_array))\n",
    "print(\"Maestro:\", len(maestro_label_array))\n",
    "print(\"NSA MDB:\", len(nsamdb_label_array))"
   ]
  },
  {
   "cell_type": "code",
   "execution_count": null,
   "id": "96920dff",
   "metadata": {},
   "outputs": [],
   "source": [
    "# plot total pitch range \n",
    "\n",
    "n_pitches_array = loaded_data_array.sum(axis = 1).sum(axis = 0)\n",
    "plt.plot(np.arange(72), n_pitches_array, \"ro\")\n",
    "plt.ylabel(\"# of pitches\")\n",
    "plt.xlabel(\"pitches\")\n",
    "# plt.yscale(\"log\")"
   ]
  },
  {
   "cell_type": "code",
   "execution_count": null,
   "id": "0839e349",
   "metadata": {},
   "outputs": [],
   "source": [
    "# number of data for each genre?\n",
    "\n",
    "plt.hist(loaded_label_array, bins = 15)\n",
    "plt.ylabel(\"# of instances\")\n",
    "plt.xlabel(\"genre label\")\n",
    "\n",
    "print(genre_list)"
   ]
  },
  {
   "cell_type": "markdown",
   "id": "34c3eafd",
   "metadata": {},
   "source": [
    "## Extract biggest Genres"
   ]
  },
  {
   "cell_type": "code",
   "execution_count": null,
   "id": "d5e218f7",
   "metadata": {},
   "outputs": [],
   "source": [
    "extracted_genres = ['Latin', 'Electronic', 'Country', 'RnB', 'Pop_Rock', 'Classical', 'Game']\n",
    "genre_mask = np.full(len(loaded_label_array), False)\n",
    "for genre in extracted_genres:\n",
    "    genre_mask += (loaded_label_array == genre_list.index(genre))\n",
    "\n",
    "extracted_data_array = loaded_data_array[genre_mask]\n",
    "extracted_label_array = loaded_label_array[genre_mask]"
   ]
  },
  {
   "cell_type": "code",
   "execution_count": null,
   "id": "07d23ef0",
   "metadata": {},
   "outputs": [],
   "source": [
    "plt.hist(extracted_label_array, bins = 15)\n",
    "plt.ylabel(\"# of instances\")\n",
    "plt.xlabel(\"genre label\")\n",
    "\n",
    "print(extracted_genres)"
   ]
  },
  {
   "cell_type": "markdown",
   "id": "46ff081e",
   "metadata": {},
   "source": [
    "## rename labels & save"
   ]
  },
  {
   "cell_type": "code",
   "execution_count": null,
   "id": "9cae7b5b",
   "metadata": {},
   "outputs": [],
   "source": [
    "for idx, label in enumerate(extracted_label_array):\n",
    "    extracted_label_array[idx] = extracted_genres.index(genre_list[label])\n",
    "\n",
    "plt.hist(extracted_label_array, bins = 15)\n",
    "plt.ylabel(\"# of instances\")\n",
    "plt.xlabel(\"genre label\")\n",
    "\n",
    "print(extracted_genres)"
   ]
  },
  {
   "cell_type": "code",
   "execution_count": null,
   "id": "ef403469",
   "metadata": {},
   "outputs": [],
   "source": [
    "# save prepared data\n",
    "\n",
    "## create unique file directory to save data\n",
    "timestamp = datetime.datetime.now()\n",
    "file_directory = f\"./prepared_data/datacombi_{timestamp}\"\n",
    "os.makedirs(file_directory)\n",
    "os.makedirs(file_directory + \"/audio_examples\") # for later..\n",
    "\n",
    "## save preparation parameters as json file\n",
    "prep_pars_dict = {\"n_pitches\": n_pitches,\n",
    "                 \"lowest_pitch\": lowest_pitch,\n",
    "                 \"beat_resolution\": beat_resolution, \n",
    "                  \"beats_per_instance\": sample_size,\n",
    "                \"genres\": extracted_genres}\n",
    "with open(file_directory + \"/preparation_params.json\", \"w\") as file:\n",
    "    json.dump(prep_pars_dict, file, indent = 6)\n",
    "\n",
    "## save data as compressed npz files\n",
    "np.savez_compressed(file_directory + \"/prepared_arrays.npz\", data=extracted_data_array, labels=extracted_label_array)"
   ]
  },
  {
   "cell_type": "markdown",
   "id": "69b879ab",
   "metadata": {},
   "source": [
    "## Evaluate Prepared Data"
   ]
  },
  {
   "cell_type": "code",
   "execution_count": null,
   "id": "b4dc900d",
   "metadata": {},
   "outputs": [],
   "source": [
    "# load data\n",
    "\n",
    "loaded_file_directory = file_directory\n",
    "loaded_data = np.load(loaded_file_directory + \"/prepared_arrays.npz\")\n",
    "loaded_data_array, loaded_label_array = loaded_data[\"data\"], loaded_data[\"labels\"]"
   ]
  },
  {
   "cell_type": "code",
   "execution_count": null,
   "id": "db2f5912",
   "metadata": {
    "scrolled": false
   },
   "outputs": [],
   "source": [
    "# convert random instances of loaded data to wave (audio) file & display them\n",
    "\n",
    "n = 20 # number or random examples\n",
    "rand_idxs = np.random.randint(0, len(loaded_label_array), n)\n",
    "\n",
    "for i in tqdm(rand_idxs):\n",
    "    X, y = loaded_data_array[i, :, :], loaded_label_array[i]\n",
    "    \n",
    "    genre_of_X = extracted_genres[y]\n",
    "    \n",
    "    X_padded = np.pad(X, ((0, 0), (lowest_pitch, 128 - lowest_pitch - n_pitches))) # complete pitch range\n",
    "    X_music = muspy.from_pianoroll_representation(X_padded > 0, \n",
    "                resolution = beat_resolution, encode_velocity = False) # convert to muspy.music_object\n",
    "\n",
    "    X_timestamp = datetime.datetime.now()\n",
    "    muspy.write_audio(path = file_directory + f\"/audio_examples/{genre_of_X}_{X_timestamp}.wav\", \n",
    "                      music = X_music) \n",
    "    \n",
    "    # display audio & show pianoroll\n",
    "    print(genre_of_X + \":\")\n",
    "    display(Audio(filename = file_directory + f\"/audio_examples/{genre_of_X}_{X_timestamp}.wav\"))\n",
    "    muspy.visualization.show_pianoroll(X_music)\n",
    "    plt.show()"
   ]
  },
  {
   "cell_type": "code",
   "execution_count": null,
   "id": "764dd437",
   "metadata": {},
   "outputs": [],
   "source": []
  }
 ],
 "metadata": {
  "kernelspec": {
   "display_name": "Python 3 (ipykernel)",
   "language": "python",
   "name": "python3"
  },
  "language_info": {
   "codemirror_mode": {
    "name": "ipython",
    "version": 3
   },
   "file_extension": ".py",
   "mimetype": "text/x-python",
   "name": "python",
   "nbconvert_exporter": "python",
   "pygments_lexer": "ipython3",
   "version": "3.9.12"
  }
 },
 "nbformat": 4,
 "nbformat_minor": 5
}
