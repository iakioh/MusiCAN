{
 "cells": [
  {
   "cell_type": "markdown",
   "metadata": {},
   "source": [
    "## Small notebook to create HTML files for listening to the audio samples"
   ]
  },
  {
   "cell_type": "code",
   "execution_count": 45,
   "metadata": {},
   "outputs": [],
   "source": [
    "repo_link = 'https://github.com/iakioh/MusiCAN/blob/main'\n",
    "#folder    = lambda model : f'audio/{model}'\n",
    "folder    = lambda model : f'experiments/{model}/audio'\n",
    "img_size   = 1   # scaling factor\n",
    "img_width  = 432\n",
    "img_height = 288"
   ]
  },
  {
   "cell_type": "code",
   "execution_count": 46,
   "metadata": {},
   "outputs": [],
   "source": [
    "def make_audio_html (model, sample_count, model_name) :\n",
    "    # Document code\n",
    "    html_lines = [\n",
    "        '<!DOCTYPE html>',\n",
    "        '<html>',\n",
    "        '<body>',\n",
    "        '',\n",
    "        '',\n",
    "        '</body>',\n",
    "        '</html>',\n",
    "    ]\n",
    "\n",
    "    line_break = [\n",
    "            '',\n",
    "            '<br>',\n",
    "        ]\n",
    "\n",
    "    # Insert audio and image files\n",
    "    insert_pos = -3\n",
    "    for i in range(sample_count) :\n",
    "        audio_lines = [\n",
    "            '',\n",
    "            '<audio controls>',\n",
    "            f'<source src=\"{repo_link}/{folder(model)}/{i}.wav?raw=true\" type=\"audio/wav\">',\n",
    "            '</audio>',\n",
    "        ]\n",
    "\n",
    "        image_lines = [\n",
    "            '',\n",
    "            f'<img src=\"{repo_link}/{folder(model)}/{i}.png?raw=true\" width=\"{img_size * img_width}\" height=\"{img_size * img_height}\">',\n",
    "        ]\n",
    "\n",
    "        html_lines[insert_pos:insert_pos] = audio_lines\n",
    "        html_lines[insert_pos:insert_pos] = image_lines\n",
    "        html_lines[insert_pos:insert_pos] = line_break\n",
    "    \n",
    "\n",
    "    # Insert title on top\n",
    "    title_pos = 4\n",
    "    title_lines = [\n",
    "        '',\n",
    "        f'<h3> Randomly sampled music of the {model_name} </h3>',\n",
    "        ''\n",
    "    ]\n",
    "    html_lines[title_pos:title_pos] = title_lines\n",
    "\n",
    "\n",
    "    # Add linebreaks for every string\n",
    "    length = len(html_lines)\n",
    "    for i in range(length) :\n",
    "        html_lines.insert(length - i, '\\n')\n",
    "\n",
    "\n",
    "    # Save to file\n",
    "    with open(\"test.html\", 'w') as file :\n",
    "        file.writelines(html_lines)"
   ]
  },
  {
   "cell_type": "code",
   "execution_count": 56,
   "metadata": {},
   "outputs": [],
   "source": [
    "make_audio_html(\"datacombi_1/musican\", 5, \"MusiCAN model on DC1\")"
   ]
  }
 ],
 "metadata": {
  "kernelspec": {
   "display_name": "Python 3.8.9 64-bit",
   "language": "python",
   "name": "python3"
  },
  "language_info": {
   "codemirror_mode": {
    "name": "ipython",
    "version": 3
   },
   "file_extension": ".py",
   "mimetype": "text/x-python",
   "name": "python",
   "nbconvert_exporter": "python",
   "pygments_lexer": "ipython3",
   "version": "3.8.9"
  },
  "orig_nbformat": 4,
  "vscode": {
   "interpreter": {
    "hash": "31f2aee4e71d21fbe5cf8b01ff0e069b9275f58929596ceb00d14d90e3e16cd6"
   }
  }
 },
 "nbformat": 4,
 "nbformat_minor": 2
}
